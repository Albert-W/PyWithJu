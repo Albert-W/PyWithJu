{
 "cells": [
  {
   "cell_type": "code",
   "execution_count": 1,
   "metadata": {},
   "outputs": [],
   "source": [
    "import torch"
   ]
  },
  {
   "cell_type": "code",
   "execution_count": 2,
   "metadata": {},
   "outputs": [
    {
     "name": "stdout",
     "output_type": "stream",
     "text": [
      "1.3.0\n"
     ]
    }
   ],
   "source": [
    "print(torch.__version__)"
   ]
  },
  {
   "cell_type": "markdown",
   "metadata": {},
   "source": [
    "### 基本数学运算"
   ]
  },
  {
   "cell_type": "code",
   "execution_count": 3,
   "metadata": {},
   "outputs": [
    {
     "name": "stdout",
     "output_type": "stream",
     "text": [
      "Vector:\t\t tensor([1, 2, 3, 4])\n",
      "Vector Shape:\t torch.Size([4])\n"
     ]
    }
   ],
   "source": [
    "# 定义向量\n",
    "vector = torch.tensor([1,2,3,4])\n",
    "print('Vector:\\t\\t', vector)\n",
    "print('Vector Shape:\\t', vector.shape)"
   ]
  },
  {
   "cell_type": "code",
   "execution_count": 6,
   "metadata": {},
   "outputs": [
    {
     "name": "stdout",
     "output_type": "stream",
     "text": [
      "Matrix:\n",
      " tensor([[1, 2],\n",
      "        [3, 4]])\n",
      "Matrix Shape:\n",
      " torch.Size([2, 2])\n"
     ]
    }
   ],
   "source": [
    "# 定义矩阵\n",
    "matrix = torch.tensor([[1,2],[3,4]])\n",
    "print('Matrix:\\n', matrix)\n",
    "print('Matrix Shape:\\n', matrix.shape)"
   ]
  },
  {
   "cell_type": "code",
   "execution_count": 7,
   "metadata": {},
   "outputs": [
    {
     "name": "stdout",
     "output_type": "stream",
     "text": [
      "Tensor:\n",
      " tensor([[[1, 2],\n",
      "         [3, 4]],\n",
      "\n",
      "        [[1, 2],\n",
      "         [3, 4]]])\n",
      "Tensor Shape:\n",
      " torch.Size([2, 2, 2])\n"
     ]
    }
   ],
   "source": [
    "# 定义张量\n",
    "tensor = torch.tensor([ [[1,2],[3,4]],[[1,2],[3,4]] ])\n",
    "print('Tensor:\\n', tensor)\n",
    "print('Tensor Shape:\\n', tensor.shape)"
   ]
  },
  {
   "cell_type": "markdown",
   "metadata": {},
   "source": [
    "### autograd"
   ]
  },
  {
   "cell_type": "code",
   "execution_count": 8,
   "metadata": {},
   "outputs": [
    {
     "name": "stdout",
     "output_type": "stream",
     "text": [
      "tensor([[1., 1.],\n",
      "        [1., 1.]], requires_grad=True)\n"
     ]
    }
   ],
   "source": [
    "x = torch.ones(2,2, requires_grad = True)\n",
    "print(x)"
   ]
  },
  {
   "cell_type": "code",
   "execution_count": 9,
   "metadata": {},
   "outputs": [
    {
     "name": "stdout",
     "output_type": "stream",
     "text": [
      "tensor([[3., 3.],\n",
      "        [3., 3.]], grad_fn=<AddBackward0>)\n",
      "tensor([[12., 12.],\n",
      "        [12., 12.]], grad_fn=<AddBackward0>)\n",
      "tensor(12., grad_fn=<MeanBackward0>)\n"
     ]
    }
   ],
   "source": [
    "y = x+2\n",
    "z = y*y + 3\n",
    "out = z.mean()\n",
    "print(y)\n",
    "print(z)\n",
    "print(out)"
   ]
  },
  {
   "cell_type": "code",
   "execution_count": 10,
   "metadata": {},
   "outputs": [],
   "source": [
    "out.backward()"
   ]
  },
  {
   "cell_type": "code",
   "execution_count": 11,
   "metadata": {},
   "outputs": [
    {
     "name": "stdout",
     "output_type": "stream",
     "text": [
      "tensor([[1.5000, 1.5000],\n",
      "        [1.5000, 1.5000]])\n"
     ]
    }
   ],
   "source": [
    "print(x.grad)"
   ]
  },
  {
   "cell_type": "code",
   "execution_count": 13,
   "metadata": {},
   "outputs": [
    {
     "name": "stdout",
     "output_type": "stream",
     "text": [
      "tensor([[2., 2.],\n",
      "        [2., 2.]])\n"
     ]
    }
   ],
   "source": [
    "with torch.no_grad():\n",
    "    k = x + 1\n",
    "    print(k)"
   ]
  },
  {
   "cell_type": "markdown",
   "metadata": {},
   "source": [
    "### 简易神经网络"
   ]
  },
  {
   "cell_type": "code",
   "execution_count": 14,
   "metadata": {},
   "outputs": [],
   "source": [
    "import torch\n",
    "import torch.nn as nn\n",
    "import torch.nn.functional as F"
   ]
  },
  {
   "cell_type": "code",
   "execution_count": 15,
   "metadata": {},
   "outputs": [],
   "source": [
    "# 定义神经网络的结构 \n",
    "class Net(nn.Module):\n",
    "    def __init__(self): #定义神经网络结构，输入数据 1*32*32 （一个频道的图片）\n",
    "        super(Net, self).__init__()\n",
    "        # 第一层 卷积层 输入频道1，输出频道6，卷积3*3\n",
    "        self.conv1 = nn.Conv2d(1,6,3)\n",
    "        # 第二层 卷积层 输入频道6，输出频道16，卷积3*3\n",
    "        self.conv2 = nn.Conv2d(6,16,3)\n",
    "        # 第三层 全连接层 输入维度16*（32-2-2）*（32-2*2），输出维度512 \n",
    "        self.fc1 = nn.Linear(16*28*28, 512)\n",
    "        # 第四层 全连接层 输入维度512， 输出维度64\n",
    "        self.fc2 = nn.Linear(512,64)\n",
    "        # 第五层 全连接层 输入维度64， 输出维度2\n",
    "        self.fc3 = nn.Linear(64,2)\n",
    "    # 定义数据流向\n",
    "    def forward(self, x):\n",
    "        x = self.conv1(x)\n",
    "        x = F.relu(x)\n",
    "        \n",
    "        x = self.conv2(x)\n",
    "        x = F.relu(x)\n",
    "        \n",
    "        x = x.view(-1, 16*28*28)\n",
    "        x = self.fc1(x)\n",
    "        x = F.relu(x)\n",
    "        \n",
    "        x = self.fc2(x)\n",
    "        x = F.relu(x)       \n",
    "\n",
    "        x = self.fc3(x)\n",
    "        return x "
   ]
  },
  {
   "cell_type": "code",
   "execution_count": 16,
   "metadata": {
    "scrolled": true
   },
   "outputs": [
    {
     "name": "stdout",
     "output_type": "stream",
     "text": [
      "Net(\n",
      "  (conv1): Conv2d(1, 6, kernel_size=(3, 3), stride=(1, 1))\n",
      "  (conv2): Conv2d(6, 16, kernel_size=(3, 3), stride=(1, 1))\n",
      "  (fc1): Linear(in_features=12544, out_features=512, bias=True)\n",
      "  (fc2): Linear(in_features=512, out_features=64, bias=True)\n",
      "  (fc3): Linear(in_features=64, out_features=2, bias=True)\n",
      ")\n"
     ]
    }
   ],
   "source": [
    "net = Net()\n",
    "print(net)"
   ]
  },
  {
   "cell_type": "code",
   "execution_count": 17,
   "metadata": {},
   "outputs": [
    {
     "name": "stdout",
     "output_type": "stream",
     "text": [
      "tensor([[[[ 0.0538, -1.1829,  0.6292,  ..., -0.2008,  2.0629,  0.0507],\n",
      "          [-3.6702,  0.3457,  1.0183,  ..., -0.2030,  0.2603,  1.3901],\n",
      "          [ 0.2676, -0.0787, -0.9515,  ..., -0.3650, -0.4259,  1.8939],\n",
      "          ...,\n",
      "          [-1.0673, -2.0431,  0.3687,  ..., -0.9156, -1.2444, -0.2700],\n",
      "          [-0.4933, -0.5091, -2.0136,  ..., -2.5142,  0.0432,  0.8797],\n",
      "          [ 0.9163,  0.7108, -1.0788,  ...,  0.1581,  0.3442,  0.5434]]]])\n",
      "torch.Size([1, 1, 32, 32])\n"
     ]
    }
   ],
   "source": [
    "# 生成随机输入\n",
    "input_data = torch.randn(1,1,32,32)\n",
    "print(input_data)\n",
    "print(input_data.size())"
   ]
  },
  {
   "cell_type": "code",
   "execution_count": 18,
   "metadata": {},
   "outputs": [
    {
     "name": "stdout",
     "output_type": "stream",
     "text": [
      "tensor([[-0.0050, -0.0123]], grad_fn=<AddmmBackward>)\n",
      "torch.Size([1, 2])\n"
     ]
    }
   ],
   "source": [
    "# 运行神经网络\n",
    "out = net(input_data)\n",
    "print(out)\n",
    "print(out.size())"
   ]
  },
  {
   "cell_type": "code",
   "execution_count": 19,
   "metadata": {},
   "outputs": [
    {
     "name": "stdout",
     "output_type": "stream",
     "text": [
      "tensor([[-0.1658, -0.2020]])\n"
     ]
    }
   ],
   "source": [
    "# 随机生成Target\n",
    "target = torch.randn(2)\n",
    "target = target.view(1,-1)\n",
    "print(target)"
   ]
  },
  {
   "cell_type": "code",
   "execution_count": 20,
   "metadata": {},
   "outputs": [
    {
     "name": "stdout",
     "output_type": "stream",
     "text": [
      "tensor(0.1753, grad_fn=<L1LossBackward>)\n"
     ]
    }
   ],
   "source": [
    "# 定义损失函数\n",
    "criterion = nn.L1Loss()\n",
    "loss = criterion(out, target)\n",
    "print(loss)"
   ]
  },
  {
   "cell_type": "code",
   "execution_count": 21,
   "metadata": {},
   "outputs": [],
   "source": [
    "# 反向传递\n",
    "# 清零所有梯度\n",
    "net.zero_grad()\n",
    "loss.backward() # 自动计算梯度，反向传递"
   ]
  },
  {
   "cell_type": "code",
   "execution_count": 23,
   "metadata": {},
   "outputs": [],
   "source": [
    "# 更新权重， 定义更新规则 \n",
    "import torch.optim as optim\n",
    "optimizer = optim.SGD(net.parameters(), lr= 0.01)\n",
    "optimizer.step()"
   ]
  },
  {
   "cell_type": "code",
   "execution_count": 24,
   "metadata": {},
   "outputs": [
    {
     "name": "stdout",
     "output_type": "stream",
     "text": [
      "tensor([[-0.0572, -0.0621]], grad_fn=<AddmmBackward>)\n",
      "torch.Size([1, 2])\n"
     ]
    }
   ],
   "source": [
    "# 再次运行神经网络\n",
    "out = net(input_data)\n",
    "print(out)\n",
    "print(out.size())"
   ]
  },
  {
   "cell_type": "code",
   "execution_count": 25,
   "metadata": {},
   "outputs": [
    {
     "name": "stdout",
     "output_type": "stream",
     "text": [
      "tensor(0.1243, grad_fn=<L1LossBackward>)\n"
     ]
    }
   ],
   "source": [
    "loss = criterion(out, target) # 第二次的损失更小\n",
    "print(loss) "
   ]
  },
  {
   "cell_type": "code",
   "execution_count": null,
   "metadata": {},
   "outputs": [],
   "source": []
  }
 ],
 "metadata": {
  "kernelspec": {
   "display_name": "Python 3",
   "language": "python",
   "name": "python3"
  },
  "language_info": {
   "codemirror_mode": {
    "name": "ipython",
    "version": 3
   },
   "file_extension": ".py",
   "mimetype": "text/x-python",
   "name": "python",
   "nbconvert_exporter": "python",
   "pygments_lexer": "ipython3",
   "version": "3.7.3"
  }
 },
 "nbformat": 4,
 "nbformat_minor": 2
}
