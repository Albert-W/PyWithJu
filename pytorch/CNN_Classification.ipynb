{
 "cells": [
  {
   "cell_type": "code",
   "execution_count": 1,
   "metadata": {},
   "outputs": [],
   "source": [
    "import torch\n",
    "import torchvision\n",
    "import torchvision.transforms as transforms"
   ]
  },
  {
   "cell_type": "code",
   "execution_count": 2,
   "metadata": {},
   "outputs": [],
   "source": [
    "# 定义归一化的方法\n",
    "transform = transforms.Compose(\n",
    "    [\n",
    "        transforms.ToTensor(),\n",
    "        transforms.Normalize( (0.5,0.5,0.5), (0.5,0.5,0.5))\n",
    "    ]\n",
    ")"
   ]
  },
  {
   "cell_type": "code",
   "execution_count": 3,
   "metadata": {},
   "outputs": [
    {
     "name": "stderr",
     "output_type": "stream",
     "text": [
      "\r",
      "0it [00:00, ?it/s]"
     ]
    },
    {
     "name": "stdout",
     "output_type": "stream",
     "text": [
      "Downloading https://www.cs.toronto.edu/~kriz/cifar-10-python.tar.gz to ./data/cifar-10-python.tar.gz\n"
     ]
    },
    {
     "name": "stderr",
     "output_type": "stream",
     "text": [
      "100%|█████████▉| 170008576/170498071 [01:07<00:00, 3467839.38it/s]"
     ]
    },
    {
     "name": "stdout",
     "output_type": "stream",
     "text": [
      "Extracting ./data/cifar-10-python.tar.gz to ./data\n"
     ]
    }
   ],
   "source": [
    "# 训练数据集\n",
    "trainset = torchvision.datasets.CIFAR10(root='./data', train=True,\n",
    "                                       download=True, transform=transform)\n",
    "trainloader = torch.utils.data.DataLoader(trainset, batch_size=4,\n",
    "                                         shuffle=True,num_workers=2)\n"
   ]
  },
  {
   "cell_type": "code",
   "execution_count": 4,
   "metadata": {},
   "outputs": [
    {
     "name": "stdout",
     "output_type": "stream",
     "text": [
      "Files already downloaded and verified\n"
     ]
    },
    {
     "name": "stderr",
     "output_type": "stream",
     "text": [
      "\r",
      "170500096it [01:20, 3467839.38it/s]                               "
     ]
    }
   ],
   "source": [
    "# 测试数据集\n",
    "testset = torchvision.datasets.CIFAR10(root='./data', train=False,\n",
    "                                       download=True, transform=transform)\n",
    "testloader = torch.utils.data.DataLoader(testset, batch_size=4,\n",
    "                                         shuffle=True,num_workers=2)"
   ]
  },
  {
   "cell_type": "code",
   "execution_count": 5,
   "metadata": {},
   "outputs": [
    {
     "data": {
      "image/png": "[encoded data removed]",
      "text/plain": [
       "<Figure size 432x288 with 1 Axes>"
      ]
     },
     "metadata": {
      "needs_background": "light"
     },
     "output_type": "display_data"
    }
   ],
   "source": [
    "import matplotlib.pyplot as plt\n",
    "import numpy as np\n",
    "%matplotlib inline\n",
    "\n",
    "def imshow(img):\n",
    "    # 输入数据： torch.tensor [c,h,w]\n",
    "    img = img / 2 + 0.5\n",
    "    nping = img.numpy()\n",
    "    nping = np.transpose(nping, (1,2,0)) #[h,w,c]\n",
    "    plt.imshow(nping)\n",
    "    \n",
    "dataiter = iter(trainloader) # 随机加载一个mini batch\n",
    "images, labels = dataiter.next() \n",
    "imshow(torchvision.utils.make_grid(images))"
   ]
  },
  {
   "cell_type": "code",
   "execution_count": 6,
   "metadata": {},
   "outputs": [],
   "source": [
    "# 定义神经网络的结构 \n",
    "import torch.nn as nn\n",
    "import torch.nn.functional as F\n",
    "class Net(nn.Module):\n",
    "    def __init__(self): #定义神经网络结构，输入数据 3*32*32 （一个频道的图片）\n",
    "        super(Net, self).__init__()\n",
    "        # 第一层 卷积层 输入频道1，输出频道6，卷积3*3\n",
    "        self.conv1 = nn.Conv2d(3,6,3)\n",
    "        # 第二层 卷积层 输入频道6，输出频道16，卷积3*3\n",
    "        self.conv2 = nn.Conv2d(6,16,3)\n",
    "        # 第三层 全连接层 输入维度16*（32-2-2）*（32-2*2），输出维度512 \n",
    "        self.fc1 = nn.Linear(16*28*28, 512)\n",
    "        # 第四层 全连接层 输入维度512， 输出维度64\n",
    "        self.fc2 = nn.Linear(512,64)\n",
    "        # 第五层 全连接层 输入维度64， 输出维度10\n",
    "        self.fc3 = nn.Linear(64,10)\n",
    "    # 定义数据流向\n",
    "    def forward(self, x):\n",
    "        x = self.conv1(x)\n",
    "        x = F.relu(x)\n",
    "        \n",
    "        x = self.conv2(x)\n",
    "        x = F.relu(x)\n",
    "        \n",
    "        x = x.view(-1, 16*28*28)\n",
    "        x = self.fc1(x)\n",
    "        x = F.relu(x)\n",
    "        \n",
    "        x = self.fc2(x)\n",
    "        x = F.relu(x)       \n",
    "\n",
    "        x = self.fc3(x)\n",
    "        return x "
   ]
  },
  {
   "cell_type": "code",
   "execution_count": 10,
   "metadata": {},
   "outputs": [],
   "source": [
    "net = Net()"
   ]
  },
  {
   "cell_type": "code",
   "execution_count": 11,
   "metadata": {},
   "outputs": [],
   "source": [
    "# 定义损失函数\n",
    "criterion = nn.CrossEntropyLoss() # 训练分离器最常用。"
   ]
  },
  {
   "cell_type": "code",
   "execution_count": 12,
   "metadata": {},
   "outputs": [],
   "source": [
    "# 定义权重更新规则 \n",
    "import torch.optim as optim\n",
    "optimizer = optim.SGD(net.parameters(), lr= 0.001, momentum = 0.9)"
   ]
  },
  {
   "cell_type": "code",
   "execution_count": 13,
   "metadata": {},
   "outputs": [
    {
     "name": "stdout",
     "output_type": "stream",
     "text": [
      "Epoch: 0, Step: 0, Loss: 2.293\n",
      "Epoch: 0, Step: 1000, Loss: 1.384\n",
      "Epoch: 0, Step: 2000, Loss: 1.392\n",
      "Epoch: 0, Step: 3000, Loss: 1.409\n",
      "Epoch: 0, Step: 4000, Loss: 1.393\n",
      "Epoch: 0, Step: 5000, Loss: 1.391\n",
      "Epoch: 0, Step: 6000, Loss: 1.393\n",
      "Epoch: 0, Step: 7000, Loss: 1.391\n",
      "Epoch: 0, Step: 8000, Loss: 1.381\n",
      "Epoch: 0, Step: 9000, Loss: 1.390\n",
      "Epoch: 0, Step: 10000, Loss: 1.390\n",
      "Epoch: 0, Step: 11000, Loss: 1.384\n",
      "Epoch: 0, Step: 12000, Loss: 1.386\n",
      "Epoch: 1, Step: 0, Loss: 1.381\n",
      "Epoch: 1, Step: 1000, Loss: 1.386\n",
      "Epoch: 1, Step: 2000, Loss: 1.384\n",
      "Epoch: 1, Step: 3000, Loss: 1.385\n",
      "Epoch: 1, Step: 4000, Loss: 1.392\n",
      "Epoch: 1, Step: 5000, Loss: 1.388\n",
      "Epoch: 1, Step: 6000, Loss: 1.386\n",
      "Epoch: 1, Step: 7000, Loss: 1.394\n",
      "Epoch: 1, Step: 8000, Loss: 1.383\n",
      "Epoch: 1, Step: 9000, Loss: 1.391\n",
      "Epoch: 1, Step: 10000, Loss: 1.379\n",
      "Epoch: 1, Step: 11000, Loss: 1.395\n",
      "Epoch: 1, Step: 12000, Loss: 1.385\n"
     ]
    }
   ],
   "source": [
    "# 开始训练\n",
    "# 轮数为epoch, 2轮都太张时间了，半小时。 \n",
    "for epoch in range(1): \n",
    "    # 步数为i\n",
    "    for i, data in enumerate(trainloader):\n",
    "        images, lables = data \n",
    "        outputs = net(images)\n",
    "        loss = criterion(outputs, labels) #计算损失\n",
    "        optimizer.zero_grad() # 梯度清零\n",
    "        loss.backward() # 反向训练\n",
    "        optimizer.step() # 更新一次\n",
    "        if(i%1000 == 0):\n",
    "            print('Epoch: %d, Step: %d, Loss: %.3f' %(epoch,i, loss.item()))"
   ]
  },
  {
   "cell_type": "markdown",
   "metadata": {},
   "source": [
    "学习速率减低，波动减少，速度变慢。 \n",
    "\n",
    "可能因此随机图片，造成另一个波动。 "
   ]
  },
  {
   "cell_type": "code",
   "execution_count": 15,
   "metadata": {},
   "outputs": [
    {
     "name": "stdout",
     "output_type": "stream",
     "text": [
      "准确率:  0.1205\n"
     ]
    }
   ],
   "source": [
    "# 测试模型\n",
    "# 得到准确率\n",
    "correct = 0.0\n",
    "total = 0.0 \n",
    "with torch.no_grad():\n",
    "    for data in testloader:\n",
    "        images, labels = data\n",
    "        outputs = net(images) # 得到该图在每个类的概率\n",
    "        _, predicted = torch.max(outputs.data, 1) # 得到最大概率的分类\n",
    "        correct += (predicted == labels).sum() # minibach \n",
    "        total += labels.size(0)\n",
    "        \n",
    "print('准确率: ', float(correct)/total)"
   ]
  },
  {
   "cell_type": "code",
   "execution_count": 16,
   "metadata": {},
   "outputs": [],
   "source": [
    "# 保存模型\n",
    "torch.save(net.state_dict(), './model.pt')"
   ]
  },
  {
   "cell_type": "code",
   "execution_count": 17,
   "metadata": {},
   "outputs": [
    {
     "name": "stdout",
     "output_type": "stream",
     "text": [
      "准确率:  0.0973\n"
     ]
    }
   ],
   "source": [
    "# 空模型的正确率：0.0973\n",
    "net_2 = Net()\n",
    "\n",
    "correct = 0.0\n",
    "total = 0.0 \n",
    "with torch.no_grad():\n",
    "    for data in testloader:\n",
    "        images, labels = data\n",
    "        outputs = net_2(images) # 得到该图在每个类的概率\n",
    "        _, predicted = torch.max(outputs.data, 1) # 得到最大概率的分类\n",
    "        correct += (predicted == labels).sum() # minibach \n",
    "        total += labels.size(0)\n",
    "        \n",
    "print('准确率: ', float(correct)/total)"
   ]
  },
  {
   "cell_type": "code",
   "execution_count": 18,
   "metadata": {},
   "outputs": [
    {
     "data": {
      "text/plain": [
       "<All keys matched successfully>"
      ]
     },
     "execution_count": 18,
     "metadata": {},
     "output_type": "execute_result"
    }
   ],
   "source": [
    "# 载入模型\n",
    "net_2.load_state_dict(torch.load('./model.pt'))"
   ]
  },
  {
   "cell_type": "code",
   "execution_count": 19,
   "metadata": {},
   "outputs": [
    {
     "name": "stdout",
     "output_type": "stream",
     "text": [
      "准确率:  0.1205\n"
     ]
    }
   ],
   "source": [
    "correct = 0.0\n",
    "total = 0.0 \n",
    "with torch.no_grad():\n",
    "    for data in testloader:\n",
    "        images, labels = data\n",
    "        outputs = net_2(images) # 得到该图在每个类的概率\n",
    "        _, predicted = torch.max(outputs.data, 1) # 得到最大概率的分类\n",
    "        correct += (predicted == labels).sum() # minibach \n",
    "        total += labels.size(0)\n",
    "        \n",
    "print('准确率: ', float(correct)/total)"
   ]
  },
  {
   "cell_type": "code",
   "execution_count": null,
   "metadata": {},
   "outputs": [],
   "source": []
  }
 ],
 "metadata": {
  "kernelspec": {
   "display_name": "Python 3",
   "language": "python",
   "name": "python3"
  },
  "language_info": {
   "codemirror_mode": {
    "name": "ipython",
    "version": 3
   },
   "file_extension": ".py",
   "mimetype": "text/x-python",
   "name": "python",
   "nbconvert_exporter": "python",
   "pygments_lexer": "ipython3",
   "version": "3.7.3"
  }
 },
 "nbformat": 4,
 "nbformat_minor": 2
}
