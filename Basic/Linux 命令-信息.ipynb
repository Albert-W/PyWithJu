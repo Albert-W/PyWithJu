{
 "cells": [
  {
   "cell_type": "markdown",
   "metadata": {},
   "source": [
    "### 系统信息"
   ]
  },
  {
   "cell_type": "code",
   "execution_count": 36,
   "metadata": {},
   "outputs": [
    {
     "name": "stdout",
     "output_type": "stream",
     "text": [
      "No LSB modules are available.\n",
      "Distributor ID:\tUbuntu\n",
      "Description:\tUbuntu 18.04.2 LTS\n",
      "Release:\t18.04\n",
      "Codename:\tbionic\n"
     ]
    }
   ],
   "source": [
    "lsb_release -a  #查看版本信息"
   ]
  },
  {
   "cell_type": "code",
   "execution_count": 14,
   "metadata": {},
   "outputs": [
    {
     "name": "stdout",
     "output_type": "stream",
     "text": [
      "Ubuntu 18.04.2 LTS \\n \\l\n"
     ]
    }
   ],
   "source": [
    "head -n 1 /etc/issue "
   ]
  },
  {
   "cell_type": "code",
   "execution_count": 16,
   "metadata": {},
   "outputs": [
    {
     "name": "stdout",
     "output_type": "stream",
     "text": [
      "Linux DESKTOP-H5LI4PL 4.4.0-17763-Microsoft #379-Microsoft Wed Mar 06 19:16:00 PST 2019 x86_64 x86_64 x86_64 GNU/Linux\n"
     ]
    }
   ],
   "source": [
    "uname -a #内核/操作系统/CPU信息"
   ]
  },
  {
   "cell_type": "code",
   "execution_count": 17,
   "metadata": {
    "scrolled": true
   },
   "outputs": [
    {
     "name": "stdout",
     "output_type": "stream",
     "text": [
      "Ubuntu 18.04.2 LTS \\n \\l\n",
      "\n"
     ]
    }
   ],
   "source": [
    "cat /etc/issue "
   ]
  },
  {
   "cell_type": "code",
   "execution_count": 18,
   "metadata": {},
   "outputs": [
    {
     "name": "stdout",
     "output_type": "stream",
     "text": [
      "Linux version 4.4.0-17763-Microsoft (Microsoft@Microsoft.com) (gcc version 5.4.0 (GCC) ) #379-Microsoft Wed Mar 06 19:16:00 PST 2019\n"
     ]
    }
   ],
   "source": [
    "cat /proc/version #包含GCC的版本信息"
   ]
  },
  {
   "cell_type": "code",
   "execution_count": 20,
   "metadata": {},
   "outputs": [
    {
     "name": "stdout",
     "output_type": "stream",
     "text": [
      "processor\t: 0\n",
      "vendor_id\t: GenuineIntel\n",
      "cpu family\t: 6\n",
      "model\t\t: 142\n",
      "model name\t: Intel(R) Core(TM) i5-8250U CPU @ 1.60GHz\n",
      "stepping\t: 10\n",
      "microcode\t: 0xffffffff\n",
      "cpu MHz\t\t: 1801.000\n",
      "cache size\t: 256 KB\n",
      "physical id\t: 0\n",
      "siblings\t: 8\n",
      "core id\t\t: 0\n",
      "cpu cores\t: 4\n",
      "apicid\t\t: 0\n",
      "initial apicid\t: 0\n",
      "fpu\t\t: yes\n",
      "fpu_exception\t: yes\n",
      "cpuid level\t: 6\n",
      "wp\t\t: yes\n",
      "flags\t\t: fpu vme de pse tsc msr pae mce cx8 apic sep mtrr pge mca cmov pat pse36 clflush dts acpi mmx fxsr sse sse2 ss ht tm pbe syscall nx pdpe1gb rdtscp lm pni pclmulqdq dtes64 monitor ds_cpl vmx est tm2 ssse3 fma cx16 xtpr pdcm pcid sse4_1 sse4_2 x2apic movbe popcnt tsc_deadline_timer aes xsave osxsave avx f16c rdrand\n",
      "bogomips\t: 3602.00\n",
      "clflush size\t: 64\n",
      "cache_alignment\t: 64\n",
      "address sizes\t: 36 bits physical, 48 bits virtual\n",
      "power management:\n",
      "\n",
      "processor\t: 1\n",
      "vendor_id\t: GenuineIntel\n",
      "cpu family\t: 6\n",
      "model\t\t: 142\n",
      "model name\t: Intel(R) Core(TM) i5-8250U CPU @ 1.60GHz\n",
      "stepping\t: 10\n",
      "microcode\t: 0xffffffff\n",
      "cpu MHz\t\t: 1801.000\n",
      "cache size\t: 256 KB\n",
      "physical id\t: 0\n",
      "siblings\t: 8\n",
      "core id\t\t: 0\n",
      "cpu cores\t: 4\n",
      "apicid\t\t: 0\n",
      "initial apicid\t: 0\n",
      "fpu\t\t: yes\n",
      "fpu_exception\t: yes\n",
      "cpuid level\t: 6\n",
      "wp\t\t: yes\n",
      "flags\t\t: fpu vme de pse tsc msr pae mce cx8 apic sep mtrr pge mca cmov pat pse36 clflush dts acpi mmx fxsr sse sse2 ss ht tm pbe syscall nx pdpe1gb rdtscp lm pni pclmulqdq dtes64 monitor ds_cpl vmx est tm2 ssse3 fma cx16 xtpr pdcm pcid sse4_1 sse4_2 x2apic movbe popcnt tsc_deadline_timer aes xsave osxsave avx f16c rdrand\n",
      "bogomips\t: 3602.00\n",
      "clflush size\t: 64\n",
      "cache_alignment\t: 64\n",
      "address sizes\t: 36 bits physical, 48 bits virtual\n",
      "power management:\n",
      "\n",
      "processor\t: 2\n",
      "vendor_id\t: GenuineIntel\n",
      "cpu family\t: 6\n",
      "model\t\t: 142\n",
      "model name\t: Intel(R) Core(TM) i5-8250U CPU @ 1.60GHz\n",
      "stepping\t: 10\n",
      "microcode\t: 0xffffffff\n",
      "cpu MHz\t\t: 1801.000\n",
      "cache size\t: 256 KB\n",
      "physical id\t: 0\n",
      "siblings\t: 8\n",
      "core id\t\t: 1\n",
      "cpu cores\t: 4\n",
      "apicid\t\t: 0\n",
      "initial apicid\t: 0\n",
      "fpu\t\t: yes\n",
      "fpu_exception\t: yes\n",
      "cpuid level\t: 6\n",
      "wp\t\t: yes\n",
      "flags\t\t: fpu vme de pse tsc msr pae mce cx8 apic sep mtrr pge mca cmov pat pse36 clflush dts acpi mmx fxsr sse sse2 ss ht tm pbe syscall nx pdpe1gb rdtscp lm pni pclmulqdq dtes64 monitor ds_cpl vmx est tm2 ssse3 fma cx16 xtpr pdcm pcid sse4_1 sse4_2 x2apic movbe popcnt tsc_deadline_timer aes xsave osxsave avx f16c rdrand\n",
      "bogomips\t: 3602.00\n",
      "clflush size\t: 64\n",
      "cache_alignment\t: 64\n",
      "address sizes\t: 36 bits physical, 48 bits virtual\n",
      "power management:\n",
      "\n",
      "processor\t: 3\n",
      "vendor_id\t: GenuineIntel\n",
      "cpu family\t: 6\n",
      "model\t\t: 142\n",
      "model name\t: Intel(R) Core(TM) i5-8250U CPU @ 1.60GHz\n",
      "stepping\t: 10\n",
      "microcode\t: 0xffffffff\n",
      "cpu MHz\t\t: 1801.000\n",
      "cache size\t: 256 KB\n",
      "physical id\t: 0\n",
      "siblings\t: 8\n",
      "core id\t\t: 1\n",
      "cpu cores\t: 4\n",
      "apicid\t\t: 0\n",
      "initial apicid\t: 0\n",
      "fpu\t\t: yes\n",
      "fpu_exception\t: yes\n",
      "cpuid level\t: 6\n",
      "wp\t\t: yes\n",
      "flags\t\t: fpu vme de pse tsc msr pae mce cx8 apic sep mtrr pge mca cmov pat pse36 clflush dts acpi mmx fxsr sse sse2 ss ht tm pbe syscall nx pdpe1gb rdtscp lm pni pclmulqdq dtes64 monitor ds_cpl vmx est tm2 ssse3 fma cx16 xtpr pdcm pcid sse4_1 sse4_2 x2apic movbe popcnt tsc_deadline_timer aes xsave osxsave avx f16c rdrand\n",
      "bogomips\t: 3602.00\n",
      "clflush size\t: 64\n",
      "cache_alignment\t: 64\n",
      "address sizes\t: 36 bits physical, 48 bits virtual\n",
      "power management:\n",
      "\n",
      "processor\t: 4\n",
      "vendor_id\t: GenuineIntel\n",
      "cpu family\t: 6\n",
      "model\t\t: 142\n",
      "model name\t: Intel(R) Core(TM) i5-8250U CPU @ 1.60GHz\n",
      "stepping\t: 10\n",
      "microcode\t: 0xffffffff\n",
      "cpu MHz\t\t: 1801.000\n",
      "cache size\t: 256 KB\n",
      "physical id\t: 0\n",
      "siblings\t: 8\n",
      "core id\t\t: 2\n",
      "cpu cores\t: 4\n",
      "apicid\t\t: 0\n",
      "initial apicid\t: 0\n",
      "fpu\t\t: yes\n",
      "fpu_exception\t: yes\n",
      "cpuid level\t: 6\n",
      "wp\t\t: yes\n",
      "flags\t\t: fpu vme de pse tsc msr pae mce cx8 apic sep mtrr pge mca cmov pat pse36 clflush dts acpi mmx fxsr sse sse2 ss ht tm pbe syscall nx pdpe1gb rdtscp lm pni pclmulqdq dtes64 monitor ds_cpl vmx est tm2 ssse3 fma cx16 xtpr pdcm pcid sse4_1 sse4_2 x2apic movbe popcnt tsc_deadline_timer aes xsave osxsave avx f16c rdrand\n",
      "bogomips\t: 3602.00\n",
      "clflush size\t: 64\n",
      "cache_alignment\t: 64\n",
      "address sizes\t: 36 bits physical, 48 bits virtual\n",
      "power management:\n",
      "\n",
      "processor\t: 5\n",
      "vendor_id\t: GenuineIntel\n",
      "cpu family\t: 6\n",
      "model\t\t: 142\n",
      "model name\t: Intel(R) Core(TM) i5-8250U CPU @ 1.60GHz\n",
      "stepping\t: 10\n",
      "microcode\t: 0xffffffff\n",
      "cpu MHz\t\t: 1801.000\n",
      "cache size\t: 256 KB\n",
      "physical id\t: 0\n",
      "siblings\t: 8\n",
      "core id\t\t: 2\n",
      "cpu cores\t: 4\n",
      "apicid\t\t: 0\n",
      "initial apicid\t: 0\n",
      "fpu\t\t: yes\n",
      "fpu_exception\t: yes\n",
      "cpuid level\t: 6\n",
      "wp\t\t: yes\n",
      "flags\t\t: fpu vme de pse tsc msr pae mce cx8 apic sep mtrr pge mca cmov pat pse36 clflush dts acpi mmx fxsr sse sse2 ss ht tm pbe syscall nx pdpe1gb rdtscp lm pni pclmulqdq dtes64 monitor ds_cpl vmx est tm2 ssse3 fma cx16 xtpr pdcm pcid sse4_1 sse4_2 x2apic movbe popcnt tsc_deadline_timer aes xsave osxsave avx f16c rdrand\n",
      "bogomips\t: 3602.00\n",
      "clflush size\t: 64\n",
      "cache_alignment\t: 64\n",
      "address sizes\t: 36 bits physical, 48 bits virtual\n",
      "power management:\n",
      "\n",
      "processor\t: 6\n",
      "vendor_id\t: GenuineIntel\n",
      "cpu family\t: 6\n",
      "model\t\t: 142\n",
      "model name\t: Intel(R) Core(TM) i5-8250U CPU @ 1.60GHz\n",
      "stepping\t: 10\n",
      "microcode\t: 0xffffffff\n",
      "cpu MHz\t\t: 1801.000\n",
      "cache size\t: 256 KB\n",
      "physical id\t: 0\n",
      "siblings\t: 8\n",
      "core id\t\t: 3\n",
      "cpu cores\t: 4\n",
      "apicid\t\t: 0\n",
      "initial apicid\t: 0\n",
      "fpu\t\t: yes\n",
      "fpu_exception\t: yes\n",
      "cpuid level\t: 6\n",
      "wp\t\t: yes\n",
      "flags\t\t: fpu vme de pse tsc msr pae mce cx8 apic sep mtrr pge mca cmov pat pse36 clflush dts acpi mmx fxsr sse sse2 ss ht tm pbe syscall nx pdpe1gb rdtscp lm pni pclmulqdq dtes64 monitor ds_cpl vmx est tm2 ssse3 fma cx16 xtpr pdcm pcid sse4_1 sse4_2 x2apic movbe popcnt tsc_deadline_timer aes xsave osxsave avx f16c rdrand\n",
      "bogomips\t: 3602.00\n",
      "clflush size\t: 64\n",
      "cache_alignment\t: 64\n",
      "address sizes\t: 36 bits physical, 48 bits virtual\n",
      "power management:\n",
      "\n",
      "processor\t: 7\n",
      "vendor_id\t: GenuineIntel\n",
      "cpu family\t: 6\n",
      "model\t\t: 142\n",
      "model name\t: Intel(R) Core(TM) i5-8250U CPU @ 1.60GHz\n",
      "stepping\t: 10\n",
      "microcode\t: 0xffffffff\n",
      "cpu MHz\t\t: 1801.000\n",
      "cache size\t: 256 KB\n",
      "physical id\t: 0\n",
      "siblings\t: 8\n",
      "core id\t\t: 3\n",
      "cpu cores\t: 4\n",
      "apicid\t\t: 0\n",
      "initial apicid\t: 0\n",
      "fpu\t\t: yes\n",
      "fpu_exception\t: yes\n",
      "cpuid level\t: 6\n",
      "wp\t\t: yes\n",
      "flags\t\t: fpu vme de pse tsc msr pae mce cx8 apic sep mtrr pge mca cmov pat pse36 clflush dts acpi mmx fxsr sse sse2 ss ht tm pbe syscall nx pdpe1gb rdtscp lm pni pclmulqdq dtes64 monitor ds_cpl vmx est tm2 ssse3 fma cx16 xtpr pdcm pcid sse4_1 sse4_2 x2apic movbe popcnt tsc_deadline_timer aes xsave osxsave avx f16c rdrand\n",
      "bogomips\t: 3602.00\n",
      "clflush size\t: 64\n",
      "cache_alignment\t: 64\n",
      "address sizes\t: 36 bits physical, 48 bits virtual\n",
      "power management:\n",
      "\n"
     ]
    }
   ],
   "source": [
    "cat /proc/cpuinfo  # 查看CPU信息"
   ]
  },
  {
   "cell_type": "code",
   "execution_count": 21,
   "metadata": {},
   "outputs": [
    {
     "name": "stdout",
     "output_type": "stream",
     "text": [
      "DESKTOP-H5LI4PL\n"
     ]
    }
   ],
   "source": [
    "hostname # 查看计算机名"
   ]
  },
  {
   "cell_type": "code",
   "execution_count": 25,
   "metadata": {},
   "outputs": [
    {
     "name": "stdout",
     "output_type": "stream",
     "text": [
      "CONDA_SHLVL=1\n",
      "LC_ALL=zh_CN.UTF-8\n",
      "NVM_DIR=/home/yichang/.nvm\n",
      "LS_COLORS=rs=0:di=01;34:ln=01;36:mh=00:pi=40;33:so=01;35:do=01;35:bd=40;33;01:cd=40;33;01:or=40;31;01:mi=00:su=37;41:sg=30;43:ca=30;41:tw=30;42:ow=34;42:st=37;44:ex=01;32:*.tar=01;31:*.tgz=01;31:*.arc=01;31:*.arj=01;31:*.taz=01;31:*.lha=01;31:*.lz4=01;31:*.lzh=01;31:*.lzma=01;31:*.tlz=01;31:*.txz=01;31:*.tzo=01;31:*.t7z=01;31:*.zip=01;31:*.z=01;31:*.Z=01;31:*.dz=01;31:*.gz=01;31:*.lrz=01;31:*.lz=01;31:*.lzo=01;31:*.xz=01;31:*.zst=01;31:*.tzst=01;31:*.bz2=01;31:*.bz=01;31:*.tbz=01;31:*.tbz2=01;31:*.tz=01;31:*.deb=01;31:*.rpm=01;31:*.jar=01;31:*.war=01;31:*.ear=01;31:*.sar=01;31:*.rar=01;31:*.alz=01;31:*.ace=01;31:*.zoo=01;31:*.cpio=01;31:*.7z=01;31:*.rz=01;31:*.cab=01;31:*.wim=01;31:*.swm=01;31:*.dwm=01;31:*.esd=01;31:*.jpg=01;35:*.jpeg=01;35:*.mjpg=01;35:*.mjpeg=01;35:*.gif=01;35:*.bmp=01;35:*.pbm=01;35:*.pgm=01;35:*.ppm=01;35:*.tga=01;35:*.xbm=01;35:*.xpm=01;35:*.tif=01;35:*.tiff=01;35:*.png=01;35:*.svg=01;35:*.svgz=01;35:*.mng=01;35:*.pcx=01;35:*.mov=01;35:*.mpg=01;35:*.mpeg=01;35:*.m2v=01;35:*.mkv=01;35:*.webm=01;35:*.ogm=01;35:*.mp4=01;35:*.m4v=01;35:*.mp4v=01;35:*.vob=01;35:*.qt=01;35:*.nuv=01;35:*.wmv=01;35:*.asf=01;35:*.rm=01;35:*.rmvb=01;35:*.flc=01;35:*.avi=01;35:*.fli=01;35:*.flv=01;35:*.gl=01;35:*.dl=01;35:*.xcf=01;35:*.xwd=01;35:*.yuv=01;35:*.cgm=01;35:*.emf=01;35:*.ogv=01;35:*.ogx=01;35:*.aac=00;36:*.au=00;36:*.flac=00;36:*.m4a=00;36:*.mid=00;36:*.midi=00;36:*.mka=00;36:*.mp3=00;36:*.mpc=00;36:*.ogg=00;36:*.ra=00;36:*.wav=00;36:*.oga=00;36:*.opus=00;36:*.spx=00;36:*.xspf=00;36:\n",
      "CONDA_EXE=/usr/local/miniconda3/bin/conda\n",
      "HOSTTYPE=x86_64\n",
      "LESSCLOSE=/usr/bin/lesspipe %s %s\n",
      "LANG=zh_CN.UTF-8\n",
      "DISPLAY=:0\n",
      "AMD_ENTRYPOINT=vs/server/remoteExtensionHostProcess\n",
      "NVM_CD_FLAGS=\n",
      "CONDA_PREFIX=/usr/local/miniconda3\n",
      "_CE_M=\n",
      "APPLICATION_INSIGHTS_NO_DIAGNOSTIC_CHANNEL=true\n",
      "USER=yichang\n",
      "PAGER=cat\n",
      "JPY_PARENT_PID=1058\n",
      "PWD=/home/yichang\n",
      "HOME=/home/yichang\n",
      "CONDA_PYTHON_EXE=/usr/local/miniconda3/bin/python\n",
      "TERM_PROGRAM=vscode\n",
      "TERM_PROGRAM_VERSION=1.36.1\n",
      "NAME=DESKTOP-H5LI4PL\n",
      "XDG_DATA_DIRS=/usr/local/share:/usr/share:/var/lib/snapd/desktop\n",
      "_CE_CONDA=\n",
      "VSCODE_IPC_HOOK_CLI=/tmp/vscode-ipc-99a121bd-5ac1-40d9-93e4-65564a2263e9.sock\n",
      "CONDA_PROMPT_MODIFIER=(base) \n",
      "TERM=xterm-256color\n",
      "SHELL=bash\n",
      "NVM_BIN=/home/yichang/.nvm/versions/node/v12.2.0/bin\n",
      "SHLVL=5\n",
      "LANGUAGE=zh_CN.UTF-8\n",
      "PIPE_LOGGING=true\n",
      "LOGNAME=yichang\n",
      "PATH=/usr/local/miniconda3/bin:/home/yichang/.vscode-server/bin/2213894ea0415ee8c85c5eea0d0ff81ecc191529/bin:/home/yichang/.local/bin:/home/yichang/.nvm/versions/node/v12.2.0/bin:/usr/local/miniconda3/bin:/usr/local/miniconda3/condabin:/usr/local/sbin:/usr/local/bin:/usr/sbin:/usr/bin:/sbin:/bin:/usr/games:/usr/local/games:/mnt/c/Program Files (x86)/NetSarang/Xshell 6:/mnt/c/Program Files (x86)/Common Files/Oracle/Java/javapath:/mnt/c/Windows/System32:/mnt/c/Windows:/mnt/c/Windows/System32/wbem:/mnt/c/Windows/System32/WindowsPowerShell/v1.0:/mnt/c/Windows/System32/OpenSSH:/mnt/c/Program Files (x86)/NVIDIA Corporation/PhysX/Common:/mnt/c/Program Files/Git/cmd:/mnt/c/Program Files/Java/jdk1.8.0_201/bin:/mnt/c/Program Files/nodejs:/mnt/c/Users/91991/AppData/Local/Microsoft/WindowsApps:/mnt/c/Users/91991/AppData/Local/GitHubDesktop/bin:/mnt/c/Program Files/Microsoft VS Code/bin:/mnt/d/electSoftware/LxRunOffline-v3.3.3:/mnt/c/Users/91991/AppData/Roaming/npm:/snap/bin\n",
      "PS1=[PEXP\\[\\]ECT_PROMPT>\n",
      "CONDA_DEFAULT_ENV=base\n",
      "LESSOPEN=| /usr/bin/lesspipe %s\n",
      "VERBOSE_LOGGING=true\n",
      "_=/usr/bin/env\n",
      "OLDPWD=/mnt/e/codes/Test/pyDemo/Basic\n"
     ]
    }
   ],
   "source": [
    "env # 查看环境变量"
   ]
  },
  {
   "cell_type": "code",
   "execution_count": 1,
   "metadata": {},
   "outputs": [
    {
     "name": "stdout",
     "output_type": "stream",
     "text": [
      "pcilib: Cannot open /proc/bus/pci\n",
      "lspci: Cannot find any working access method.\n"
     ]
    },
    {
     "ename": "",
     "evalue": "1",
     "output_type": "error",
     "traceback": []
    }
   ],
   "source": [
    "lspci -tv # 列出所有PCI设备 wsl不适用"
   ]
  },
  {
   "cell_type": "code",
   "execution_count": 2,
   "metadata": {},
   "outputs": [
    {
     "name": "stdout",
     "output_type": "stream",
     "text": [
      "/sys/bus/usb/devices: No such file or directory\n"
     ]
    },
    {
     "ename": "",
     "evalue": "1",
     "output_type": "error",
     "traceback": []
    }
   ],
   "source": [
    "lsusb -tv # 列出所有USB设备 wsl不适用"
   ]
  },
  {
   "cell_type": "code",
   "execution_count": 3,
   "metadata": {},
   "outputs": [
    {
     "name": "stdout",
     "output_type": "stream",
     "text": [
      "libkmod: ERROR ../libkmod/libkmod-module.c:1657 kmod_module_new_from_loaded: could not open /proc/modules: No such file or directory\n",
      "Error: could not get list of modules: No such file or directory\n"
     ]
    },
    {
     "ename": "",
     "evalue": "1",
     "output_type": "error",
     "traceback": []
    }
   ],
   "source": [
    "lsmod # 列出加载的内核模块 wsl不适用"
   ]
  },
  {
   "cell_type": "markdown",
   "metadata": {},
   "source": [
    "### 资源信息"
   ]
  },
  {
   "cell_type": "code",
   "execution_count": 5,
   "metadata": {},
   "outputs": [
    {
     "name": "stdout",
     "output_type": "stream",
     "text": [
      "              总计         已用        空闲      共享    缓冲/缓存    可用\n",
      "内存：        7.9G        6.6G        1.1G         17M        223M        1.2G\n",
      "交换：         14G        515M         13G\n"
     ]
    }
   ],
   "source": [
    "free -h # 查看内存使用量和交换区使用量"
   ]
  },
  {
   "cell_type": "code",
   "execution_count": 6,
   "metadata": {},
   "outputs": [
    {
     "name": "stdout",
     "output_type": "stream",
     "text": [
      "文件系统        容量  已用  可用 已用% 挂载点\n",
      "rootfs          116G   55G   61G   48% /\n",
      "none            116G   55G   61G   48% /dev\n",
      "none            116G   55G   61G   48% /run\n",
      "none            116G   55G   61G   48% /run/lock\n",
      "none            116G   55G   61G   48% /run/shm\n",
      "none            116G   55G   61G   48% /run/user\n",
      "C:              116G   55G   61G   48% /mnt/c\n",
      "D:               56G   15G   42G   27% /mnt/d\n",
      "E:               67G   17G   50G   25% /mnt/e\n",
      "F:              466G  105G  362G   23% /mnt/f\n",
      "G:              224G  211G   14G   94% /mnt/g\n"
     ]
    }
   ],
   "source": [
    "df -h # 查看各分区使用情况"
   ]
  },
  {
   "cell_type": "code",
   "execution_count": 7,
   "metadata": {},
   "outputs": [
    {
     "name": "stdout",
     "output_type": "stream",
     "text": [
      "897M\t/home/yichang/.conda\n"
     ]
    }
   ],
   "source": [
    "du -sh /home/yichang/.conda # 查看指定目录的大小"
   ]
  },
  {
   "cell_type": "code",
   "execution_count": 8,
   "metadata": {},
   "outputs": [
    {
     "name": "stdout",
     "output_type": "stream",
     "text": [
      "用法：du [选项]... [文件]...\n",
      "　或：du [选项]... --files0-from=F\n",
      "Summarize disk usage of the set of FILEs, recursively for directories.\n",
      "\n",
      "必选参数对长短选项同时适用。\n",
      "  -0, --null            end each output line with NUL, not newline\n",
      "  -a, --all             write counts for all files, not just directories\n",
      "      --apparent-size   print apparent sizes, rather than disk usage; although\n",
      "                          the apparent size is usually smaller, it may be\n",
      "                          larger due to holes in ('sparse') files, internal\n",
      "                          fragmentation, indirect blocks, and the like\n",
      "  -B, --block-size=SIZE  scale sizes by SIZE before printing them; e.g.,\n",
      "                           '-BM' prints sizes in units of 1,048,576 bytes;\n",
      "                           see SIZE format below\n",
      "  -b, --bytes           equivalent to '--apparent-size --block-size=1'\n",
      "  -c, --total           produce a grand total\n",
      "  -D, --dereference-args  dereference only symlinks that are listed on the\n",
      "                          command line\n",
      "  -d, --max-depth=N     print the total for a directory (or file, with --all)\n",
      "                          only if it is N or fewer levels below the command\n",
      "                          line argument;  --max-depth=0 is the same as\n",
      "                          --summarize\n",
      "      --files0-from=F   summarize disk usage of the\n",
      "                          NUL-terminated file names specified in file F;\n",
      "                          if F is -, then read names from standard input\n",
      "  -H                    equivalent to --dereference-args (-D)\n",
      "  -h, --human-readable  print sizes in human readable format (e.g., 1K 234M 2G)\n",
      "      --inodes          list inode usage information instead of block usage\n",
      "  -k                    like --block-size=1K\n",
      "  -L, --dereference     dereference all symbolic links\n",
      "  -l, --count-links     count sizes many times if hard linked\n",
      "  -m                    like --block-size=1M\n",
      "  -P, --no-dereference  don't follow any symbolic links (this is the default)\n",
      "  -S, --separate-dirs   for directories do not include size of subdirectories\n",
      "      --si              like -h, but use powers of 1000 not 1024\n",
      "  -s, --summarize       display only a total for each argument\n",
      "  -t, --threshold=SIZE  exclude entries smaller than SIZE if positive,\n",
      "                          or entries greater than SIZE if negative\n",
      "      --time            show time of the last modification of any file in the\n",
      "                          directory, or any of its subdirectories\n",
      "      --time=WORD       show time as WORD instead of modification time:\n",
      "                          atime, access, use, ctime or status\n",
      "      --time-style=STYLE  show times using STYLE, which can be:\n",
      "                            full-iso, long-iso, iso, or +FORMAT;\n",
      "                            FORMAT is interpreted like in 'date'\n",
      "  -X, --exclude-from=FILE  exclude files that match any pattern in FILE\n",
      "      --exclude=PATTERN    exclude files that match PATTERN\n",
      "  -x, --one-file-system    skip directories on different file systems\n",
      "      --help\t\t显示此帮助信息并退出\n",
      "      --version\t\t显示版本信息并退出\n",
      "\n",
      "所显示的数值是来自 --block-size、DU_BLOCK_SIZE、BLOCK_SIZE \n",
      "及 BLOCKSIZE 环境变量中第一个可用的 SIZE 单位。\n",
      "否则，默认单位是 1024 字节(或是 512，若设定 POSIXLY_CORRECT 的话)。\n",
      "\n",
      "The SIZE argument is an integer and optional unit (example: 10K is 10*1024).\n",
      "Units are K,M,G,T,P,E,Z,Y (powers of 1024) or KB,MB,... (powers of 1000).\n",
      "\n",
      "GNU coreutils online help: <http://www.gnu.org/software/coreutils/>\n",
      "请向<http://translationproject.org/team/zh_CN.html> 报告du 的翻译错误\n",
      "Full documentation at: <http://www.gnu.org/software/coreutils/du>\n",
      "or available locally via: info '(coreutils) du invocation'\n"
     ]
    }
   ],
   "source": [
    "du --help"
   ]
  },
  {
   "cell_type": "code",
   "execution_count": 9,
   "metadata": {},
   "outputs": [
    {
     "name": "stdout",
     "output_type": "stream",
     "text": [
      "\u001b[01;31m\u001b[KMemTotal\u001b[m\u001b[K:        8269924 kB\n"
     ]
    }
   ],
   "source": [
    "grep MemTotal /proc/meminfo  # 查看内存总量"
   ]
  },
  {
   "cell_type": "code",
   "execution_count": 10,
   "metadata": {},
   "outputs": [
    {
     "name": "stdout",
     "output_type": "stream",
     "text": [
      "\u001b[01;31m\u001b[KMemFree\u001b[m\u001b[K:          912976 kB\n"
     ]
    }
   ],
   "source": [
    "grep MemFree /proc/meminfo # 查看空闲内存量"
   ]
  },
  {
   "cell_type": "code",
   "execution_count": 11,
   "metadata": {},
   "outputs": [
    {
     "name": "stdout",
     "output_type": "stream",
     "text": [
      " 20:12:44 up 10:39,  0 users,  load average: 0.52, 0.58, 0.59\n"
     ]
    }
   ],
   "source": [
    "uptime # 查看系统运行时间、用户数、负载"
   ]
  },
  {
   "cell_type": "code",
   "execution_count": 12,
   "metadata": {},
   "outputs": [
    {
     "name": "stdout",
     "output_type": "stream",
     "text": [
      "0.52 0.58 0.59 1/58 1399\n"
     ]
    }
   ],
   "source": [
    "cat /proc/loadavg # 查看系统负载磁盘信息"
   ]
  },
  {
   "cell_type": "code",
   "execution_count": 13,
   "metadata": {},
   "outputs": [
    {
     "name": "stdout",
     "output_type": "stream",
     "text": [
      "rootfs       on  /                         type  wslfs        (rw,noatime)\n",
      "none         on  /dev                      type  tmpfs        (rw,noatime,mode=755)\n",
      "sysfs        on  /sys                      type  sysfs        (rw,nosuid,nodev,noexec,noatime)\n",
      "proc         on  /proc                     type  proc         (rw,nosuid,nodev,noexec,noatime)\n",
      "devpts       on  /dev/pts                  type  devpts       (rw,nosuid,noexec,noatime,gid=5,mode=620)\n",
      "none         on  /run                      type  tmpfs        (rw,nosuid,noexec,noatime,mode=755)\n",
      "none         on  /run/lock                 type  tmpfs        (rw,nosuid,nodev,noexec,noatime)\n",
      "none         on  /run/shm                  type  tmpfs        (rw,nosuid,nodev,noatime)\n",
      "none         on  /run/user                 type  tmpfs        (rw,nosuid,nodev,noexec,noatime,mode=755)\n",
      "binfmt_misc  on  /proc/sys/fs/binfmt_misc  type  binfmt_misc  (rw,noatime)\n",
      "C:           on  /mnt/c                    type  drvfs        (rw,noatime,uid=1000,gid=1000,case=off)\n",
      "D:           on  /mnt/d                    type  drvfs        (rw,noatime,uid=1000,gid=1000,case=off)\n",
      "E:           on  /mnt/e                    type  drvfs        (rw,noatime,uid=1000,gid=1000,case=off)\n",
      "F:           on  /mnt/f                    type  drvfs        (rw,noatime,uid=1000,gid=1000,case=off)\n",
      "G:           on  /mnt/g                    type  drvfs        (rw,noatime,uid=1000,gid=1000,case=off)\n"
     ]
    }
   ],
   "source": [
    "mount | column -t # 查看挂接的分区状态"
   ]
  },
  {
   "cell_type": "code",
   "execution_count": 14,
   "metadata": {},
   "outputs": [
    {
     "name": "stdout",
     "output_type": "stream",
     "text": [
      "fdisk: 打不开 /proc/partitions: 没有那个文件或目录\n"
     ]
    }
   ],
   "source": [
    "fdisk -l # 查看所有分区 wsl不适用"
   ]
  },
  {
   "cell_type": "code",
   "execution_count": 15,
   "metadata": {},
   "outputs": [
    {
     "ename": "",
     "evalue": "255",
     "output_type": "error",
     "traceback": []
    }
   ],
   "source": [
    "swapon -s # 查看所有交换分区"
   ]
  },
  {
   "cell_type": "code",
   "execution_count": 16,
   "metadata": {},
   "outputs": [
    {
     "name": "stdout",
     "output_type": "stream",
     "text": [
      "/dev/hda: No such file or directory\n"
     ]
    },
    {
     "ename": "",
     "evalue": "2",
     "output_type": "error",
     "traceback": []
    }
   ],
   "source": [
    "hdparm -i /dev/hda # 查看磁盘参数(仅适用于IDE设备) wsl不适用"
   ]
  },
  {
   "cell_type": "code",
   "execution_count": 17,
   "metadata": {},
   "outputs": [
    {
     "ename": "",
     "evalue": "1",
     "output_type": "error",
     "traceback": []
    }
   ],
   "source": [
    "dmesg | grep IDE # 查看启动时IDE设备"
   ]
  },
  {
   "cell_type": "markdown",
   "metadata": {},
   "source": [
    "### 查看网络信息"
   ]
  },
  {
   "cell_type": "code",
   "execution_count": 18,
   "metadata": {},
   "outputs": [
    {
     "name": "stdout",
     "output_type": "stream",
     "text": [
      "eth2: flags=65<UP,RUNNING>  mtu 1472\n",
      "        unspec [NONE SET]  netmask 00-00-00-00-00-00-00-00-00-00-00-00-00-00-00-00\n",
      "        inet6 2001:0:2851:7ae4:862:ac58:da1b:cb9  prefixlen 64  scopeid 0x0<global>\n",
      "        inet6 fe80::862:ac58:da1b:cb9  prefixlen 64  scopeid 0xfd<compat,link,site,host>\n",
      "        ether 00:00:00:00:00:00  (以太网)\n",
      "        RX packets 0  bytes 0 (0.0 B)\n",
      "        RX errors 0  dropped 0  overruns 0  frame 0\n",
      "        TX packets 0  bytes 0 (0.0 B)\n",
      "        TX errors 0  dropped 0 overruns 0  carrier 0  collisions 0\n",
      "\n",
      "lo: flags=73<UP,LOOPBACK,RUNNING>  mtu 1500\n",
      "        inet 127.0.0.1  netmask 255.0.0.0\n",
      "        inet6 ::1  prefixlen 128  scopeid 0xfe<compat,link,site,host>\n",
      "        loop  (本地环回)\n",
      "        RX packets 0  bytes 0 (0.0 B)\n",
      "        RX errors 0  dropped 0  overruns 0  frame 0\n",
      "        TX packets 0  bytes 0 (0.0 B)\n",
      "        TX errors 0  dropped 0 overruns 0  carrier 0  collisions 0\n",
      "\n",
      "wifi0: flags=4163<UP,BROADCAST,RUNNING,MULTICAST>  mtu 1500\n",
      "        inet 192.168.0.73  netmask 255.255.255.0  broadcast 192.168.0.255\n",
      "        inet6 2a02:8085:215f:bd00:cdf1:962c:c707:5c51  prefixlen 64  scopeid 0x0<global>\n",
      "        inet6 2a02:8085:215f:bd00:d907:db3f:a3e4:5c91  prefixlen 128  scopeid 0x0<global>\n",
      "        inet6 fe80::cdf1:962c:c707:5c51  prefixlen 64  scopeid 0xfd<compat,link,site,host>\n",
      "        ether 7a:43:4a:fa:60:ca  (以太网)\n",
      "        RX packets 0  bytes 0 (0.0 B)\n",
      "        RX errors 0  dropped 0  overruns 0  frame 0\n",
      "        TX packets 0  bytes 0 (0.0 B)\n",
      "        TX errors 0  dropped 0 overruns 0  carrier 0  collisions 0\n",
      "\n"
     ]
    }
   ],
   "source": [
    "ifconfig # 查看所有网络接口的属性"
   ]
  },
  {
   "cell_type": "code",
   "execution_count": 19,
   "metadata": {},
   "outputs": [
    {
     "name": "stdout",
     "output_type": "stream",
     "text": [
      "iptables v1.6.1: can't initialize iptables table `filter': Table does not exist (do you need to insmod?)\n",
      "Perhaps iptables or your kernel needs to be upgraded.\n"
     ]
    },
    {
     "ename": "",
     "evalue": "3",
     "output_type": "error",
     "traceback": []
    }
   ],
   "source": [
    "iptables -L # 查看防火墙设置"
   ]
  },
  {
   "cell_type": "code",
   "execution_count": 20,
   "metadata": {},
   "outputs": [
    {
     "name": "stdout",
     "output_type": "stream",
     "text": [
      "内核 IP 路由表\n",
      "目标            网关            子网掩码        标志  跃点   引用  使用 接口\n",
      "127.0.0.0       0.0.0.0         255.0.0.0       U     256    0        0 lo\n",
      "127.0.0.1       0.0.0.0         255.255.255.255 U     256    0        0 lo\n",
      "127.255.255.255 0.0.0.0         255.255.255.255 U     256    0        0 lo\n",
      "224.0.0.0       0.0.0.0         240.0.0.0       U     256    0        0 lo\n",
      "255.255.255.255 0.0.0.0         255.255.255.255 U     256    0        0 lo\n",
      "0.0.0.0         192.168.0.1     255.255.255.255 U     0      0        0 wifi0\n",
      "192.168.0.0     0.0.0.0         255.255.255.0   U     256    0        0 wifi0\n",
      "192.168.0.73    0.0.0.0         255.255.255.255 U     256    0        0 wifi0\n",
      "192.168.0.255   0.0.0.0         255.255.255.255 U     256    0        0 wifi0\n",
      "224.0.0.0       0.0.0.0         240.0.0.0       U     256    0        0 wifi0\n",
      "255.255.255.255 0.0.0.0         255.255.255.255 U     256    0        0 wifi0\n"
     ]
    }
   ],
   "source": [
    "route -n # 查看路由表"
   ]
  },
  {
   "cell_type": "code",
   "execution_count": 26,
   "metadata": {},
   "outputs": [
    {
     "name": "stdout",
     "output_type": "stream",
     "text": [
      "(对于 \"-p\":geteuid()=1000，非 root 用户无法读取信息)\n",
      "激活Internet连接 (仅服务器)\n",
      "Proto Recv-Q Send-Q Local Address           Foreign Address         State       PID/Program name    \n"
     ]
    }
   ],
   "source": [
    "netstat -lntp # 查看所有监听端口"
   ]
  },
  {
   "cell_type": "code",
   "execution_count": 27,
   "metadata": {},
   "outputs": [
    {
     "name": "stdout",
     "output_type": "stream",
     "text": [
      "(对于 \"-p\":geteuid()=1000，非 root 用户无法读取信息)\n",
      "激活Internet连接 (服务器和已建立连接的)\n",
      "Proto Recv-Q Send-Q Local Address           Foreign Address         State       PID/Program name    \n"
     ]
    }
   ],
   "source": [
    "netstat -antp # 查看所有已经建立的连接"
   ]
  },
  {
   "cell_type": "code",
   "execution_count": 28,
   "metadata": {},
   "outputs": [
    {
     "name": "stdout",
     "output_type": "stream",
     "text": [
      "cannot open /proc/net/snmp: 没有那个文件或目录\n"
     ]
    }
   ],
   "source": [
    "netstat -s # 查看网络统计信息进程信息"
   ]
  },
  {
   "cell_type": "code",
   "execution_count": 29,
   "metadata": {},
   "outputs": [
    {
     "name": "stdout",
     "output_type": "stream",
     "text": [
      "UID        PID  PPID  C STIME TTY          TIME CMD\n",
      "root         1     0  0 09:32 ?        00:00:00 /init\n",
      "root         3     1  0 09:32 tty1     00:00:00 /init\n",
      "yichang      4     3  0 09:32 tty1     00:00:00 bash /mnt/c/Users/91991/.vscode/\n",
      "yichang     10     4  0 09:32 tty1     00:00:00 sh /home/yichang/.vscode-server/\n",
      "yichang     12    10  0 09:32 tty1     00:00:07 /home/yichang/.vscode-server/bin\n",
      "yichang     26    12  0 09:32 tty1     00:00:01 /home/yichang/.vscode-server/bin\n",
      "yichang    379    12  0 09:33 tty1     00:00:03 /home/yichang/.vscode-server/bin\n",
      "yichang    652   379  0 20:03 pts/0    00:00:00 bash\n",
      "yichang    839   652  0 20:03 pts/0    00:00:04 /usr/local/miniconda3/bin/python\n",
      "yichang    849   839  0 20:03 ?        00:00:01 /usr/local/miniconda3/bin/python\n",
      "yichang    861   849  1 20:03 pts/1    00:00:11 /bin/bash --rcfile /usr/local/mi\n",
      "root      1050     1  0 20:05 tty2     00:00:00 /init\n",
      "yichang   1051  1050  0 20:05 tty2     00:00:00 -bash\n",
      "yichang   1420   861  0 20:19 pts/1    00:00:00 ps -ef\n"
     ]
    }
   ],
   "source": [
    "ps -ef # 查看所有进程"
   ]
  },
  {
   "cell_type": "code",
   "execution_count": null,
   "metadata": {
    "deletable": false,
    "editable": false
   },
   "outputs": [],
   "source": [
    "top # 实时显示进程状态"
   ]
  },
  {
   "cell_type": "markdown",
   "metadata": {},
   "source": [
    "### 用户信息"
   ]
  },
  {
   "cell_type": "code",
   "execution_count": 30,
   "metadata": {},
   "outputs": [
    {
     "name": "stdout",
     "output_type": "stream",
     "text": [
      " 20:20:50 up 10:47,  0 users,  load average: 0.52, 0.58, 0.59\n",
      "USER     TTY      来自           LOGIN@   IDLE   JCPU   PCPU WHAT\n"
     ]
    }
   ],
   "source": [
    "w # 查看活动用户"
   ]
  },
  {
   "cell_type": "code",
   "execution_count": 31,
   "metadata": {},
   "outputs": [
    {
     "name": "stdout",
     "output_type": "stream",
     "text": [
      "uid=1000(yichang) gid=1000(yichang) 组=1000(yichang),4(adm),20(dialout),24(cdrom),25(floppy),27(sudo),29(audio),30(dip),44(video),46(plugdev),108(lxd),114(netdev)\n"
     ]
    }
   ],
   "source": [
    "id yichang # 查看指定用户信息"
   ]
  },
  {
   "cell_type": "code",
   "execution_count": 32,
   "metadata": {},
   "outputs": [
    {
     "name": "stdout",
     "output_type": "stream",
     "text": [
      "\n",
      "wtmp begins Sun Feb  3 14:08:19 2019\n"
     ]
    }
   ],
   "source": [
    "last # 查看用户登录日志"
   ]
  },
  {
   "cell_type": "code",
   "execution_count": 33,
   "metadata": {},
   "outputs": [
    {
     "name": "stdout",
     "output_type": "stream",
     "text": [
      "root\n",
      "daemon\n",
      "bin\n",
      "sys\n",
      "sync\n",
      "games\n",
      "man\n",
      "lp\n",
      "mail\n",
      "news\n",
      "uucp\n",
      "proxy\n",
      "www-data\n",
      "backup\n",
      "list\n",
      "irc\n",
      "gnats\n",
      "nobody\n",
      "systemd-network\n",
      "systemd-resolve\n",
      "syslog\n",
      "messagebus\n",
      "_apt\n",
      "lxd\n",
      "uuidd\n",
      "dnsmasq\n",
      "landscape\n",
      "sshd\n",
      "pollinate\n",
      "yichang\n",
      "mongodb\n"
     ]
    }
   ],
   "source": [
    "cut -d: -f1 /etc/passwd # 查看系统所有用户"
   ]
  },
  {
   "cell_type": "code",
   "execution_count": 34,
   "metadata": {},
   "outputs": [
    {
     "name": "stdout",
     "output_type": "stream",
     "text": [
      "root\n",
      "daemon\n",
      "bin\n",
      "sys\n",
      "adm\n",
      "tty\n",
      "disk\n",
      "lp\n",
      "mail\n",
      "news\n",
      "uucp\n",
      "man\n",
      "proxy\n",
      "kmem\n",
      "dialout\n",
      "fax\n",
      "voice\n",
      "cdrom\n",
      "floppy\n",
      "tape\n",
      "sudo\n",
      "audio\n",
      "dip\n",
      "www-data\n",
      "backup\n",
      "operator\n",
      "list\n",
      "irc\n",
      "src\n",
      "gnats\n",
      "shadow\n",
      "utmp\n",
      "video\n",
      "sasl\n",
      "plugdev\n",
      "staff\n",
      "games\n",
      "users\n",
      "nogroup\n",
      "systemd-journal\n",
      "systemd-network\n",
      "systemd-resolve\n",
      "input\n",
      "crontab\n",
      "syslog\n",
      "messagebus\n",
      "lxd\n",
      "mlocate\n",
      "uuidd\n",
      "ssh\n",
      "landscape\n",
      "admin\n",
      "netdev\n",
      "yichang\n",
      "mongodb\n"
     ]
    }
   ],
   "source": [
    "cut -d: -f1 /etc/group # 查看系统所有组"
   ]
  },
  {
   "cell_type": "code",
   "execution_count": 35,
   "metadata": {},
   "outputs": [
    {
     "name": "stdout",
     "output_type": "stream",
     "text": [
      "no crontab for yichang\n"
     ]
    },
    {
     "ename": "",
     "evalue": "1",
     "output_type": "error",
     "traceback": []
    }
   ],
   "source": [
    "crontab -l # 查看当前用户的计划任务"
   ]
  },
  {
   "cell_type": "code",
   "execution_count": null,
   "metadata": {},
   "outputs": [],
   "source": []
  }
 ],
 "metadata": {
  "kernelspec": {
   "display_name": "Bash",
   "language": "bash",
   "name": "bash"
  },
  "language_info": {
   "codemirror_mode": "shell",
   "file_extension": ".sh",
   "mimetype": "text/x-sh",
   "name": "bash"
  },
  "toc": {
   "base_numbering": 1,
   "nav_menu": {},
   "number_sections": true,
   "sideBar": true,
   "skip_h1_title": false,
   "title_cell": "Table of Contents",
   "title_sidebar": "Contents",
   "toc_cell": false,
   "toc_position": {},
   "toc_section_display": true,
   "toc_window_display": false
  },
  "varInspector": {
   "cols": {
    "lenName": 16,
    "lenType": 16,
    "lenVar": 40
   },
   "kernels_config": {
    "python": {
     "delete_cmd_postfix": "",
     "delete_cmd_prefix": "del ",
     "library": "var_list.py",
     "varRefreshCmd": "print(var_dic_list())"
    },
    "r": {
     "delete_cmd_postfix": ") ",
     "delete_cmd_prefix": "rm(",
     "library": "var_list.r",
     "varRefreshCmd": "cat(var_dic_list()) "
    }
   },
   "types_to_exclude": [
    "module",
    "function",
    "builtin_function_or_method",
    "instance",
    "_Feature"
   ],
   "window_display": false
  }
 },
 "nbformat": 4,
 "nbformat_minor": 2
}
