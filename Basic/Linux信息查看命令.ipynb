{
 "cells": [
  {
   "cell_type": "markdown",
   "metadata": {},
   "source": [
    "## 系统信息"
   ]
  },
  {
   "cell_type": "code",
   "execution_count": 1,
   "metadata": {},
   "outputs": [
    {
     "name": "stdout",
     "output_type": "stream",
     "text": [
      "CentOS Linux release 7.7.1908 (Core)\n"
     ]
    }
   ],
   "source": [
    "cat /etc/redhat-release #查看系统信息 "
   ]
  },
  {
   "cell_type": "code",
   "execution_count": 37,
   "metadata": {},
   "outputs": [
    {
     "name": "stdout",
     "output_type": "stream",
     "text": [
      "CentOS Linux release 7.7.1908 (Core)\n"
     ]
    }
   ],
   "source": [
    "cat /etc/centos-release"
   ]
  },
  {
   "cell_type": "code",
   "execution_count": 90,
   "metadata": {},
   "outputs": [
    {
     "name": "stdout",
     "output_type": "stream",
     "text": [
      "\\S\n",
      "Kernel \\r on an \\m\n",
      "\n"
     ]
    }
   ],
   "source": [
    "head /etc/issue # ubuntu 查看系统信息，lsb_release -a"
   ]
  },
  {
   "cell_type": "code",
   "execution_count": 5,
   "metadata": {},
   "outputs": [
    {
     "name": "stdout",
     "output_type": "stream",
     "text": [
      "Linux DESKTOP-H5LI4PL 4.19.84-microsoft-standard #1 SMP Wed Nov 13 11:44:37 UTC 2019 x86_64 x86_64 x86_64 GNU/Linux\n"
     ]
    }
   ],
   "source": [
    "uname -a # 查看内核/操作系统/CPU信息的linux系统信息命令"
   ]
  },
  {
   "cell_type": "code",
   "execution_count": 23,
   "metadata": {},
   "outputs": [
    {
     "name": "stdout",
     "output_type": "stream",
     "text": [
      "4.19.84-microsoft-standard\n"
     ]
    }
   ],
   "source": [
    "uname -r #查看内核版本号"
   ]
  },
  {
   "cell_type": "code",
   "execution_count": 78,
   "metadata": {},
   "outputs": [
    {
     "name": "stdout",
     "output_type": "stream",
     "text": [
      "Linux\n"
     ]
    }
   ],
   "source": [
    "uname -s # 查看内核名称"
   ]
  },
  {
   "cell_type": "code",
   "execution_count": 6,
   "metadata": {},
   "outputs": [
    {
     "name": "stdout",
     "output_type": "stream",
     "text": [
      "Linux version 4.19.84-microsoft-standard (oe-user@oe-host) (gcc version 8.2.0 (GCC)) #1 SMP Wed Nov 13 11:44:37 UTC 2019\n"
     ]
    }
   ],
   "source": [
    "cat /proc/version #包含GCC的版本信息"
   ]
  },
  {
   "cell_type": "code",
   "execution_count": 77,
   "metadata": {},
   "outputs": [
    {
     "name": "stdout",
     "output_type": "stream",
     "text": [
      "gcc (GCC) 4.8.5 20150623 (Red Hat 4.8.5-39)\n",
      "Copyright (C) 2015 Free Software Foundation, Inc.\n",
      "This is free software; see the source for copying conditions.  There is NO\n",
      "warranty; not even for MERCHANTABILITY or FITNESS FOR A PARTICULAR PURPOSE.\n",
      "\n"
     ]
    }
   ],
   "source": [
    "gcc --version"
   ]
  },
  {
   "cell_type": "code",
   "execution_count": 9,
   "metadata": {
    "scrolled": true
   },
   "outputs": [
    {
     "name": "stdout",
     "output_type": "stream",
     "text": [
      "DESKTOP-H5LI4PL\n"
     ]
    }
   ],
   "source": [
    "hostname"
   ]
  },
  {
   "cell_type": "code",
   "execution_count": 10,
   "metadata": {},
   "outputs": [
    {
     "name": "stdout",
     "output_type": "stream",
     "text": [
      "TERM_PROGRAM=vscode\n",
      "NVM_CD_FLAGS=\n",
      "GEM_HOME=/home/yichang/gems\n",
      "SHELL=/bin/bash\n",
      "TERM=xterm-256color\n",
      "CONDA_SHLVL=1\n",
      "TERM_PROGRAM_VERSION=1.42.1\n",
      "CONDA_PROMPT_MODIFIER=(base) \n",
      "WSLENV=VSCODE_WSL_EXT_LOCATION/up\n",
      "USER=yichang\n",
      "NAME=DESKTOP-H5LI4PL\n",
      "NVM_DIR=/home/yichang/.nvm\n",
      "WSL_DISTRO_NAME=CentOS\n",
      "LS_COLORS=rs=0:di=38;5;27:ln=38;5;51:mh=44;38;5;15:pi=40;38;5;11:so=38;5;13:do=38;5;5:bd=48;5;232;38;5;11:cd=48;5;232;38;5;3:or=48;5;232;38;5;9:mi=05;48;5;232;38;5;15:su=48;5;196;38;5;15:sg=48;5;11;38;5;16:ca=48;5;196;38;5;226:tw=48;5;10;38;5;16:ow=48;5;10;38;5;21:st=48;5;21;38;5;15:ex=38;5;34:*.tar=38;5;9:*.tgz=38;5;9:*.arc=38;5;9:*.arj=38;5;9:*.taz=38;5;9:*.lha=38;5;9:*.lz4=38;5;9:*.lzh=38;5;9:*.lzma=38;5;9:*.tlz=38;5;9:*.txz=38;5;9:*.tzo=38;5;9:*.t7z=38;5;9:*.zip=38;5;9:*.z=38;5;9:*.Z=38;5;9:*.dz=38;5;9:*.gz=38;5;9:*.lrz=38;5;9:*.lz=38;5;9:*.lzo=38;5;9:*.xz=38;5;9:*.bz2=38;5;9:*.bz=38;5;9:*.tbz=38;5;9:*.tbz2=38;5;9:*.tz=38;5;9:*.deb=38;5;9:*.rpm=38;5;9:*.jar=38;5;9:*.war=38;5;9:*.ear=38;5;9:*.sar=38;5;9:*.rar=38;5;9:*.alz=38;5;9:*.ace=38;5;9:*.zoo=38;5;9:*.cpio=38;5;9:*.7z=38;5;9:*.rz=38;5;9:*.cab=38;5;9:*.jpg=38;5;13:*.jpeg=38;5;13:*.gif=38;5;13:*.bmp=38;5;13:*.pbm=38;5;13:*.pgm=38;5;13:*.ppm=38;5;13:*.tga=38;5;13:*.xbm=38;5;13:*.xpm=38;5;13:*.tif=38;5;13:*.tiff=38;5;13:*.png=38;5;13:*.svg=38;5;13:*.svgz=38;5;13:*.mng=38;5;13:*.pcx=38;5;13:*.mov=38;5;13:*.mpg=38;5;13:*.mpeg=38;5;13:*.m2v=38;5;13:*.mkv=38;5;13:*.webm=38;5;13:*.ogm=38;5;13:*.mp4=38;5;13:*.m4v=38;5;13:*.mp4v=38;5;13:*.vob=38;5;13:*.qt=38;5;13:*.nuv=38;5;13:*.wmv=38;5;13:*.asf=38;5;13:*.rm=38;5;13:*.rmvb=38;5;13:*.flc=38;5;13:*.avi=38;5;13:*.fli=38;5;13:*.flv=38;5;13:*.gl=38;5;13:*.dl=38;5;13:*.xcf=38;5;13:*.xwd=38;5;13:*.yuv=38;5;13:*.cgm=38;5;13:*.emf=38;5;13:*.axv=38;5;13:*.anx=38;5;13:*.ogv=38;5;13:*.ogx=38;5;13:*.aac=38;5;45:*.au=38;5;45:*.flac=38;5;45:*.mid=38;5;45:*.midi=38;5;45:*.mka=38;5;45:*.mp3=38;5;45:*.mpc=38;5;45:*.ogg=38;5;45:*.ra=38;5;45:*.wav=38;5;45:*.axa=38;5;45:*.oga=38;5;45:*.spx=38;5;45:*.xspf=38;5;45:\n",
      "CONDA_EXE=/home/yichang/miniconda3/bin/conda\n",
      "HOSTTYPE=x86_64\n",
      "KERNEL_LAUNCH_TIMEOUT=40\n",
      "JPY_PARENT_PID=606\n",
      "PAGER=cat\n",
      "_CE_CONDA=\n",
      "PATH=/home/yichang/.rbenv/shims:/home/yichang/.rbenv/bin:/home/yichang/gems/bin:/home/yichang/.rbenv/shims:/home/yichang/.rbenv/bin:/home/yichang/gems/bin:/home/yichang/.nvm/versions/node/v10.16.0/bin:/home/yichang/miniconda3/bin:/home/yichang/miniconda3/condabin:/usr/local/sbin:/usr/local/bin:/usr/sbin:/usr/bin:/sbin:/bin:/usr/games:/usr/local/games:/mnt/c/ProgramData/Anaconda3:/mnt/c/ProgramData/Anaconda3/Library/mingw-w64/bin:/mnt/c/ProgramData/Anaconda3/Library/usr/bin:/mnt/c/ProgramData/Anaconda3/Library/bin:/mnt/c/ProgramData/Anaconda3/Scripts:/mnt/c/Program Files (x86)/NetSarang/Xftp 6:/mnt/c/Program Files (x86)/NetSarang/Xshell 6:/mnt/c/Program Files (x86)/Common Files/Oracle/Java/javapath:/mnt/c/WINDOWS/system32:/mnt/c/WINDOWS:/mnt/c/WINDOWS/System32/Wbem:/mnt/c/WINDOWS/System32/WindowsPowerShell/v1.0:/mnt/c/WINDOWS/System32/OpenSSH:/mnt/c/Program Files (x86)/NVIDIA Corporation/PhysX/Common:/mnt/c/Program Files/Git/cmd:/mnt/c/Program Files/Java/jdk1.8.0_201/bin:/mnt/c/Program Files/nodejs:/mnt/c/WINDOWS/system32:/mnt/c/WINDOWS:/mnt/c/WINDOWS/System32/Wbem:/mnt/c/WINDOWS/System32/WindowsPowerShell/v1.0:/mnt/c/WINDOWS/System32/OpenSSH:/mnt/c/ProgramData/chocolatey/bin:/mnt/c/Program Files/Docker/Docker/resources/bin:/mnt/c/ProgramData/DockerDesktop/version-bin:/mnt/c/Users/91991/AppData/Local/Microsoft/WindowsApps:/mnt/c/Users/91991/AppData/Local/GitHubDesktop/bin:/mnt/c/Program Files/Microsoft VS Code/bin:/mnt/d/electSoftware/LxRunOffline-v3.3.3:/mnt/c/Users/91991/AppData/Roaming/npm:/mnt/c/Users/91991/AppData/Local/Microsoft/WindowsApps:/var/lib/snapd/snap/bin\n",
      "CONDA_PREFIX=/home/yichang/miniconda3\n",
      "PWD=/mnt/e/codes/GitHub/learnPython/Basic\n",
      "LANG=en_US.UTF-8\n",
      "NODE_PATH=/home/yichang/.nvm/versions/node/v10.16.0/lib/node_modules\n",
      "PS1=[PEXP\\[\\]ECT_PROMPT>\n",
      "WSL_INTEROP=/run/WSL/17_interop\n",
      "RBENV_SHELL=bash\n",
      "_CE_M=\n",
      "SHLVL=5\n",
      "HOME=/home/yichang\n",
      "LOGNAME=yichang\n",
      "CONDA_PYTHON_EXE=/home/yichang/miniconda3/bin/python\n",
      "XDG_DATA_DIRS=/usr/local/share:/usr/share:/var/lib/snapd/desktop\n",
      "VSCODE_IPC_HOOK_CLI=/tmp/vscode-ipc-1fcd284d-7469-4066-bb37-e5bb753e9303.sock\n",
      "LESSOPEN=||/usr/bin/lesspipe.sh %s\n",
      "CONDA_DEFAULT_ENV=base\n",
      "NVM_BIN=/home/yichang/.nvm/versions/node/v10.16.0/bin\n",
      "DISPLAY=:0\n",
      "COLORTERM=truecolor\n",
      "_=/usr/bin/env\n"
     ]
    }
   ],
   "source": [
    "env"
   ]
  },
  {
   "cell_type": "code",
   "execution_count": 11,
   "metadata": {},
   "outputs": [
    {
     "name": "stdout",
     "output_type": "stream",
     "text": [
      "/bin/ls: ELF 64-bit LSB executable, x86-64, version 1 (SYSV), dynamically linked (uses shared libs), for GNU/Linux 2.6.32, BuildID[sha1]=aaf05615b6c91d3cbb076af81aeff531c5d7dfd9, stripped\n"
     ]
    }
   ],
   "source": [
    "file /bin/ls #查看系统位数"
   ]
  },
  {
   "cell_type": "code",
   "execution_count": 12,
   "metadata": {},
   "outputs": [
    {
     "name": "stdout",
     "output_type": "stream",
     "text": [
      "64\n"
     ]
    }
   ],
   "source": [
    "getconf LONG_BIT #查看系统位数"
   ]
  },
  {
   "cell_type": "code",
   "execution_count": 13,
   "metadata": {},
   "outputs": [
    {
     "name": "stdout",
     "output_type": "stream",
     "text": [
      "/bin/bash\n"
     ]
    }
   ],
   "source": [
    "echo $SHELL #显示当前shell"
   ]
  },
  {
   "cell_type": "code",
   "execution_count": 47,
   "metadata": {},
   "outputs": [
    {
     "name": "stdout",
     "output_type": "stream",
     "text": [
      " 15:57:04 up 44 min,  0 users,  load average: 0.00, 0.00, 0.00\n"
     ]
    }
   ],
   "source": [
    "uptime # 查看系统运行时间、用户数、负载"
   ]
  },
  {
   "cell_type": "code",
   "execution_count": 92,
   "metadata": {},
   "outputs": [
    {
     "name": "stdout",
     "output_type": "stream",
     "text": [
      "0.00 0.00 0.00 2/176 1604\n"
     ]
    }
   ],
   "source": [
    "cat /proc/loadavg"
   ]
  },
  {
   "cell_type": "markdown",
   "metadata": {},
   "source": [
    "## 硬件信息"
   ]
  },
  {
   "cell_type": "code",
   "execution_count": 70,
   "metadata": {},
   "outputs": [
    {
     "name": "stdout",
     "output_type": "stream",
     "text": [
      "0000-0000 : dma1\n",
      "0000-0000 : pic1\n",
      "0000-0000 : timer0\n",
      "0000-0000 : timer1\n",
      "0000-0000 : keyboard\n",
      "0000-0000 : keyboard\n",
      "0000-0000 : rtc0\n",
      "0000-0000 : dma page reg\n",
      "0000-0000 : pic2\n",
      "0000-0000 : dma2\n",
      "0000-0000 : fpu\n",
      "0000-0000 : ACPI PM1a_EVT_BLK\n",
      "0000-0000 : ACPI PM1a_CNT_BLK\n",
      "0000-0000 : ACPI PM_TMR\n",
      "0000-0000 : ACPI GPE0_BLK\n"
     ]
    }
   ],
   "source": [
    "cat /proc/ioports # 查看设备io端口"
   ]
  },
  {
   "cell_type": "code",
   "execution_count": 71,
   "metadata": {},
   "outputs": [
    {
     "name": "stdout",
     "output_type": "stream",
     "text": [
      "           CPU0       CPU1       CPU2       CPU3       CPU4       CPU5       CPU6       CPU7       \n",
      "  8:          0          0          0          0          0          0          0          0   IO-APIC   8-edge      rtc0\n",
      "  9:          0          0          0          0          0          0          0          0   IO-APIC   9-fasteoi   acpi\n",
      "NMI:          0          0          0          0          0          0          0          0   Non-maskable interrupts\n",
      "LOC:          4          4          2          3          3          3          3          3   Local timer interrupts\n",
      "SPU:          0          0          0          0          0          0          0          0   Spurious interrupts\n",
      "PMI:          0          0          0          0          0          0          0          0   Performance monitoring interrupts\n",
      "IWI:          0          0          0          0          0          0          0          0   IRQ work interrupts\n",
      "RTR:          0          0          0          0          0          0          0          0   APIC ICR read retries\n",
      "RES:      10348      12992      34512      19532      19262      17096      31846      20527   Rescheduling interrupts\n",
      "CAL:        387        429        413        412        300        397        410        196   Function call interrupts\n",
      "TLB:          0          0          0          0          0          0          0          0   TLB shootdowns\n",
      "HYP:      71136       6053       3880       3341       3661        301       2308        456   Hypervisor callback interrupts\n",
      "HRE:          0          0          0          0          0          0          0          0   Hyper-V reenlightenment interrupts\n",
      "HVS:      23093      35971      39303      48788      26318       9655      38047      11903   Hyper-V stimer0 interrupts\n",
      "ERR:          0\n",
      "MIS:          0\n",
      "PIN:          0          0          0          0          0          0          0          0   Posted-interrupt notification event\n",
      "NPI:          0          0          0          0          0          0          0          0   Nested posted-interrupt event\n",
      "PIW:          0          0          0          0          0          0          0          0   Posted-interrupt wakeup event\n"
     ]
    }
   ],
   "source": [
    "cat /proc/interrupts # 查看中断"
   ]
  },
  {
   "cell_type": "markdown",
   "metadata": {},
   "source": [
    "### 存储信息"
   ]
  },
  {
   "cell_type": "code",
   "execution_count": 79,
   "metadata": {},
   "outputs": [
    {
     "name": "stdout",
     "output_type": "stream",
     "text": [
      "              total        used        free      shared  buff/cache   available\n",
      "Mem:           6.1G        319M        5.6G         72K        243M        5.6G\n",
      "Swap:          2.0G          0B        2.0G\n"
     ]
    }
   ],
   "source": [
    "free -h #内存使用量和交换区使用量"
   ]
  },
  {
   "cell_type": "code",
   "execution_count": 73,
   "metadata": {},
   "outputs": [
    {
     "name": "stdout",
     "output_type": "stream",
     "text": [
      "Filename\t\t\t\tType\t\tSize\tUsed\tPriority\n",
      "/swap/file                              file\t\t2097152\t0\t-2\n"
     ]
    }
   ],
   "source": [
    "cat /proc/swaps # 查看所有swap分区的信息"
   ]
  },
  {
   "cell_type": "code",
   "execution_count": 51,
   "metadata": {},
   "outputs": [
    {
     "name": "stdout",
     "output_type": "stream",
     "text": [
      "Filename\t\t\t\tType\t\tSize\tUsed\tPriority\n",
      "/swap/file                             \tfile\t2097152\t0\t-2\n"
     ]
    }
   ],
   "source": [
    "swapon -s # 查看所有交换分区"
   ]
  },
  {
   "cell_type": "code",
   "execution_count": 16,
   "metadata": {},
   "outputs": [
    {
     "name": "stdout",
     "output_type": "stream",
     "text": [
      "procs -----------memory---------- ---swap-- -----io---- -system-- ------cpu-----\n",
      " r  b   swpd   free   buff  cache   si   so    bi    bo   in   cs us sy id wa st\n",
      " 2  0      0 5878128  30684 192452    0    0    34   855   18   64  0  0 100  0  0\n",
      " 0  0      0 5878128  30684 192452    0    0     0     0   12   84  0  0 100  0  0\n",
      " 0  0      0 5877876  30692 192476    0    0     0     2   13   91  0  0 100  0  0\n",
      " 0  0      0 5877876  30692 192484    0    0     0     0    8   75  0  0 100  0  0\n",
      " 0  0      0 5877876  30692 192484    0    0     0     5   11   88  0  0 100  0  0\n",
      " 0  0      0 5877876  30692 192484    0    0     0     0    7   74  0  0 100  0  0\n",
      "\n"
     ]
    }
   ],
   "source": [
    "vmstat 5 #不会停止"
   ]
  },
  {
   "cell_type": "code",
   "execution_count": 15,
   "metadata": {},
   "outputs": [
    {
     "name": "stdout",
     "output_type": "stream",
     "text": [
      "MemTotal:        6405636 kB\n",
      "MemFree:         5879872 kB\n",
      "MemAvailable:    5880660 kB\n",
      "Buffers:           30676 kB\n",
      "Cached:           167836 kB\n",
      "SwapCached:            0 kB\n",
      "Active:           312692 kB\n",
      "Inactive:         105028 kB\n",
      "Active(anon):     219272 kB\n",
      "Inactive(anon):        8 kB\n",
      "Active(file):      93420 kB\n",
      "Inactive(file):   105020 kB\n",
      "Unevictable:           0 kB\n",
      "Mlocked:               0 kB\n",
      "SwapTotal:       2097152 kB\n",
      "SwapFree:        2097152 kB\n",
      "Dirty:                32 kB\n",
      "Writeback:             0 kB\n",
      "AnonPages:        219516 kB\n",
      "Mapped:            46452 kB\n",
      "Shmem:                64 kB\n",
      "Slab:              43972 kB\n",
      "SReclaimable:      24616 kB\n",
      "SUnreclaim:        19356 kB\n",
      "KernelStack:        2848 kB\n",
      "PageTables:         2976 kB\n",
      "NFS_Unstable:          0 kB\n",
      "Bounce:                0 kB\n",
      "WritebackTmp:          0 kB\n",
      "CommitLimit:     5299968 kB\n",
      "Committed_AS:     540464 kB\n",
      "VmallocTotal:   34359738367 kB\n",
      "VmallocUsed:           0 kB\n",
      "VmallocChunk:          0 kB\n",
      "Percpu:             1888 kB\n",
      "AnonHugePages:     71680 kB\n",
      "ShmemHugePages:        0 kB\n",
      "ShmemPmdMapped:        0 kB\n",
      "HugePages_Total:       0\n",
      "HugePages_Free:        0\n",
      "HugePages_Rsvd:        0\n",
      "HugePages_Surp:        0\n",
      "Hugepagesize:       2048 kB\n",
      "Hugetlb:               0 kB\n",
      "DirectMap4k:       15360 kB\n",
      "DirectMap2M:     2404352 kB\n",
      "DirectMap1G:     5242880 kB\n"
     ]
    }
   ],
   "source": [
    "cat /proc/meminfo"
   ]
  },
  {
   "cell_type": "code",
   "execution_count": 22,
   "metadata": {},
   "outputs": [
    {
     "name": "stdout",
     "output_type": "stream",
     "text": [
      "\u001b[01;31m\u001b[KMemTotal\u001b[m\u001b[K:        6405636 kB\n"
     ]
    }
   ],
   "source": [
    "grep MemTotal /proc/meminfo # 查看内存总量"
   ]
  },
  {
   "cell_type": "code",
   "execution_count": 46,
   "metadata": {},
   "outputs": [
    {
     "name": "stdout",
     "output_type": "stream",
     "text": [
      "\u001b[01;31m\u001b[KMemFree\u001b[m\u001b[K:         5847576 kB\n"
     ]
    }
   ],
   "source": [
    "grep MemFree /proc/meminfo #查看空闲内存量"
   ]
  },
  {
   "cell_type": "code",
   "execution_count": 21,
   "metadata": {
    "scrolled": true
   },
   "outputs": [
    {
     "name": "stdout",
     "output_type": "stream",
     "text": [
      "Filesystem      Size  Used Avail Use% Mounted on\n",
      "/dev/sdb        251G   14G  225G   6% /\n",
      "tools           116G   93G   23G  81% /init\n",
      "none            3.1G     0  3.1G   0% /dev\n",
      "tmpfs           3.1G     0  3.1G   0% /sys/fs/cgroup\n",
      "none            3.1G     0  3.1G   0% /run\n",
      "none            3.1G     0  3.1G   0% /run/lock\n",
      "none            3.1G     0  3.1G   0% /run/shm\n",
      "none            3.1G     0  3.1G   0% /run/user\n",
      "tmpfs           3.1G     0  3.1G   0% /mnt/wsl\n",
      "C:\\             116G   93G   23G  81% /mnt/c\n",
      "D:\\              56G   17G   40G  29% /mnt/d\n",
      "E:\\              67G   17G   50G  26% /mnt/e\n",
      "F:\\             466G  294G  172G  64% /mnt/f\n"
     ]
    }
   ],
   "source": [
    "df -h #查看各分区使用情况"
   ]
  },
  {
   "cell_type": "code",
   "execution_count": 49,
   "metadata": {},
   "outputs": [
    {
     "name": "stdout",
     "output_type": "stream",
     "text": [
      "/dev/sdb     on  /                          type  ext4         (rw,relatime,discard,errors=remount-ro,data=ordered)\n",
      "tools        on  /init                      type  9p           (ro,relatime,dirsync,aname=tools;fmask=022,loose,access=client,trans=fd,rfd=6,wfd=6)\n",
      "none         on  /dev                       type  devtmpfs     (rw,nosuid,relatime,size=3200340k,nr_inodes=800085,mode=755)\n",
      "devpts       on  /dev/pts                   type  devpts       (rw,nosuid,noexec,noatime,gid=5,mode=620,ptmxmode=000)\n",
      "sysfs        on  /sys                       type  sysfs        (rw,nosuid,nodev,noexec,noatime)\n",
      "tmpfs        on  /sys/fs/cgroup             type  tmpfs        (rw,nosuid,nodev,noexec,relatime,mode=755)\n",
      "cgroup2      on  /sys/fs/cgroup/unified     type  cgroup2      (rw,nosuid,nodev,noexec,relatime,nsdelegate)\n",
      "cgroup       on  /sys/fs/cgroup/cpuset      type  cgroup       (rw,nosuid,nodev,noexec,relatime,cpuset)\n",
      "cgroup       on  /sys/fs/cgroup/cpu         type  cgroup       (rw,nosuid,nodev,noexec,relatime,cpu)\n",
      "cgroup       on  /sys/fs/cgroup/cpuacct     type  cgroup       (rw,nosuid,nodev,noexec,relatime,cpuacct)\n",
      "cgroup       on  /sys/fs/cgroup/blkio       type  cgroup       (rw,nosuid,nodev,noexec,relatime,blkio)\n",
      "cgroup       on  /sys/fs/cgroup/memory      type  cgroup       (rw,nosuid,nodev,noexec,relatime,memory)\n",
      "cgroup       on  /sys/fs/cgroup/devices     type  cgroup       (rw,nosuid,nodev,noexec,relatime,devices)\n",
      "cgroup       on  /sys/fs/cgroup/freezer     type  cgroup       (rw,nosuid,nodev,noexec,relatime,freezer)\n",
      "cgroup       on  /sys/fs/cgroup/net_cls     type  cgroup       (rw,nosuid,nodev,noexec,relatime,net_cls)\n",
      "cgroup       on  /sys/fs/cgroup/perf_event  type  cgroup       (rw,nosuid,nodev,noexec,relatime,perf_event)\n",
      "cgroup       on  /sys/fs/cgroup/net_prio    type  cgroup       (rw,nosuid,nodev,noexec,relatime,net_prio)\n",
      "cgroup       on  /sys/fs/cgroup/hugetlb     type  cgroup       (rw,nosuid,nodev,noexec,relatime,hugetlb)\n",
      "cgroup       on  /sys/fs/cgroup/pids        type  cgroup       (rw,nosuid,nodev,noexec,relatime,pids)\n",
      "cgroup       on  /sys/fs/cgroup/rdma        type  cgroup       (rw,nosuid,nodev,noexec,relatime,rdma)\n",
      "proc         on  /proc                      type  proc         (rw,nosuid,nodev,noexec,noatime)\n",
      "binfmt_misc  on  /proc/sys/fs/binfmt_misc   type  binfmt_misc  (rw,relatime)\n",
      "none         on  /run                       type  tmpfs        (rw,nosuid,noexec,noatime,mode=755)\n",
      "none         on  /run/lock                  type  tmpfs        (rw,nosuid,nodev,noexec,noatime)\n",
      "none         on  /run/shm                   type  tmpfs        (rw,nosuid,nodev,noatime)\n",
      "none         on  /run/user                  type  tmpfs        (rw,nosuid,nodev,noexec,noatime,mode=755)\n",
      "tmpfs        on  /mnt/wsl                   type  tmpfs        (rw,relatime)\n",
      "C:\\          on  /mnt/c                     type  9p           (rw,noatime,dirsync,aname=drvfs;path=C:\\;uid=1000;gid=1000;symlinkroot=/mnt/,mmap,access=client,msize=65536,trans=fd,rfd=7,wfd=7)\n",
      "D:\\          on  /mnt/d                     type  9p           (rw,noatime,dirsync,aname=drvfs;path=D:\\;uid=1000;gid=1000;symlinkroot=/mnt/,mmap,access=client,msize=65536,trans=fd,rfd=7,wfd=7)\n",
      "E:\\          on  /mnt/e                     type  9p           (rw,noatime,dirsync,aname=drvfs;path=E:\\;uid=1000;gid=1000;symlinkroot=/mnt/,mmap,access=client,msize=65536,trans=fd,rfd=7,wfd=7)\n",
      "F:\\          on  /mnt/f                     type  9p           (rw,noatime,dirsync,aname=drvfs;path=F:\\;uid=1000;gid=1000;symlinkroot=/mnt/,mmap,access=client,msize=65536,trans=fd,rfd=7,wfd=7)\n"
     ]
    }
   ],
   "source": [
    "mount | column -t # 查看挂接的分区状态，显示为表格"
   ]
  },
  {
   "cell_type": "markdown",
   "metadata": {},
   "source": [
    "### CPU信息"
   ]
  },
  {
   "cell_type": "code",
   "execution_count": 8,
   "metadata": {},
   "outputs": [
    {
     "name": "stdout",
     "output_type": "stream",
     "text": [
      "Architecture:          x86_64\n",
      "CPU op-mode(s):        32-bit, 64-bit\n",
      "Byte Order:            Little Endian\n",
      "CPU(s):                8\n",
      "On-line CPU(s) list:   0-7\n",
      "Thread(s) per core:    2\n",
      "Core(s) per socket:    4\n",
      "Socket(s):             1\n",
      "Vendor ID:             GenuineIntel\n",
      "CPU family:            6\n",
      "Model:                 142\n",
      "Model name:            Intel(R) Core(TM) i5-8250U CPU @ 1.60GHz\n",
      "Stepping:              10\n",
      "CPU MHz:               1799.999\n",
      "BogoMIPS:              3599.99\n",
      "Hypervisor vendor:     Microsoft\n",
      "Virtualization type:   full\n",
      "L1d cache:             32K\n",
      "L1i cache:             32K\n",
      "L2 cache:              256K\n",
      "L3 cache:              6144K\n",
      "Flags:                 fpu vme de pse tsc msr pae mce cx8 apic sep mtrr pge mca cmov pat pse36 clflush mmx fxsr sse sse2 ss ht syscall nx pdpe1gb rdtscp lm constant_tsc rep_good nopl xtopology cpuid pni pclmulqdq ssse3 fma cx16 pcid sse4_1 sse4_2 movbe popcnt aes xsave avx f16c rdrand hypervisor lahf_lm abm 3dnowprefetch invpcid_single pti ssbd ibrs ibpb stibp fsgsbase bmi1 avx2 smep bmi2 erms invpcid rdseed adx smap clflushopt xsaveopt xsavec xgetbv1 xsaves flush_l1d arch_capabilities\n"
     ]
    }
   ],
   "source": [
    "lscpu"
   ]
  },
  {
   "cell_type": "code",
   "execution_count": 26,
   "metadata": {},
   "outputs": [
    {
     "name": "stdout",
     "output_type": "stream",
     "text": [
      "      8  Intel(R) Core(TM) i5-8250U CPU @ 1.60GHz\n"
     ]
    }
   ],
   "source": [
    "cat /proc/cpuinfo | grep name | cut -f2 -d: | uniq -c # CPU型号"
   ]
  },
  {
   "cell_type": "code",
   "execution_count": 27,
   "metadata": {},
   "outputs": [
    {
     "name": "stdout",
     "output_type": "stream",
     "text": [
      "cpu MHz\t\t: 1799.999\n"
     ]
    }
   ],
   "source": [
    "cat /proc/cpuinfo |grep MHz|uniq"
   ]
  },
  {
   "cell_type": "code",
   "execution_count": 28,
   "metadata": {},
   "outputs": [
    {
     "name": "stdout",
     "output_type": "stream",
     "text": [
      "1\n"
     ]
    }
   ],
   "source": [
    "cat /proc/cpuinfo | grep \"physical id\" | sort | uniq | wc -l #物理CPU个数"
   ]
  },
  {
   "cell_type": "code",
   "execution_count": 29,
   "metadata": {},
   "outputs": [
    {
     "name": "stdout",
     "output_type": "stream",
     "text": [
      "8\n"
     ]
    }
   ],
   "source": [
    "cat /proc/cpuinfo | grep \"processor\" | wc -l #逻辑CPU个数"
   ]
  },
  {
   "cell_type": "code",
   "execution_count": 31,
   "metadata": {},
   "outputs": [
    {
     "name": "stdout",
     "output_type": "stream",
     "text": [
      "8\n"
     ]
    }
   ],
   "source": [
    "cat /proc/cpuinfo | grep \"cpu cores\" | wc -l"
   ]
  },
  {
   "cell_type": "code",
   "execution_count": 30,
   "metadata": {},
   "outputs": [
    {
     "name": "stdout",
     "output_type": "stream",
     "text": [
      "cpu cores\t: 4\n"
     ]
    }
   ],
   "source": [
    "cat /proc/cpuinfo |grep \"cores\"|uniq #CPU是几核"
   ]
  },
  {
   "cell_type": "code",
   "execution_count": 32,
   "metadata": {},
   "outputs": [
    {
     "name": "stdout",
     "output_type": "stream",
     "text": [
      "\u001b[01;31m\u001b[Ksiblings\u001b[m\u001b[K\t: 8\n",
      "\u001b[01;31m\u001b[Ksiblings\u001b[m\u001b[K\t: 8\n",
      "\u001b[01;31m\u001b[Ksiblings\u001b[m\u001b[K\t: 8\n",
      "\u001b[01;31m\u001b[Ksiblings\u001b[m\u001b[K\t: 8\n",
      "\u001b[01;31m\u001b[Ksiblings\u001b[m\u001b[K\t: 8\n",
      "\u001b[01;31m\u001b[Ksiblings\u001b[m\u001b[K\t: 8\n",
      "\u001b[01;31m\u001b[Ksiblings\u001b[m\u001b[K\t: 8\n",
      "\u001b[01;31m\u001b[Ksiblings\u001b[m\u001b[K\t: 8\n"
     ]
    }
   ],
   "source": [
    "cat /proc/cpuinfo | grep \"siblings\""
   ]
  },
  {
   "cell_type": "code",
   "execution_count": 33,
   "metadata": {},
   "outputs": [
    {
     "name": "stdout",
     "output_type": "stream",
     "text": [
      "      1 physical id\t: 0\n",
      "      1 address sizes\t: 39 bits physical, 48 bits virtual\n",
      "      1 physical id\t: 0\n",
      "      1 address sizes\t: 39 bits physical, 48 bits virtual\n",
      "      1 physical id\t: 0\n",
      "      1 address sizes\t: 39 bits physical, 48 bits virtual\n",
      "      1 physical id\t: 0\n",
      "      1 address sizes\t: 39 bits physical, 48 bits virtual\n",
      "      1 physical id\t: 0\n",
      "      1 address sizes\t: 39 bits physical, 48 bits virtual\n",
      "      1 physical id\t: 0\n",
      "      1 address sizes\t: 39 bits physical, 48 bits virtual\n",
      "      1 physical id\t: 0\n",
      "      1 address sizes\t: 39 bits physical, 48 bits virtual\n",
      "      1 physical id\t: 0\n",
      "      1 address sizes\t: 39 bits physical, 48 bits virtual\n"
     ]
    }
   ],
   "source": [
    "cat /proc/cpuinfo | grep physical | uniq -c"
   ]
  },
  {
   "cell_type": "markdown",
   "metadata": {},
   "source": [
    "## 网络信息"
   ]
  },
  {
   "cell_type": "code",
   "execution_count": 54,
   "metadata": {},
   "outputs": [
    {
     "name": "stdout",
     "output_type": "stream",
     "text": [
      "eth0: flags=4163<UP,BROADCAST,RUNNING,MULTICAST>  mtu 1500\n",
      "        inet 172.20.26.40  netmask 255.255.240.0  broadcast 172.20.31.255\n",
      "        inet6 fe80::215:5dff:fe1b:2793  prefixlen 64  scopeid 0x20<link>\n",
      "        ether 00:15:5d:1b:27:93  txqueuelen 1000  (Ethernet)\n",
      "        RX packets 15059  bytes 12477448 (11.8 MiB)\n",
      "        RX errors 0  dropped 0  overruns 0  frame 0\n",
      "        TX packets 7505  bytes 18888729 (18.0 MiB)\n",
      "        TX errors 0  dropped 0 overruns 0  carrier 0  collisions 0\n",
      "\n",
      "lo: flags=73<UP,LOOPBACK,RUNNING>  mtu 65536\n",
      "        inet 127.0.0.1  netmask 255.0.0.0\n",
      "        inet6 ::1  prefixlen 128  scopeid 0x10<host>\n",
      "        loop  txqueuelen 1000  (Local Loopback)\n",
      "        RX packets 12092  bytes 22423610 (21.3 MiB)\n",
      "        RX errors 0  dropped 0  overruns 0  frame 0\n",
      "        TX packets 12092  bytes 22423610 (21.3 MiB)\n",
      "        TX errors 0  dropped 0 overruns 0  carrier 0  collisions 0\n",
      "\n"
     ]
    }
   ],
   "source": [
    "ifconfig # 查看所有网络接口的属性"
   ]
  },
  {
   "cell_type": "code",
   "execution_count": 43,
   "metadata": {},
   "outputs": [
    {
     "name": "stdout",
     "output_type": "stream",
     "text": [
      "Kernel IP routing table\n",
      "Destination     Gateway         Genmask         Flags Metric Ref    Use Iface\n",
      "0.0.0.0         172.20.16.1     0.0.0.0         UG    0      0        0 eth0\n",
      "172.20.16.0     0.0.0.0         255.255.240.0   U     0      0        0 eth0\n"
     ]
    }
   ],
   "source": [
    "route -n #查看路由表"
   ]
  },
  {
   "cell_type": "code",
   "execution_count": 56,
   "metadata": {},
   "outputs": [
    {
     "name": "stdout",
     "output_type": "stream",
     "text": [
      "[sudo] password for yichang: \r\n"
     ]
    }
   ],
   "source": [
    "sudo iptables -L  # 查看防火墙设置"
   ]
  },
  {
   "cell_type": "code",
   "execution_count": 85,
   "metadata": {},
   "outputs": [
    {
     "name": "stdout",
     "output_type": "stream",
     "text": [
      "DEVICE=\"eth0\"\n",
      "BOOTPROTO=\"dhcp\"\n",
      "ONBOOT=\"yes\"\n",
      "TYPE=\"Ethernet\"\n",
      "USERCTL=\"yes\"\n",
      "PEERDNS=\"yes\"\n",
      "IPV6INIT=\"no\"\n",
      "PERSISTENT_DHCLIENT=\"1\"\n"
     ]
    }
   ],
   "source": [
    "cat /etc/sysconfig/network-scripts/ifcfg-eth0 #网卡信息文件 cat /etc/network/interfaces(16.4) #cat /etc/netplan/ (18.4)"
   ]
  },
  {
   "cell_type": "code",
   "execution_count": 84,
   "metadata": {},
   "outputs": [
    {
     "name": "stdout",
     "output_type": "stream",
     "text": [
      "# This file was automatically generated by WSL. To stop automatic generation of this file, add the following entry to /etc/wsl.conf:\n",
      "# [network]\n",
      "# generateResolvConf = false\n",
      "nameserver 172.20.16.1\n"
     ]
    }
   ],
   "source": [
    "cat /etc/resolv.conf #查看DNS服务器"
   ]
  },
  {
   "cell_type": "code",
   "execution_count": 18,
   "metadata": {},
   "outputs": [
    {
     "name": "stdout",
     "output_type": "stream",
     "text": [
      "COMMAND   PID    USER   FD   TYPE DEVICE SIZE/OFF NODE NAME\n",
      "node       25 yichang   19u  IPv6  15414      0t0  TCP DESKTOP-H5LI4PL:43971->DESKTOP-H5LI4PL:64432 (ESTABLISHED)\n",
      "node       25 yichang   20u  IPv6  15410      0t0  TCP *:43971 (LISTEN)\n",
      "node       25 yichang   39u  IPv6  18667      0t0  TCP DESKTOP-H5LI4PL:43971->DESKTOP-H5LI4PL:58757 (ESTABLISHED)\n",
      "node       25 yichang   40u  IPv4  18669      0t0  TCP localhost:39444->localhost:ddi-tcp-1 (ESTABLISHED)\n",
      "node      295 yichang   19u  IPv6  15415      0t0  TCP DESKTOP-H5LI4PL:43971->DESKTOP-H5LI4PL:64433 (ESTABLISHED)\n",
      "jupyter-n 606 yichang    7u  IPv4  13620      0t0  TCP localhost:ddi-tcp-1 (LISTEN)\n",
      "jupyter-n 606 yichang   31u  IPv4  13684      0t0  TCP localhost:ddi-tcp-1->localhost:39444 (ESTABLISHED)\n",
      "jupyter-n 606 yichang   32u  IPv4  15594      0t0  TCP localhost:53468->localhost:54113 (ESTABLISHED)\n",
      "jupyter-n 606 yichang   33u  IPv4  16532      0t0  TCP localhost:47658->localhost:57153 (ESTABLISHED)\n",
      "jupyter-n 606 yichang   34u  IPv4  16533      0t0  TCP localhost:55522->localhost:34187 (ESTABLISHED)\n",
      "jupyter-n 606 yichang   36u  IPv4  15595      0t0  TCP localhost:55526->localhost:34187 (ESTABLISHED)\n",
      "jupyter-n 606 yichang   38u  IPv4  15596      0t0  TCP localhost:47666->localhost:57153 (ESTABLISHED)\n",
      "jupyter-n 606 yichang   40u  IPv4  15597      0t0  TCP localhost:38656->localhost:50629 (ESTABLISHED)\n",
      "python    626 yichang   12u  IPv4  14672      0t0  TCP localhost:54113 (LISTEN)\n",
      "python    626 yichang   14u  IPv4  14674      0t0  TCP localhost:50629 (LISTEN)\n",
      "python    626 yichang   16u  IPv4  14676      0t0  TCP localhost:34187 (LISTEN)\n",
      "python    626 yichang   18u  IPv4  14678      0t0  TCP localhost:57153 (LISTEN)\n",
      "python    626 yichang   23u  IPv4  14682      0t0  TCP localhost:33107 (LISTEN)\n",
      "python    626 yichang   31u  IPv4  18671      0t0  TCP localhost:34947 (LISTEN)\n",
      "python    626 yichang   35u  IPv4   1409      0t0  TCP localhost:54113->localhost:53468 (ESTABLISHED)\n",
      "python    626 yichang   36u  IPv4  15517      0t0  TCP localhost:57153->localhost:47658 (ESTABLISHED)\n",
      "python    626 yichang   38u  IPv4   1345      0t0  TCP localhost:34187->localhost:55522 (ESTABLISHED)\n",
      "python    626 yichang   40u  IPv4   1410      0t0  TCP localhost:34187->localhost:55526 (ESTABLISHED)\n",
      "python    626 yichang   41u  IPv4   1411      0t0  TCP localhost:57153->localhost:47666 (ESTABLISHED)\n",
      "python    626 yichang   42u  IPv4   1412      0t0  TCP localhost:50629->localhost:38656 (ESTABLISHED)\n"
     ]
    }
   ],
   "source": [
    "lsof -i #显示所有打开的端口"
   ]
  },
  {
   "cell_type": "code",
   "execution_count": 59,
   "metadata": {},
   "outputs": [
    {
     "name": "stdout",
     "output_type": "stream",
     "text": [
      "(Not all processes could be identified, non-owned process info\n",
      " will not be shown, you would have to be root to see it all.)\n",
      "Active Internet connections (only servers)\n",
      "Proto Recv-Q Send-Q Local Address           Foreign Address         State       PID/Program name    \n",
      "tcp        0      0 127.0.0.1:57153         0.0.0.0:*               LISTEN      626/python          \n",
      "tcp        0      0 127.0.0.1:54113         0.0.0.0:*               LISTEN      626/python          \n",
      "tcp        0      0 127.0.0.1:34947         0.0.0.0:*               LISTEN      626/python          \n",
      "tcp        0      0 127.0.0.1:50629         0.0.0.0:*               LISTEN      626/python          \n",
      "tcp        0      0 127.0.0.1:34187         0.0.0.0:*               LISTEN      626/python          \n",
      "tcp        0      0 127.0.0.1:33107         0.0.0.0:*               LISTEN      626/python          \n",
      "tcp        0      0 127.0.0.1:8888          0.0.0.0:*               LISTEN      606/python          \n",
      "tcp6       0      0 :::43971                :::*                    LISTEN      25/node             \n"
     ]
    }
   ],
   "source": [
    "netstat -lntp # 查看所有监听端口"
   ]
  },
  {
   "cell_type": "code",
   "execution_count": 42,
   "metadata": {},
   "outputs": [
    {
     "name": "stdout",
     "output_type": "stream",
     "text": [
      "(Not all processes could be identified, non-owned process info\n",
      " will not be shown, you would have to be root to see it all.)\n",
      "Active Internet connections (servers and established)\n",
      "Proto Recv-Q Send-Q Local Address           Foreign Address         State       PID/Program name    \n",
      "tcp        0      0 127.0.0.1:57153         0.0.0.0:*               LISTEN      626/python          \n",
      "tcp        0      0 127.0.0.1:54113         0.0.0.0:*               LISTEN      626/python          \n",
      "tcp        0      0 127.0.0.1:34947         0.0.0.0:*               LISTEN      626/python          \n",
      "tcp        0      0 127.0.0.1:50629         0.0.0.0:*               LISTEN      626/python          \n",
      "tcp        0      0 127.0.0.1:34187         0.0.0.0:*               LISTEN      626/python          \n",
      "tcp        0      0 127.0.0.1:33107         0.0.0.0:*               LISTEN      626/python          \n",
      "tcp        0      0 127.0.0.1:8888          0.0.0.0:*               LISTEN      606/python          \n",
      "tcp        0      0 127.0.0.1:34187         127.0.0.1:55522         ESTABLISHED 626/python          \n",
      "tcp        0      0 127.0.0.1:55522         127.0.0.1:34187         ESTABLISHED 606/python          \n",
      "tcp        0      0 127.0.0.1:8888          127.0.0.1:39510         ESTABLISHED 606/python          \n",
      "tcp        0      0 127.0.0.1:8888          127.0.0.1:39444         ESTABLISHED 606/python          \n",
      "tcp        0      0 127.0.0.1:57153         127.0.0.1:47666         ESTABLISHED 626/python          \n",
      "tcp        0      0 127.0.0.1:53468         127.0.0.1:54113         ESTABLISHED 606/python          \n",
      "tcp        0      0 127.0.0.1:55526         127.0.0.1:34187         ESTABLISHED 606/python          \n",
      "tcp        0      0 127.0.0.1:47658         127.0.0.1:57153         ESTABLISHED 606/python          \n",
      "tcp        0      0 127.0.0.1:34187         127.0.0.1:55526         ESTABLISHED 626/python          \n",
      "tcp        0      0 127.0.0.1:57153         127.0.0.1:47658         ESTABLISHED 626/python          \n",
      "tcp        0      0 127.0.0.1:39444         127.0.0.1:8888          ESTABLISHED 25/node             \n",
      "tcp        0      0 127.0.0.1:39510         127.0.0.1:8888          ESTABLISHED 25/node             \n",
      "tcp        0      0 127.0.0.1:38656         127.0.0.1:50629         ESTABLISHED 606/python          \n",
      "tcp        0      0 127.0.0.1:54113         127.0.0.1:53468         ESTABLISHED 626/python          \n",
      "tcp        0      0 127.0.0.1:47666         127.0.0.1:57153         ESTABLISHED 606/python          \n",
      "tcp        0      0 127.0.0.1:50629         127.0.0.1:38656         ESTABLISHED 626/python          \n",
      "tcp6       0      0 :::43971                :::*                    LISTEN      25/node             \n",
      "tcp6       0      0 172.20.26.40:43971      172.20.16.1:63443       ESTABLISHED 25/node             \n",
      "tcp6       0      0 172.20.26.40:43971      172.20.16.1:64433       ESTABLISHED 295/node            \n",
      "tcp6       0    632 172.20.26.40:43971      172.20.16.1:58757       ESTABLISHED 25/node             \n",
      "tcp6       0      0 172.20.26.40:43971      172.20.16.1:64432       ESTABLISHED 25/node             \n"
     ]
    }
   ],
   "source": [
    "netstat -antp #查看所有已经建立的连接"
   ]
  },
  {
   "cell_type": "code",
   "execution_count": 60,
   "metadata": {
    "scrolled": true
   },
   "outputs": [
    {
     "name": "stdout",
     "output_type": "stream",
     "text": [
      "Ip:\n",
      "    21503 total packets received\n",
      "    0 forwarded\n",
      "    0 incoming packets discarded\n",
      "    20760 incoming packets delivered\n",
      "    21107 requests sent out\n",
      "Icmp:\n",
      "    0 ICMP messages received\n",
      "    0 input ICMP message failed.\n",
      "    ICMP input histogram:\n",
      "    3 ICMP messages sent\n",
      "    0 ICMP messages failed\n",
      "    ICMP output histogram:\n",
      "        destination unreachable: 3\n",
      "IcmpMsg:\n",
      "        OutType3: 3\n",
      "Tcp:\n",
      "    97 active connections openings\n",
      "    115 passive connection openings\n",
      "    20 failed connection attempts\n",
      "    0 connection resets received\n",
      "    20 connections established\n",
      "    20680 segments received\n",
      "    31481 segments send out\n",
      "    33 segments retransmited\n",
      "    0 bad segments received.\n",
      "    22 resets sent\n",
      "Udp:\n",
      "    32 packets received\n",
      "    3 packets to unknown port received.\n",
      "    0 packet receive errors\n",
      "    32 packets sent\n",
      "    0 receive buffer errors\n",
      "    0 send buffer errors\n",
      "    IgnoredMulti: 45\n",
      "UdpLite:\n",
      "TcpExt:\n",
      "    2 invalid SYN cookies received\n",
      "    62 TCP sockets finished time wait in fast timer\n",
      "    590 delayed acks sent\n",
      "    1 delayed acks further delayed because of locked socket\n",
      "    8097 packet headers predicted\n",
      "    2970 acknowledgments not containing data payload received\n",
      "    5639 predicted acknowledgments\n",
      "    7 times recovered from packet loss by selective acknowledgements\n",
      "    Detected reordering 15 times using SACK\n",
      "    1 congestion windows recovered without slow start by DSACK\n",
      "    33 fast retransmits\n",
      "    TCPLossProbes: 3\n",
      "    9 DSACKs received\n",
      "    TCPSACKDiscard: 6\n",
      "    TCPSackMerged: 18\n",
      "    TCPSackShiftFallback: 16\n",
      "    TCPRcvCoalesce: 767\n",
      "    TCPOFOQueue: 1\n",
      "    TCPAutoCorking: 126\n",
      "    TCPOrigDataSent: 24092\n",
      "    TCPHystartTrainDetect: 17\n",
      "    TCPHystartTrainCwnd: 372\n",
      "    TCPDelivered: 24177\n",
      "IpExt:\n",
      "    InBcastPkts: 45\n",
      "    InOctets: 34961660\n",
      "    OutOctets: 42239602\n",
      "    InBcastOctets: 3510\n",
      "    InNoECTPkts: 28058\n",
      "Sctp:\n",
      "    0 Current Associations\n",
      "    0 Active Associations\n",
      "    0 Passive Associations\n",
      "    0 Number of Aborteds \n",
      "    0 Number of Graceful Terminations\n",
      "    0 Number of Out of Blue packets\n",
      "    0 Number of Packets with invalid Checksum\n",
      "    0 Number of control chunks sent\n",
      "    0 Number of ordered chunks sent\n",
      "    0 Number of Unordered chunks sent\n",
      "    0 Number of control chunks received\n",
      "    0 Number of ordered chunks received\n",
      "    0 Number of Unordered chunks received\n",
      "    0 Number of messages fragmented\n",
      "    0 Number of messages reassembled \n",
      "    0 Number of SCTP packets sent\n",
      "    0 Number of SCTP packets received\n"
     ]
    }
   ],
   "source": [
    "netstat -s # 查看网络统计信息进程"
   ]
  },
  {
   "cell_type": "markdown",
   "metadata": {},
   "source": [
    "## 进程信息"
   ]
  },
  {
   "cell_type": "code",
   "execution_count": 86,
   "metadata": {},
   "outputs": [
    {
     "name": "stdout",
     "output_type": "stream",
     "text": [
      "  PID TTY          TIME CMD\n",
      "  638 pts/2    00:00:00 bash\n",
      " 1586 pts/2    00:00:00 ps\n"
     ]
    }
   ],
   "source": [
    "ps # 查看当前进程"
   ]
  },
  {
   "cell_type": "code",
   "execution_count": 61,
   "metadata": {},
   "outputs": [
    {
     "name": "stdout",
     "output_type": "stream",
     "text": [
      "UID        PID  PPID  C STIME TTY          TIME CMD\n",
      "root         1     0  0 15:12 ?        00:00:00 /init\n",
      "root        16     1  0 15:12 ?        00:00:00 /init\n",
      "root        17    16  0 15:12 ?        00:00:00 /init\n",
      "yichang     18    17  0 15:12 pts/0    00:00:00 sh /mnt/c/Users/91991/.vscode/ex\n",
      "yichang     23    18  0 15:12 pts/0    00:00:00 sh /home/yichang/.vscode-server/\n",
      "yichang     25    23  0 15:12 pts/0    00:00:06 /home/yichang/.vscode-server/bin\n",
      "yichang     55    25  0 15:12 pts/0    00:00:00 /home/yichang/.vscode-server/bin\n",
      "yichang    295    25  0 15:12 pts/0    00:00:06 /home/yichang/.vscode-server/bin\n",
      "yichang    334   295  0 15:12 pts/0    00:00:00 /home/yichang/.vscode-server/bin\n",
      "yichang    342   295  0 15:12 pts/1    00:00:00 /bin/bash\n",
      "yichang    606   342  0 15:12 pts/1    00:00:08 /home/yichang/miniconda3/bin/pyt\n",
      "yichang    626   606  0 15:17 ?        00:00:02 /home/yichang/miniconda3/bin/pyt\n",
      "yichang    638   626  0 15:17 pts/2    00:00:00 /usr/bin/bash --rcfile /home/yic\n",
      "yichang    918   295  0 15:38 pts/3    00:00:00 /bin/bash\n",
      "yichang   1258   638  0 16:08 pts/2    00:00:00 ps -ef\n"
     ]
    }
   ],
   "source": [
    "ps -ef # 查看所有进程"
   ]
  },
  {
   "cell_type": "code",
   "execution_count": 87,
   "metadata": {},
   "outputs": [
    {
     "name": "stdout",
     "output_type": "stream",
     "text": [
      "USER       PID %CPU %MEM    VSZ   RSS TTY      STAT START   TIME COMMAND\n",
      "root         1  0.0  0.0    900   552 ?        Sl   15:12   0:00 /init\n",
      "root        16  0.0  0.0    900    88 ?        Ss   15:12   0:00 /init\n",
      "root        17  0.0  0.0    900    88 ?        S    15:12   0:00 /init\n",
      "yichang     18  0.0  0.0 113200  2904 pts/0    Ss+  15:12   0:00 sh /mnt/c/Users\n",
      "yichang     23  0.0  0.0 113196  2524 pts/0    S+   15:12   0:00 sh /home/yichan\n",
      "yichang     25  0.1  1.0 933104 68640 pts/0    Sl+  15:12   0:08 /home/yichang/.\n",
      "yichang     55  0.0  0.5 865632 37436 pts/0    Sl+  15:12   0:00 /home/yichang/.\n",
      "yichang    295  0.1  1.6 1086016 103732 pts/0  Sl+  15:12   0:12 /home/yichang/.\n",
      "yichang    334  0.0  0.6 583828 41160 pts/0    Sl+  15:12   0:00 /home/yichang/.\n",
      "yichang    342  0.0  0.1 118752  6852 pts/1    Ss   15:12   0:00 /bin/bash\n",
      "yichang    606  0.1  1.0 482144 67604 pts/1    Rl+  15:12   0:13 /home/yichang/m\n",
      "yichang    626  0.0  0.7 553704 48500 ?        Rsl  15:17   0:03 /home/yichang/m\n",
      "yichang    638  0.0  0.1 118764  6800 pts/2    Ss   15:17   0:00 /usr/bin/bash -\n",
      "root      1320  0.0  0.0    900    88 ?        Ss   17:09   0:00 /init\n",
      "root      1321  0.0  0.0    900    88 ?        S    17:09   0:00 /init\n",
      "yichang   1322  0.0  0.1 118800  6900 pts/3    Ss+  17:09   0:00 -bash\n",
      "yichang   1587  0.0  0.0 155388  4020 pts/2    R+   17:21   0:00 ps aux\n"
     ]
    }
   ],
   "source": [
    "ps aux # 查看所有进程"
   ]
  },
  {
   "cell_type": "code",
   "execution_count": 112,
   "metadata": {},
   "outputs": [
    {
     "name": "stdout",
     "output_type": "stream",
     "text": [
      "yichang    606  0.0  1.0 482400 67972 pts/1    Sl+  15:12   0:17 /home/yichang/miniconda3/bin/\u001b[01;31m\u001b[Kpython\u001b[m\u001b[K /home/yichang/miniconda3/bin/jupyter-notebook --no-browser\n",
      "yichang    626  0.0  0.7 553836 48500 ?        Ssl  15:17   0:03 /home/yichang/miniconda3/bin/\u001b[01;31m\u001b[Kpython\u001b[m\u001b[K -m bash_kernel -f /home/yichang/.local/share/jupyter/runtime/kernel-90e10cf8-fddc-40c5-8c80-0b48bf24ff7f.json\n",
      "yichang    638  0.0  0.1 118764  6800 pts/2    Ss   15:17   0:00 /usr/bin/bash --rcfile /home/yichang/miniconda3/lib/\u001b[01;31m\u001b[Kpython\u001b[m\u001b[K3.7/site-packages/pexpect/bashrc.sh\n",
      "yichang   1782  0.0  0.0 112728  2236 pts/2    S+   21:15   0:00 grep --color=auto \u001b[01;31m\u001b[Kpython\u001b[m\u001b[K\n"
     ]
    }
   ],
   "source": [
    "ps aux | grep python"
   ]
  },
  {
   "cell_type": "code",
   "execution_count": 88,
   "metadata": {},
   "outputs": [
    {
     "name": "stdout",
     "output_type": "stream",
     "text": [
      "bash: pstree: command not found\n"
     ]
    },
    {
     "ename": "",
     "evalue": "127",
     "output_type": "error",
     "traceback": []
    }
   ],
   "source": [
    "pstree # centos中无"
   ]
  },
  {
   "cell_type": "code",
   "execution_count": 93,
   "metadata": {},
   "outputs": [
    {
     "name": "stdout",
     "output_type": "stream",
     "text": [
      "638: /mnt/e/codes/GitHub/learnPython/Basic\n"
     ]
    }
   ],
   "source": [
    "pwdx 638 #查看进程占用的目录"
   ]
  },
  {
   "cell_type": "code",
   "execution_count": 68,
   "metadata": {},
   "outputs": [
    {
     "ename": "",
     "evalue": "1",
     "output_type": "error",
     "traceback": []
    }
   ],
   "source": [
    "chkconfig –list #列出所有系统服务"
   ]
  },
  {
   "cell_type": "code",
   "execution_count": 69,
   "metadata": {},
   "outputs": [
    {
     "ename": "",
     "evalue": "1",
     "output_type": "error",
     "traceback": []
    }
   ],
   "source": [
    "chkconfig –list | grep on # 列出所有启动的系统服务程序"
   ]
  },
  {
   "cell_type": "markdown",
   "metadata": {},
   "source": [
    "## 用户与组"
   ]
  },
  {
   "cell_type": "code",
   "execution_count": 62,
   "metadata": {},
   "outputs": [
    {
     "name": "stdout",
     "output_type": "stream",
     "text": [
      " 16:08:20 up 56 min,  0 users,  load average: 0.00, 0.00, 0.00\n",
      "USER     TTY      FROM             LOGIN@   IDLE   JCPU   PCPU WHAT\n"
     ]
    }
   ],
   "source": [
    "w # 查看活动用户"
   ]
  },
  {
   "cell_type": "code",
   "execution_count": 63,
   "metadata": {},
   "outputs": [
    {
     "name": "stdout",
     "output_type": "stream",
     "text": [
      "uid=1000(yichang) gid=1000(yichang) groups=1000(yichang),1001(docker)\n"
     ]
    }
   ],
   "source": [
    "id #查看指定用户信息"
   ]
  },
  {
   "cell_type": "code",
   "execution_count": 64,
   "metadata": {},
   "outputs": [
    {
     "name": "stdout",
     "output_type": "stream",
     "text": [
      "\n",
      "wtmp begins Thu Feb 20 14:50:12 2020\n"
     ]
    }
   ],
   "source": [
    "last #查看用户登录日志"
   ]
  },
  {
   "cell_type": "code",
   "execution_count": 81,
   "metadata": {},
   "outputs": [
    {
     "name": "stdout",
     "output_type": "stream",
     "text": [
      "yichang docker\n"
     ]
    }
   ],
   "source": [
    "groups #用户所在组信息"
   ]
  },
  {
   "cell_type": "code",
   "execution_count": 65,
   "metadata": {},
   "outputs": [
    {
     "name": "stdout",
     "output_type": "stream",
     "text": [
      "root\n",
      "bin\n",
      "daemon\n",
      "adm\n",
      "lp\n",
      "sync\n",
      "shutdown\n",
      "halt\n",
      "mail\n",
      "operator\n",
      "games\n",
      "ftp\n",
      "nobody\n",
      "systemd-network\n",
      "dbus\n",
      "polkitd\n",
      "rpc\n",
      "rpcuser\n",
      "nfsnobody\n",
      "sshd\n",
      "postfix\n",
      "chrony\n",
      "yichang\n",
      "oprofile\n"
     ]
    }
   ],
   "source": [
    "cut -d: -f1 /etc/passwd # 查看系统所有用户"
   ]
  },
  {
   "cell_type": "code",
   "execution_count": 82,
   "metadata": {
    "scrolled": true
   },
   "outputs": [
    {
     "name": "stdout",
     "output_type": "stream",
     "text": [
      "root:x:0:0:root:/root:/bin/bash\n",
      "bin:x:1:1:bin:/bin:/sbin/nologin\n",
      "daemon:x:2:2:daemon:/sbin:/sbin/nologin\n",
      "adm:x:3:4:adm:/var/adm:/sbin/nologin\n",
      "lp:x:4:7:lp:/var/spool/lpd:/sbin/nologin\n",
      "sync:x:5:0:sync:/sbin:/bin/sync\n",
      "shutdown:x:6:0:shutdown:/sbin:/sbin/shutdown\n",
      "halt:x:7:0:halt:/sbin:/sbin/halt\n",
      "mail:x:8:12:mail:/var/spool/mail:/sbin/nologin\n",
      "operator:x:11:0:operator:/root:/sbin/nologin\n",
      "games:x:12:100:games:/usr/games:/sbin/nologin\n",
      "ftp:x:14:50:FTP User:/var/ftp:/sbin/nologin\n",
      "nobody:x:99:99:Nobody:/:/sbin/nologin\n",
      "systemd-network:x:192:192:systemd Network Management:/:/sbin/nologin\n",
      "dbus:x:81:81:System message bus:/:/sbin/nologin\n",
      "polkitd:x:999:998:User for polkitd:/:/sbin/nologin\n",
      "rpc:x:32:32:Rpcbind Daemon:/var/lib/rpcbind:/sbin/nologin\n",
      "rpcuser:x:29:29:RPC Service User:/var/lib/nfs:/sbin/nologin\n",
      "nfsnobody:x:65534:65534:Anonymous NFS User:/var/lib/nfs:/sbin/nologin\n",
      "sshd:x:74:74:Privilege-separated SSH:/var/empty/sshd:/sbin/nologin\n",
      "postfix:x:89:89::/var/spool/postfix:/sbin/nologin\n",
      "chrony:x:998:995::/var/lib/chrony:/sbin/nologin\n",
      "yichang:x:1000:1000::/home/yichang:/bin/bash\n",
      "oprofile:x:16:16:Special user account to be used by OProfile:/var/lib/oprofile:/sbin/nologin\n"
     ]
    }
   ],
   "source": [
    "cat /etc/passwd"
   ]
  },
  {
   "cell_type": "code",
   "execution_count": 83,
   "metadata": {
    "scrolled": true
   },
   "outputs": [
    {
     "name": "stdout",
     "output_type": "stream",
     "text": [
      "  UID USER      PROC PWD-LOCK PWD-DENY LAST-LOGIN GECOS\n",
      "    0 root         5                              root\n",
      "    1 bin          0                              bin\n",
      "    2 daemon       0                              daemon\n",
      "    3 adm          0                              adm\n",
      "    4 lp           0                              lp\n",
      "    5 sync         0                              sync\n",
      "    6 shutdown     0                              shutdown\n",
      "    7 halt         0                              halt\n",
      "    8 mail         0                              mail\n",
      "   11 operator     0                              operator\n",
      "   12 games        0                              games\n",
      "   14 ftp          0                              FTP User\n",
      "   16 oprofile     0                              Special user account to be use\n",
      "   29 rpcuser      0                              RPC Service User\n",
      "   32 rpc          0                              Rpcbind Daemon\n",
      "   74 sshd         0                              Privilege-separated SSH\n",
      "   81 dbus         0                              System message bus\n",
      "   89 postfix      0                              \n",
      "   99 nobody       0                              Nobody\n",
      "  192 systemd-network\n",
      "                   0                              systemd Network Management\n",
      "  998 chrony       0                              \n",
      "  999 polkitd      0                              User for polkitd\n",
      " 1000 yichang     12                              \n",
      "65534 nfsnobody    0                              Anonymous NFS User\n"
     ]
    }
   ],
   "source": [
    "lslogins"
   ]
  },
  {
   "cell_type": "code",
   "execution_count": 66,
   "metadata": {
    "scrolled": true
   },
   "outputs": [
    {
     "name": "stdout",
     "output_type": "stream",
     "text": [
      "root\n",
      "bin\n",
      "daemon\n",
      "sys\n",
      "adm\n",
      "tty\n",
      "disk\n",
      "lp\n",
      "mem\n",
      "kmem\n",
      "wheel\n",
      "cdrom\n",
      "mail\n",
      "man\n",
      "dialout\n",
      "floppy\n",
      "games\n",
      "tape\n",
      "video\n",
      "ftp\n",
      "lock\n",
      "audio\n",
      "nobody\n",
      "users\n",
      "utmp\n",
      "utempter\n",
      "input\n",
      "systemd-journal\n",
      "systemd-network\n",
      "dbus\n",
      "polkitd\n",
      "rpc\n",
      "ssh_keys\n",
      "cgred\n",
      "rpcuser\n",
      "nfsnobody\n",
      "sshd\n",
      "postdrop\n",
      "postfix\n",
      "chrony\n",
      "yichang\n",
      "docker\n",
      "stapusr\n",
      "stapsys\n",
      "stapdev\n",
      "oprofile\n"
     ]
    }
   ],
   "source": [
    "cut -d: -f1 /etc/group # 查看系统所有组"
   ]
  },
  {
   "cell_type": "code",
   "execution_count": 67,
   "metadata": {},
   "outputs": [
    {
     "name": "stdout",
     "output_type": "stream",
     "text": [
      "no crontab for yichang\n"
     ]
    },
    {
     "ename": "",
     "evalue": "1",
     "output_type": "error",
     "traceback": []
    }
   ],
   "source": [
    "crontab -l # 查看当前用户的计划任务服务"
   ]
  },
  {
   "cell_type": "markdown",
   "metadata": {},
   "source": [
    "## 文件信息"
   ]
  },
  {
   "cell_type": "code",
   "execution_count": 94,
   "metadata": {},
   "outputs": [
    {
     "name": "stdout",
     "output_type": "stream",
     "text": [
      "alias egrep='egrep --color=auto'\n",
      "alias fgrep='fgrep --color=auto'\n",
      "alias grep='grep --color=auto'\n",
      "alias jupy='jupyter notebook --no-browser'\n",
      "alias l.='ls -d .* --color=auto'\n",
      "alias ll='ls -alh --color=auto'\n",
      "alias ls='ls --color=auto'\n",
      "alias which='alias | /usr/bin/which --tty-only --read-alias --show-dot --show-tilde'\n"
     ]
    }
   ],
   "source": [
    "alias # 查看别名"
   ]
  },
  {
   "cell_type": "code",
   "execution_count": 95,
   "metadata": {},
   "outputs": [
    {
     "name": "stdout",
     "output_type": "stream",
     "text": [
      "total 849K\n",
      "drwxrwxrwx 1 yichang yichang  512 Feb 20 20:29 \u001b[0m\u001b[48;5;10;38;5;21m.\u001b[0m\n",
      "drwxrwxrwx 1 yichang yichang  512 Feb  6 20:31 \u001b[48;5;10;38;5;21m..\u001b[0m\n",
      "-rwxrwxrwx 1 yichang yichang   33 Jul 18  2019 \u001b[38;5;34m2.txt\u001b[0m\n",
      "drwxrwxrwx 1 yichang yichang  512 Jul 18  2019 \u001b[48;5;10;38;5;21m3.txt\u001b[0m\n",
      "-rwxrwxrwx 1 yichang yichang   99 Jul 18  2019 \u001b[38;5;34mini.txt\u001b[0m\n",
      "drwxrwxrwx 1 yichang yichang  512 Feb 20 19:21 \u001b[48;5;10;38;5;21m.ipynb_checkpoints\u001b[0m\n",
      "-rwxrwxrwx 1 yichang yichang  57K Feb 20 20:29 \u001b[38;5;34mLinux信息查看命令.ipynb\u001b[0m\n",
      "-rwxrwxrwx 1 yichang yichang   15 Jul 19  2019 \u001b[38;5;34mmytest2.py\u001b[0m\n",
      "drwxrwxrwx 1 yichang yichang  512 Jul 19  2019 \u001b[48;5;10;38;5;21m__pycache__\u001b[0m\n",
      "-rwxrwxrwx 1 yichang yichang  621 Oct  7 14:47 \u001b[38;5;34msysargv.py\u001b[0m\n",
      "drwxrwxrwx 1 yichang yichang  512 Jul 11  2019 \u001b[48;5;10;38;5;21m.vscode\u001b[0m\n",
      "-rwxrwxrwx 1 yichang yichang  11K Aug 14  2019 \u001b[38;5;34m切片用法.ipynb\u001b[0m\n",
      "-rwxrwxrwx 1 yichang yichang 109K Oct 12 14:34 \u001b[38;5;34m基础1变量.ipynb\u001b[0m\n",
      "-rwxrwxrwx 1 yichang yichang 5.3K Sep 12 12:51 \u001b[38;5;34m基础2语法.ipynb\u001b[0m\n",
      "-rwxrwxrwx 1 yichang yichang  26K Sep 12 12:51 \u001b[38;5;34m基础3序列类.ipynb\u001b[0m\n",
      "-rwxrwxrwx 1 yichang yichang  38K Sep 12 12:51 \u001b[38;5;34m基础4函数.ipynb\u001b[0m\n",
      "-rwxrwxrwx 1 yichang yichang 1.9K Jul 17  2019 \u001b[38;5;34m算法小模块.ipynb\u001b[0m\n",
      "-rwxrwxrwx 1 yichang yichang 9.2K Sep 12 14:36 \u001b[38;5;34m进阶-1模块与包.ipynb\u001b[0m\n",
      "-rwxrwxrwx 1 yichang yichang 190K Sep 12 12:52 \u001b[38;5;34m进阶-2对象与类.ipynb\u001b[0m\n",
      "-rwxrwxrwx 1 yichang yichang 378K Oct  7 12:33 \u001b[38;5;34m进阶-3文件.ipynb\u001b[0m\n"
     ]
    }
   ],
   "source": [
    "ll # 查看目录"
   ]
  },
  {
   "cell_type": "code",
   "execution_count": 96,
   "metadata": {},
   "outputs": [
    {
     "name": "stdout",
     "output_type": "stream",
     "text": [
      "/mnt/e/codes/GitHub/learnPython/Basic\n"
     ]
    }
   ],
   "source": [
    "pwd"
   ]
  },
  {
   "cell_type": "code",
   "execution_count": 98,
   "metadata": {},
   "outputs": [
    {
     "name": "stdout",
     "output_type": "stream",
     "text": [
      "3.8G\t/home/yichang/miniconda3/\n"
     ]
    }
   ],
   "source": [
    "du -sh ~/miniconda3/  #指定目录的大小"
   ]
  },
  {
   "cell_type": "markdown",
   "metadata": {},
   "source": [
    "## 命令相关"
   ]
  },
  {
   "cell_type": "code",
   "execution_count": 99,
   "metadata": {},
   "outputs": [
    {
     "name": "stdout",
     "output_type": "stream",
     "text": [
      "  668  echo $?\n",
      "  669  cat /etc/sysconfig/network-scripts/ifcfg-eth0\n",
      "  670  echo $?\n",
      "  671  ps\n",
      "  672  echo $?\n",
      "  673  ps aux\n",
      "  674  echo $?\n",
      "  675  pstree\n",
      "  676  echo $?\n",
      "  677  ## 硬件信息\n",
      "  678  echo $?\n",
      "  679  head /etc/issue # ubuntu 查看系统信息，lsb_release -a\n",
      "  680  echo $?\n",
      "  681  cat /proc/loadavg\n",
      "  682  echo $?\n",
      "  683  cat /proc/loadavg\n",
      "  684  echo $?\n",
      "  685  pwdx 638\n",
      "  686  echo $?\n",
      "  687  alias\n",
      "  688  echo $?\n",
      "  689  ll\n",
      "  690  echo $?\n",
      "  691  pwd\n",
      "  692  echo $?\n",
      "  693  du -sh ./miniconda3/\n",
      "  694  echo $?\n",
      "  695  du -sh ~/miniconda3/\n",
      "  696  echo $?\n",
      "  697  history|tail -30\n"
     ]
    }
   ],
   "source": [
    "history|tail -30"
   ]
  },
  {
   "cell_type": "code",
   "execution_count": 100,
   "metadata": {},
   "outputs": [
    {
     "name": "stdout",
     "output_type": "stream",
     "text": [
      "GNU bash, version 4.2.46(2)-release (x86_64-redhat-linux-gnu)\n",
      "These shell commands are defined internally.  Type `help' to see this list.\n",
      "Type `help name' to find out more about the function `name'.\n",
      "Use `info bash' to find out more about the shell in general.\n",
      "Use `man -k' or `info' to find out more about commands not in this list.\n",
      "\n",
      "A star (*) next to a name means that the command is disabled.\n",
      "\n",
      " job_spec [&]                            history [-c] [-d offset] [n] or hist>\n",
      " (( expression ))                        if COMMANDS; then COMMANDS; [ elif C>\n",
      " . filename [arguments]                  jobs [-lnprs] [jobspec ...] or jobs >\n",
      " :                                       kill [-s sigspec | -n signum | -sigs>\n",
      " [ arg... ]                              let arg [arg ...]\n",
      " [[ expression ]]                        local [option] name[=value] ...\n",
      " alias [-p] [name[=value] ... ]          logout [n]\n",
      " bg [job_spec ...]                       mapfile [-n count] [-O origin] [-s c>\n",
      " bind [-lpvsPVS] [-m keymap] [-f filen>  popd [-n] [+N | -N]\n",
      " break [n]                               printf [-v var] format [arguments]\n",
      " builtin [shell-builtin [arg ...]]       pushd [-n] [+N | -N | dir]\n",
      " caller [expr]                           pwd [-LP]\n",
      " case WORD in [PATTERN [| PATTERN]...)>  read [-ers] [-a array] [-d delim] [->\n",
      " cd [-L|[-P [-e]]] [dir]                 readarray [-n count] [-O origin] [-s>\n",
      " command [-pVv] command [arg ...]        readonly [-aAf] [name[=value] ...] o>\n",
      " compgen [-abcdefgjksuv] [-o option]  >  return [n]\n",
      " complete [-abcdefgjksuv] [-pr] [-DE] >  select NAME [in WORDS ... ;] do COMM>\n",
      " compopt [-o|+o option] [-DE] [name ..>  set [-abefhkmnptuvxBCHP] [-o option->\n",
      " continue [n]                            shift [n]\n",
      " coproc [NAME] command [redirections]    shopt [-pqsu] [-o] [optname ...]\n",
      " declare [-aAfFgilrtux] [-p] [name[=va>  source filename [arguments]\n",
      " dirs [-clpv] [+N] [-N]                  suspend [-f]\n",
      " disown [-h] [-ar] [jobspec ...]         test [expr]\n",
      " echo [-neE] [arg ...]                   time [-p] pipeline\n",
      " enable [-a] [-dnps] [-f filename] [na>  times\n",
      " eval [arg ...]                          trap [-lp] [[arg] signal_spec ...]\n",
      " exec [-cl] [-a name] [command [argume>  true\n",
      " exit [n]                                type [-afptP] name [name ...]\n",
      " export [-fn] [name[=value] ...] or ex>  typeset [-aAfFgilrtux] [-p] name[=va>\n",
      " false                                   ulimit [-SHacdefilmnpqrstuvx] [limit>\n",
      " fc [-e ename] [-lnr] [first] [last] o>  umask [-p] [-S] [mode]\n",
      " fg [job_spec]                           unalias [-a] name [name ...]\n",
      " for NAME [in WORDS ... ] ; do COMMAND>  unset [-f] [-v] [name ...]\n",
      " for (( exp1; exp2; exp3 )); do COMMAN>  until COMMANDS; do COMMANDS; done\n",
      " function name { COMMANDS ; } or name >  variables - Names and meanings of so>\n",
      " getopts optstring name [arg]            wait [id]\n",
      " hash [-lr] [-p pathname] [-dt] [name >  while COMMANDS; do COMMANDS; done\n",
      " help [-dms] [pattern ...]               { COMMANDS ; }\n"
     ]
    }
   ],
   "source": [
    "help"
   ]
  },
  {
   "cell_type": "code",
   "execution_count": 101,
   "metadata": {},
   "outputs": [
    {
     "name": "stdout",
     "output_type": "stream",
     "text": [
      "cd: cd [-L|[-P [-e]]] [dir]\n",
      "    Change the shell working directory.\n",
      "    \n",
      "    Change the current directory to DIR.  The default DIR is the value of the\n",
      "    HOME shell variable.\n",
      "    \n",
      "    The variable CDPATH defines the search path for the directory containing\n",
      "    DIR.  Alternative directory names in CDPATH are separated by a colon (:).\n",
      "    A null directory name is the same as the current directory.  If DIR begins\n",
      "    with a slash (/), then CDPATH is not used.\n",
      "    \n",
      "    If the directory is not found, and the shell option `cdable_vars' is set,\n",
      "    the word is assumed to be  a variable name.  If that variable has a value,\n",
      "    its value is used for DIR.\n",
      "    \n",
      "    Options:\n",
      "        -L\tforce symbolic links to be followed\n",
      "        -P\tuse the physical directory structure without following symbolic\n",
      "    \tlinks\n",
      "        -e\tif the -P option is supplied, and the current working directory\n",
      "    \tcannot be determined successfully, exit with a non-zero status\n",
      "    \n",
      "    The default is to follow symbolic links, as if `-L' were specified.\n",
      "    \n",
      "    Exit Status:\n",
      "    Returns 0 if the directory is changed, and if $PWD is set successfully when\n",
      "    -P is used; non-zero otherwise.\n"
     ]
    }
   ],
   "source": [
    "help cd"
   ]
  },
  {
   "cell_type": "code",
   "execution_count": 102,
   "metadata": {},
   "outputs": [
    {
     "name": "stdout",
     "output_type": "stream",
     "text": [
      "grep is aliased to `grep --color=auto'\n"
     ]
    }
   ],
   "source": [
    "type grep"
   ]
  },
  {
   "cell_type": "code",
   "execution_count": 103,
   "metadata": {},
   "outputs": [
    {
     "name": "stdout",
     "output_type": "stream",
     "text": [
      "cd is a shell builtin\n"
     ]
    }
   ],
   "source": [
    "type cd"
   ]
  },
  {
   "cell_type": "code",
   "execution_count": 104,
   "metadata": {},
   "outputs": [
    {
     "name": "stdout",
     "output_type": "stream",
     "text": [
      "pip is /home/yichang/miniconda3/bin/pip\n"
     ]
    }
   ],
   "source": [
    "type pip"
   ]
  },
  {
   "cell_type": "code",
   "execution_count": 105,
   "metadata": {},
   "outputs": [
    {
     "name": "stdout",
     "output_type": "stream",
     "text": [
      "grep: /usr/bin/grep /usr/share/man/man1/grep.1.gz\n"
     ]
    }
   ],
   "source": [
    "whereis grep"
   ]
  },
  {
   "cell_type": "code",
   "execution_count": 106,
   "metadata": {},
   "outputs": [
    {
     "name": "stdout",
     "output_type": "stream",
     "text": [
      "pip: /home/yichang/miniconda3/bin/pip3.7 /home/yichang/miniconda3/bin/pip /mnt/c/ProgramData/Anaconda3/Scripts/pip.exe /mnt/c/Users/91991/AppData/Local/Microsoft/WindowsApps/pip.exe /mnt/c/Users/91991/AppData/Local/Microsoft/WindowsApps/pip3.exe\n"
     ]
    }
   ],
   "source": [
    "whereis pip "
   ]
  },
  {
   "cell_type": "code",
   "execution_count": 107,
   "metadata": {},
   "outputs": [],
   "source": [
    "type -p grep"
   ]
  },
  {
   "cell_type": "code",
   "execution_count": 108,
   "metadata": {},
   "outputs": [
    {
     "name": "stdout",
     "output_type": "stream",
     "text": [
      "/home/yichang/miniconda3/bin/pip\n"
     ]
    }
   ],
   "source": [
    "type -p pip"
   ]
  },
  {
   "cell_type": "code",
   "execution_count": null,
   "metadata": {},
   "outputs": [],
   "source": []
  }
 ],
 "metadata": {
  "_draft": {
   "nbviewer_url": "https://gist.github.com/db0b62c1eb812b256ebc968fa9f0ae8e"
  },
  "gist": {
   "data": {
    "description": "Linux命令",
    "public": true
   },
   "id": "db0b62c1eb812b256ebc968fa9f0ae8e"
  },
  "kernelspec": {
   "display_name": "Bash",
   "language": "bash",
   "name": "bash"
  },
  "language_info": {
   "codemirror_mode": "shell",
   "file_extension": ".sh",
   "mimetype": "text/x-sh",
   "name": "bash"
  },
  "toc": {
   "base_numbering": 1,
   "nav_menu": {},
   "number_sections": true,
   "sideBar": true,
   "skip_h1_title": false,
   "title_cell": "Table of Contents",
   "title_sidebar": "Contents",
   "toc_cell": false,
   "toc_position": {},
   "toc_section_display": true,
   "toc_window_display": true
  }
 },
 "nbformat": 4,
 "nbformat_minor": 4
}
