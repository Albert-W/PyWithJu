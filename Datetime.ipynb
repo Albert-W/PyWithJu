{
  "nbformat": 4,
  "nbformat_minor": 0,
  "metadata": {
    "colab": {
      "name": "Datetime.ipynb",
      "provenance": [],
      "toc_visible": true,
      "authorship_tag": "ABX9TyMJQea6Q6JT+DNNCslJ2scY",
      "include_colab_link": true
    },
    "kernelspec": {
      "name": "python3",
      "display_name": "Python 3"
    }
  },
  "cells": [
    {
      "cell_type": "markdown",
      "metadata": {
        "id": "view-in-github",
        "colab_type": "text"
      },
      "source": [
        "<a href=\"https://colab.research.google.com/github/Albert-W/PyWithJu/blob/master/Datetime.ipynb\" target=\"_parent\"><img src=\"https://colab.research.google.com/assets/colab-badge.svg\" alt=\"Open In Colab\"/></a>"
      ]
    },
    {
      "cell_type": "code",
      "metadata": {
        "id": "UVZ9wd5k1pHD",
        "colab_type": "code",
        "colab": {}
      },
      "source": [
        "import datetime"
      ],
      "execution_count": 0,
      "outputs": []
    },
    {
      "cell_type": "markdown",
      "metadata": {
        "id": "UWgMY6S_M3NF",
        "colab_type": "text"
      },
      "source": [
        "## now"
      ]
    },
    {
      "cell_type": "code",
      "metadata": {
        "id": "r7tDVHBb1sp_",
        "colab_type": "code",
        "colab": {
          "base_uri": "https://localhost:8080/",
          "height": 34
        },
        "outputId": "47720fda-7ddf-4271-aa38-3e74c7d1c22e"
      },
      "source": [
        "now = datetime.datetime.now()\n",
        "now"
      ],
      "execution_count": 13,
      "outputs": [
        {
          "output_type": "execute_result",
          "data": {
            "text/plain": [
              "datetime.datetime(2020, 2, 25, 15, 49, 0, 779027)"
            ]
          },
          "metadata": {
            "tags": []
          },
          "execution_count": 13
        }
      ]
    },
    {
      "cell_type": "code",
      "metadata": {
        "id": "0GTY3wv9JI8D",
        "colab_type": "code",
        "colab": {
          "base_uri": "https://localhost:8080/",
          "height": 34
        },
        "outputId": "b7fab17d-6958-41eb-92a5-5de265fe7cc0"
      },
      "source": [
        "today = datetime.datetime.today()\n",
        "today"
      ],
      "execution_count": 46,
      "outputs": [
        {
          "output_type": "execute_result",
          "data": {
            "text/plain": [
              "datetime.datetime(2020, 2, 25, 16, 18, 32, 873505)"
            ]
          },
          "metadata": {
            "tags": []
          },
          "execution_count": 46
        }
      ]
    },
    {
      "cell_type": "code",
      "metadata": {
        "id": "WFg9fnPjJs07",
        "colab_type": "code",
        "colab": {
          "base_uri": "https://localhost:8080/",
          "height": 34
        },
        "outputId": "2ae4d22c-8a03-4b45-89fe-c80e6b1283be"
      },
      "source": [
        "ts = today.timestamp()\n",
        "ts"
      ],
      "execution_count": 51,
      "outputs": [
        {
          "output_type": "execute_result",
          "data": {
            "text/plain": [
              "1582647512.873505"
            ]
          },
          "metadata": {
            "tags": []
          },
          "execution_count": 51
        }
      ]
    },
    {
      "cell_type": "code",
      "metadata": {
        "id": "1BjK3vBJJxDa",
        "colab_type": "code",
        "colab": {
          "base_uri": "https://localhost:8080/",
          "height": 34
        },
        "outputId": "e45e24e9-87b4-4f56-f273-8493504074fa"
      },
      "source": [
        "today.time()"
      ],
      "execution_count": 48,
      "outputs": [
        {
          "output_type": "execute_result",
          "data": {
            "text/plain": [
              "datetime.time(16, 18, 32, 873505)"
            ]
          },
          "metadata": {
            "tags": []
          },
          "execution_count": 48
        }
      ]
    },
    {
      "cell_type": "code",
      "metadata": {
        "id": "t_NOwFa2Jz3f",
        "colab_type": "code",
        "colab": {
          "base_uri": "https://localhost:8080/",
          "height": 34
        },
        "outputId": "bda427ba-bba6-43fe-968f-334dbd93f51c"
      },
      "source": [
        "today.timetuple()"
      ],
      "execution_count": 49,
      "outputs": [
        {
          "output_type": "execute_result",
          "data": {
            "text/plain": [
              "time.struct_time(tm_year=2020, tm_mon=2, tm_mday=25, tm_hour=16, tm_min=18, tm_sec=32, tm_wday=1, tm_yday=56, tm_isdst=-1)"
            ]
          },
          "metadata": {
            "tags": []
          },
          "execution_count": 49
        }
      ]
    },
    {
      "cell_type": "code",
      "metadata": {
        "id": "buyoZbd2J42r",
        "colab_type": "code",
        "colab": {
          "base_uri": "https://localhost:8080/",
          "height": 34
        },
        "outputId": "1a17420a-9e49-46ea-b985-8fc38121ac6b"
      },
      "source": [
        "today_new = datetime.datetime.fromtimestamp(ts)\n",
        "today_new"
      ],
      "execution_count": 53,
      "outputs": [
        {
          "output_type": "execute_result",
          "data": {
            "text/plain": [
              "datetime.datetime(2020, 2, 25, 16, 18, 32, 873505)"
            ]
          },
          "metadata": {
            "tags": []
          },
          "execution_count": 53
        }
      ]
    },
    {
      "cell_type": "code",
      "metadata": {
        "id": "cmo4dnBV18hI",
        "colab_type": "code",
        "colab": {
          "base_uri": "https://localhost:8080/",
          "height": 34
        },
        "outputId": "4ad4e28a-7934-4233-cb13-84ddd1422af1"
      },
      "source": [
        "d = datetime.date.today()\n",
        "d"
      ],
      "execution_count": 14,
      "outputs": [
        {
          "output_type": "execute_result",
          "data": {
            "text/plain": [
              "datetime.date(2020, 2, 25)"
            ]
          },
          "metadata": {
            "tags": []
          },
          "execution_count": 14
        }
      ]
    },
    {
      "cell_type": "code",
      "metadata": {
        "id": "YMR-hGmg1_Tr",
        "colab_type": "code",
        "colab": {
          "base_uri": "https://localhost:8080/",
          "height": 34
        },
        "outputId": "50d968cf-c495-448f-a534-57cb83ae8f4f"
      },
      "source": [
        "d = datetime.date(2020,2,25) # 不能输入02\n",
        "d"
      ],
      "execution_count": 18,
      "outputs": [
        {
          "output_type": "execute_result",
          "data": {
            "text/plain": [
              "datetime.date(2020, 2, 25)"
            ]
          },
          "metadata": {
            "tags": []
          },
          "execution_count": 18
        }
      ]
    },
    {
      "cell_type": "code",
      "metadata": {
        "id": "g7BZrcRLCnkd",
        "colab_type": "code",
        "colab": {
          "base_uri": "https://localhost:8080/",
          "height": 34
        },
        "outputId": "effca30c-99a4-4f56-ae80-00542ccf31ae"
      },
      "source": [
        "d.year, d.month, d.day"
      ],
      "execution_count": 20,
      "outputs": [
        {
          "output_type": "execute_result",
          "data": {
            "text/plain": [
              "(2020, 2, 25)"
            ]
          },
          "metadata": {
            "tags": []
          },
          "execution_count": 20
        }
      ]
    },
    {
      "cell_type": "code",
      "metadata": {
        "id": "ct9h4C6PDFQu",
        "colab_type": "code",
        "colab": {
          "base_uri": "https://localhost:8080/",
          "height": 34
        },
        "outputId": "ba93b57d-5ab8-426d-9578-d7a8f77ccfa7"
      },
      "source": [
        "t = datetime.time()\n",
        "t"
      ],
      "execution_count": 21,
      "outputs": [
        {
          "output_type": "execute_result",
          "data": {
            "text/plain": [
              "datetime.time(0, 0)"
            ]
          },
          "metadata": {
            "tags": []
          },
          "execution_count": 21
        }
      ]
    },
    {
      "cell_type": "code",
      "metadata": {
        "id": "SAYGUUP0DMli",
        "colab_type": "code",
        "colab": {
          "base_uri": "https://localhost:8080/",
          "height": 34
        },
        "outputId": "3ddc467b-1ff0-415c-ed31-65af0b4934dc"
      },
      "source": [
        "t = datetime.time(15,52,50)\n",
        "t"
      ],
      "execution_count": 22,
      "outputs": [
        {
          "output_type": "execute_result",
          "data": {
            "text/plain": [
              "datetime.time(15, 52, 50)"
            ]
          },
          "metadata": {
            "tags": []
          },
          "execution_count": 22
        }
      ]
    },
    {
      "cell_type": "code",
      "metadata": {
        "id": "5jDLu_IdDUpx",
        "colab_type": "code",
        "colab": {
          "base_uri": "https://localhost:8080/",
          "height": 34
        },
        "outputId": "7f1bbc02-da95-4dcc-fe70-1a78c280f4aa"
      },
      "source": [
        "t = datetime.time(hour = 11, minute = 34, second = 56)\n",
        "t"
      ],
      "execution_count": 23,
      "outputs": [
        {
          "output_type": "execute_result",
          "data": {
            "text/plain": [
              "datetime.time(11, 34, 56)"
            ]
          },
          "metadata": {
            "tags": []
          },
          "execution_count": 23
        }
      ]
    },
    {
      "cell_type": "markdown",
      "metadata": {
        "id": "ipnQxPf6TxRb",
        "colab_type": "text"
      },
      "source": [
        "## timedalta"
      ]
    },
    {
      "cell_type": "code",
      "metadata": {
        "id": "XHh_e59rV3tx",
        "colab_type": "code",
        "colab": {}
      },
      "source": [
        "from datetime import timedelta"
      ],
      "execution_count": 0,
      "outputs": []
    },
    {
      "cell_type": "code",
      "metadata": {
        "id": "ypEsMfXeDevy",
        "colab_type": "code",
        "colab": {}
      },
      "source": [
        "t1 = datetime.datetime.now()\n",
        "t2 = datetime.datetime(2020,1,23)\n"
      ],
      "execution_count": 0,
      "outputs": []
    },
    {
      "cell_type": "code",
      "metadata": {
        "id": "Ilp2xce9DtG2",
        "colab_type": "code",
        "colab": {
          "base_uri": "https://localhost:8080/",
          "height": 34
        },
        "outputId": "ad2af5f4-8e9f-4c30-fa93-bab3744ddc27"
      },
      "source": [
        "td = t1-t2\n",
        "td"
      ],
      "execution_count": 35,
      "outputs": [
        {
          "output_type": "execute_result",
          "data": {
            "text/plain": [
              "datetime.timedelta(33, 57324, 926518)"
            ]
          },
          "metadata": {
            "tags": []
          },
          "execution_count": 35
        }
      ]
    },
    {
      "cell_type": "code",
      "metadata": {
        "id": "5fpShidBD3c_",
        "colab_type": "code",
        "colab": {
          "base_uri": "https://localhost:8080/",
          "height": 34
        },
        "outputId": "746f6d8d-23ed-48eb-a12a-a973892e7f28"
      },
      "source": [
        "td.days"
      ],
      "execution_count": 31,
      "outputs": [
        {
          "output_type": "execute_result",
          "data": {
            "text/plain": [
              "33"
            ]
          },
          "metadata": {
            "tags": []
          },
          "execution_count": 31
        }
      ]
    },
    {
      "cell_type": "code",
      "metadata": {
        "id": "75Ty1Do8EAXk",
        "colab_type": "code",
        "colab": {
          "base_uri": "https://localhost:8080/",
          "height": 34
        },
        "outputId": "9166fda0-9b18-42fb-ed17-2570b5b4c8a7"
      },
      "source": [
        "td.seconds # 15.92 * 60 * 60"
      ],
      "execution_count": 36,
      "outputs": [
        {
          "output_type": "execute_result",
          "data": {
            "text/plain": [
              "57324"
            ]
          },
          "metadata": {
            "tags": []
          },
          "execution_count": 36
        }
      ]
    },
    {
      "cell_type": "code",
      "metadata": {
        "id": "an9Y8BGWECNW",
        "colab_type": "code",
        "colab": {
          "base_uri": "https://localhost:8080/",
          "height": 34
        },
        "outputId": "8cc72cd2-b014-4a5c-c1df-aa20d006aa6b"
      },
      "source": [
        "td.microseconds"
      ],
      "execution_count": 37,
      "outputs": [
        {
          "output_type": "execute_result",
          "data": {
            "text/plain": [
              "926518"
            ]
          },
          "metadata": {
            "tags": []
          },
          "execution_count": 37
        }
      ]
    },
    {
      "cell_type": "code",
      "metadata": {
        "id": "UGoTjOvrULA3",
        "colab_type": "code",
        "colab": {
          "base_uri": "https://localhost:8080/",
          "height": 34
        },
        "outputId": "6e54c11b-864c-446d-8dfe-2c9f205a96cd"
      },
      "source": [
        "delta = timedelta(\n",
        "...     days=50,\n",
        "...     seconds=27,\n",
        "...     microseconds=10,\n",
        "...     milliseconds=29000,\n",
        "...     minutes=5,\n",
        "...     hours=8,\n",
        "...     weeks=2\n",
        "... )\n",
        "delta # days, seconds, microseconds"
      ],
      "execution_count": 77,
      "outputs": [
        {
          "output_type": "execute_result",
          "data": {
            "text/plain": [
              "datetime.timedelta(64, 29156, 10)"
            ]
          },
          "metadata": {
            "tags": []
          },
          "execution_count": 77
        }
      ]
    },
    {
      "cell_type": "markdown",
      "metadata": {
        "id": "Pw53deKIUjIj",
        "colab_type": "text"
      },
      "source": [
        "## strftime & strptime"
      ]
    },
    {
      "cell_type": "code",
      "metadata": {
        "id": "mKUzUtu2EScp",
        "colab_type": "code",
        "colab": {
          "base_uri": "https://localhost:8080/",
          "height": 34
        },
        "outputId": "60a9eb64-d02d-4e6a-a691-1e31035211f3"
      },
      "source": [
        "t = now.strftime(\"%m/%d/%Y, %H:%M:%S\")\n",
        "t"
      ],
      "execution_count": 38,
      "outputs": [
        {
          "output_type": "execute_result",
          "data": {
            "text/plain": [
              "'02/25/2020, 15:49:00'"
            ]
          },
          "metadata": {
            "tags": []
          },
          "execution_count": 38
        }
      ]
    },
    {
      "cell_type": "code",
      "metadata": {
        "id": "MnOpGggLEzij",
        "colab_type": "code",
        "colab": {
          "base_uri": "https://localhost:8080/",
          "height": 34
        },
        "outputId": "f7b9ce23-da05-420c-baa9-c9b6dd5c727e"
      },
      "source": [
        "type(t)"
      ],
      "execution_count": 39,
      "outputs": [
        {
          "output_type": "execute_result",
          "data": {
            "text/plain": [
              "str"
            ]
          },
          "metadata": {
            "tags": []
          },
          "execution_count": 39
        }
      ]
    },
    {
      "cell_type": "code",
      "metadata": {
        "id": "KioV54d1E1XY",
        "colab_type": "code",
        "colab": {
          "base_uri": "https://localhost:8080/",
          "height": 34
        },
        "outputId": "7ec90243-2ca5-4834-c642-2e8c541af312"
      },
      "source": [
        "new = datetime.datetime.strptime(t, \"%m/%d/%Y, %H:%M:%S\")\n",
        "new"
      ],
      "execution_count": 41,
      "outputs": [
        {
          "output_type": "execute_result",
          "data": {
            "text/plain": [
              "datetime.datetime(2020, 2, 25, 15, 49)"
            ]
          },
          "metadata": {
            "tags": []
          },
          "execution_count": 41
        }
      ]
    },
    {
      "cell_type": "markdown",
      "metadata": {
        "id": "EFDdSlwbK5KF",
        "colab_type": "text"
      },
      "source": [
        "## 时区"
      ]
    },
    {
      "cell_type": "code",
      "metadata": {
        "id": "_kJdcKwnFHVi",
        "colab_type": "code",
        "colab": {}
      },
      "source": [
        "import pytz # 导入时区模块  "
      ],
      "execution_count": 0,
      "outputs": []
    },
    {
      "cell_type": "code",
      "metadata": {
        "id": "iAksLcRFG8V8",
        "colab_type": "code",
        "colab": {
          "base_uri": "https://localhost:8080/",
          "height": 34
        },
        "outputId": "72cb0dad-05e6-457c-f2d1-c5af09ad377e"
      },
      "source": [
        "tz_BJ = pytz.timezone('Asia/Shanghai')\n",
        "datetime_BJ = datetime.datetime.now(tz_BJ)\n",
        "datetime_BJ "
      ],
      "execution_count": 45,
      "outputs": [
        {
          "output_type": "execute_result",
          "data": {
            "text/plain": [
              "datetime.datetime(2020, 2, 26, 0, 12, 57, 848995, tzinfo=<DstTzInfo 'Asia/Shanghai' CST+8:00:00 STD>)"
            ]
          },
          "metadata": {
            "tags": []
          },
          "execution_count": 45
        }
      ]
    },
    {
      "cell_type": "code",
      "metadata": {
        "id": "4GJ900FtK7rU",
        "colab_type": "code",
        "colab": {}
      },
      "source": [
        "from datetime import timezone # 自带时区模块"
      ],
      "execution_count": 0,
      "outputs": []
    },
    {
      "cell_type": "code",
      "metadata": {
        "id": "CWIYb5lxLCnJ",
        "colab_type": "code",
        "colab": {}
      },
      "source": [
        "tz_utc_8 = timezone(timedelta(hours=8)) # 创建时区UTC+8:00 北京时间"
      ],
      "execution_count": 0,
      "outputs": []
    },
    {
      "cell_type": "code",
      "metadata": {
        "id": "g-JTgLpWLSsc",
        "colab_type": "code",
        "colab": {
          "base_uri": "https://localhost:8080/",
          "height": 34
        },
        "outputId": "1e6bf48d-b5f6-4793-a3d6-173d3d606ce3"
      },
      "source": [
        "now # 只表示本地时间，无时区信息，转换时，需要人为添加"
      ],
      "execution_count": 67,
      "outputs": [
        {
          "output_type": "execute_result",
          "data": {
            "text/plain": [
              "datetime.datetime(2020, 2, 25, 15, 49, 0, 779027)"
            ]
          },
          "metadata": {
            "tags": []
          },
          "execution_count": 67
        }
      ]
    },
    {
      "cell_type": "code",
      "metadata": {
        "id": "xL4-v0cTLJXn",
        "colab_type": "code",
        "colab": {
          "base_uri": "https://localhost:8080/",
          "height": 34
        },
        "outputId": "711c8429-2b90-45b3-834e-6a52cb87ffa7"
      },
      "source": [
        "dt = now.replace(tzinfo=tz_utc_8)\n",
        "dt "
      ],
      "execution_count": 62,
      "outputs": [
        {
          "output_type": "execute_result",
          "data": {
            "text/plain": [
              "datetime.datetime(2020, 2, 25, 15, 49, 0, 779027, tzinfo=datetime.timezone(datetime.timedelta(0, 28800)))"
            ]
          },
          "metadata": {
            "tags": []
          },
          "execution_count": 62
        }
      ]
    },
    {
      "cell_type": "code",
      "metadata": {
        "id": "YW8LAHCkLum6",
        "colab_type": "code",
        "colab": {
          "base_uri": "https://localhost:8080/",
          "height": 34
        },
        "outputId": "be28fbff-ca76-41ec-8880-d0c29d91bf02"
      },
      "source": [
        "bj_dt = datetime.now(tz_utc_8) # 北京当前时间\n",
        "bj_dt"
      ],
      "execution_count": 65,
      "outputs": [
        {
          "output_type": "execute_result",
          "data": {
            "text/plain": [
              "datetime.datetime(2020, 2, 26, 0, 31, 52, 734298, tzinfo=datetime.timezone(datetime.timedelta(0, 28800)))"
            ]
          },
          "metadata": {
            "tags": []
          },
          "execution_count": 65
        }
      ]
    },
    {
      "cell_type": "code",
      "metadata": {
        "id": "eokrvWYwMGY5",
        "colab_type": "code",
        "colab": {
          "base_uri": "https://localhost:8080/",
          "height": 34
        },
        "outputId": "8c7ee537-91f9-48cd-99ee-2d32c1e91436"
      },
      "source": [
        "tokyo_dt = bj_dt.astimezone(timezone(timedelta(hours=9)))\n",
        "tokyo_dt"
      ],
      "execution_count": 66,
      "outputs": [
        {
          "output_type": "execute_result",
          "data": {
            "text/plain": [
              "datetime.datetime(2020, 2, 26, 1, 31, 52, 734298, tzinfo=datetime.timezone(datetime.timedelta(0, 32400)))"
            ]
          },
          "metadata": {
            "tags": []
          },
          "execution_count": 66
        }
      ]
    },
    {
      "cell_type": "markdown",
      "metadata": {
        "id": "WaJHUce1Kbrf",
        "colab_type": "text"
      },
      "source": [
        "## 加减"
      ]
    },
    {
      "cell_type": "code",
      "metadata": {
        "id": "51HmI3-YHS2K",
        "colab_type": "code",
        "colab": {
          "base_uri": "https://localhost:8080/",
          "height": 34
        },
        "outputId": "6856d683-48a6-4b46-8a9f-58288d6ae3f2"
      },
      "source": [
        "from datetime import datetime, timedelta\n",
        "now + timedelta(hours=10) # 之后的10小时"
      ],
      "execution_count": 55,
      "outputs": [
        {
          "output_type": "execute_result",
          "data": {
            "text/plain": [
              "datetime.datetime(2020, 2, 26, 1, 49, 0, 779027)"
            ]
          },
          "metadata": {
            "tags": []
          },
          "execution_count": 55
        }
      ]
    },
    {
      "cell_type": "code",
      "metadata": {
        "id": "klsjaDVlKgJl",
        "colab_type": "code",
        "colab": {
          "base_uri": "https://localhost:8080/",
          "height": 34
        },
        "outputId": "ba285d02-dfc7-481c-f42c-a6a9e289caea"
      },
      "source": [
        "now + timedelta(days=2, hours=12) "
      ],
      "execution_count": 56,
      "outputs": [
        {
          "output_type": "execute_result",
          "data": {
            "text/plain": [
              "datetime.datetime(2020, 2, 28, 3, 49, 0, 779027)"
            ]
          },
          "metadata": {
            "tags": []
          },
          "execution_count": 56
        }
      ]
    },
    {
      "cell_type": "markdown",
      "metadata": {
        "id": "uqpZY6JuS-dd",
        "colab_type": "text"
      },
      "source": [
        "## 实例\n"
      ]
    },
    {
      "cell_type": "code",
      "metadata": {
        "id": "kUF1pb_BTCxk",
        "colab_type": "code",
        "colab": {}
      },
      "source": [
        "time = \"20 hours ago\""
      ],
      "execution_count": 0,
      "outputs": []
    },
    {
      "cell_type": "code",
      "metadata": {
        "id": "R0Eux5onTIIi",
        "colab_type": "code",
        "colab": {}
      },
      "source": [
        "value, unit, _ = time.split()"
      ],
      "execution_count": 0,
      "outputs": []
    },
    {
      "cell_type": "code",
      "metadata": {
        "id": "Vj6c8xsyTNZq",
        "colab_type": "code",
        "colab": {
          "base_uri": "https://localhost:8080/",
          "height": 34
        },
        "outputId": "33b81e14-2654-4d4e-d905-9d23279cb215"
      },
      "source": [
        "{unit: float(value)}"
      ],
      "execution_count": 71,
      "outputs": [
        {
          "output_type": "execute_result",
          "data": {
            "text/plain": [
              "{'hours': 20.0}"
            ]
          },
          "metadata": {
            "tags": []
          },
          "execution_count": 71
        }
      ]
    },
    {
      "cell_type": "code",
      "metadata": {
        "id": "ihrCrRbJTP7i",
        "colab_type": "code",
        "colab": {
          "base_uri": "https://localhost:8080/",
          "height": 34
        },
        "outputId": "cf70ee02-519e-4eae-cbe2-3adf93b51a34"
      },
      "source": [
        "timedelta(**{unit: float(value)}) # 输入一个字典"
      ],
      "execution_count": 75,
      "outputs": [
        {
          "output_type": "execute_result",
          "data": {
            "text/plain": [
              "datetime.timedelta(0, 72000)"
            ]
          },
          "metadata": {
            "tags": []
          },
          "execution_count": 75
        }
      ]
    },
    {
      "cell_type": "code",
      "metadata": {
        "id": "Sa_X6qUqTVmb",
        "colab_type": "code",
        "colab": {
          "base_uri": "https://localhost:8080/",
          "height": 34
        },
        "outputId": "0b2674ee-b170-4239-c5ae-e10f543b40db"
      },
      "source": [
        "now - timedelta(**{unit: float(value)})"
      ],
      "execution_count": 74,
      "outputs": [
        {
          "output_type": "execute_result",
          "data": {
            "text/plain": [
              "datetime.datetime(2020, 2, 24, 19, 49, 0, 779027)"
            ]
          },
          "metadata": {
            "tags": []
          },
          "execution_count": 74
        }
      ]
    },
    {
      "cell_type": "code",
      "metadata": {
        "id": "Cd-TyZRKTcni",
        "colab_type": "code",
        "colab": {}
      },
      "source": [
        "time = \"4 days 10 hrs ago\""
      ],
      "execution_count": 0,
      "outputs": []
    },
    {
      "cell_type": "code",
      "metadata": {
        "id": "0iKiAZETab2d",
        "colab_type": "code",
        "colab": {}
      },
      "source": [
        "d = {\n",
        "    'sec':\"seconds\",\n",
        "    \"secs\":\"seconds\",\n",
        "    \"min\":\"minutes\",\n",
        "    \"mins\":\"minutes\",\n",
        "    \"hr\":\"hours\",\n",
        "    \"hrs\":'hours',\n",
        "    'day':'days',\n",
        "    'days':'days',\n",
        "    'week':'weeks'\n",
        "}"
      ],
      "execution_count": 0,
      "outputs": []
    },
    {
      "cell_type": "code",
      "metadata": {
        "id": "abA3eOHEalmw",
        "colab_type": "code",
        "colab": {
          "base_uri": "https://localhost:8080/",
          "height": 34
        },
        "outputId": "616c5275-fe5b-4802-d485-e8e7fd4813b3"
      },
      "source": [
        "splited = time.split()\n",
        "parsed = [ [splited[i], splited[i+1]] for i in range(0, len(splited)-1,2)   ]\n",
        "parsed"
      ],
      "execution_count": 90,
      "outputs": [
        {
          "output_type": "execute_result",
          "data": {
            "text/plain": [
              "[['4', 'days'], ['10', 'hrs']]"
            ]
          },
          "metadata": {
            "tags": []
          },
          "execution_count": 90
        }
      ]
    },
    {
      "cell_type": "code",
      "metadata": {
        "id": "n4OSB_VLas1F",
        "colab_type": "code",
        "colab": {
          "base_uri": "https://localhost:8080/",
          "height": 34
        },
        "outputId": "3898ee01-d8d2-40a0-f462-cad0219651dc"
      },
      "source": [
        "time_dict = dict( (d[unit], float(value)) for value, unit in parsed )\n",
        "time_dict"
      ],
      "execution_count": 97,
      "outputs": [
        {
          "output_type": "execute_result",
          "data": {
            "text/plain": [
              "{'days': 4.0, 'hours': 10.0}"
            ]
          },
          "metadata": {
            "tags": []
          },
          "execution_count": 97
        }
      ]
    },
    {
      "cell_type": "code",
      "metadata": {
        "id": "-ZsLiHYVdPFU",
        "colab_type": "code",
        "colab": {
          "base_uri": "https://localhost:8080/",
          "height": 34
        },
        "outputId": "ba53d30d-a4b9-4b29-ec68-c4a1fd3ace50"
      },
      "source": [
        "dt = timedelta(**time_dict)\n",
        "dt"
      ],
      "execution_count": 98,
      "outputs": [
        {
          "output_type": "execute_result",
          "data": {
            "text/plain": [
              "datetime.timedelta(4, 36000)"
            ]
          },
          "metadata": {
            "tags": []
          },
          "execution_count": 98
        }
      ]
    },
    {
      "cell_type": "code",
      "metadata": {
        "id": "mUBSQ5vZddsk",
        "colab_type": "code",
        "colab": {
          "base_uri": "https://localhost:8080/",
          "height": 34
        },
        "outputId": "15ed5293-b2de-4ec7-cd1b-c9a00c5d9bb4"
      },
      "source": [
        "past_time = datetime.now() - dt\n",
        "past_time"
      ],
      "execution_count": 101,
      "outputs": [
        {
          "output_type": "execute_result",
          "data": {
            "text/plain": [
              "datetime.datetime(2020, 2, 21, 7, 48, 5, 704569)"
            ]
          },
          "metadata": {
            "tags": []
          },
          "execution_count": 101
        }
      ]
    },
    {
      "cell_type": "code",
      "metadata": {
        "id": "GjpjuFfAdpVo",
        "colab_type": "code",
        "colab": {}
      },
      "source": [
        ""
      ],
      "execution_count": 0,
      "outputs": []
    }
  ]
}