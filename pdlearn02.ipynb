{
  "nbformat": 4,
  "nbformat_minor": 0,
  "metadata": {
    "colab": {
      "name": "pdlearn02.ipynb",
      "provenance": [],
      "collapsed_sections": [],
      "authorship_tag": "ABX9TyN9DUa5w8B9dGo4U/Kdkzz6",
      "include_colab_link": true
    },
    "kernelspec": {
      "name": "python3",
      "display_name": "Python 3"
    }
  },
  "cells": [
    {
      "cell_type": "markdown",
      "metadata": {
        "id": "view-in-github",
        "colab_type": "text"
      },
      "source": [
        "<a href=\"https://colab.research.google.com/github/Albert-W/PyWithJu/blob/master/pdlearn02.ipynb\" target=\"_parent\"><img src=\"https://colab.research.google.com/assets/colab-badge.svg\" alt=\"Open In Colab\"/></a>"
      ]
    },
    {
      "cell_type": "markdown",
      "metadata": {
        "id": "_hq_E7DAMtPn",
        "colab_type": "text"
      },
      "source": [
        "# Title: Pandas 玩转数据\n",
        "source：Python3 数据科学入门与实战第四课"
      ]
    },
    {
      "cell_type": "code",
      "metadata": {
        "id": "9Vj3Ey9KNOuu",
        "colab_type": "code",
        "colab": {}
      },
      "source": [
        "import numpy as np\n",
        "import pandas as pd\n",
        "from pandas import Series, DataFrame"
      ],
      "execution_count": 0,
      "outputs": []
    },
    {
      "cell_type": "code",
      "metadata": {
        "id": "15Hrx8HGQyHJ",
        "colab_type": "code",
        "colab": {
          "base_uri": "https://localhost:8080/",
          "height": 85
        },
        "outputId": "377cc64b-7923-4a3d-c714-e527fe693c68"
      },
      "source": [
        "s1 = Series([1,2,3], index=[\"A\",\"B\",'C'])\n",
        "s1"
      ],
      "execution_count": 3,
      "outputs": [
        {
          "output_type": "execute_result",
          "data": {
            "text/plain": [
              "A    1\n",
              "B    2\n",
              "C    3\n",
              "dtype: int64"
            ]
          },
          "metadata": {
            "tags": []
          },
          "execution_count": 3
        }
      ]
    },
    {
      "cell_type": "code",
      "metadata": {
        "id": "rH7Ao95qtdva",
        "colab_type": "code",
        "colab": {
          "base_uri": "https://localhost:8080/",
          "height": 102
        },
        "outputId": "f3d4116f-3d45-43f2-af4d-049076af5454"
      },
      "source": [
        "s2 = Series([4,5,6,7] ,index=['B','C','D','E'])\n",
        "s2"
      ],
      "execution_count": 4,
      "outputs": [
        {
          "output_type": "execute_result",
          "data": {
            "text/plain": [
              "B    4\n",
              "C    5\n",
              "D    6\n",
              "E    7\n",
              "dtype: int64"
            ]
          },
          "metadata": {
            "tags": []
          },
          "execution_count": 4
        }
      ]
    },
    {
      "cell_type": "code",
      "metadata": {
        "id": "6L8i12_Eto1_",
        "colab_type": "code",
        "colab": {
          "base_uri": "https://localhost:8080/",
          "height": 119
        },
        "outputId": "610d9c1c-95cb-4260-cdfd-22bec155d23e"
      },
      "source": [
        "s1 + s2 # 对应index相加，其他为NaN"
      ],
      "execution_count": 5,
      "outputs": [
        {
          "output_type": "execute_result",
          "data": {
            "text/plain": [
              "A    NaN\n",
              "B    6.0\n",
              "C    8.0\n",
              "D    NaN\n",
              "E    NaN\n",
              "dtype: float64"
            ]
          },
          "metadata": {
            "tags": []
          },
          "execution_count": 5
        }
      ]
    },
    {
      "cell_type": "markdown",
      "metadata": {
        "id": "_cYO-wh0t9sC",
        "colab_type": "text"
      },
      "source": [
        "## DataFrame的运算"
      ]
    },
    {
      "cell_type": "code",
      "metadata": {
        "id": "QTVmte34t2Rw",
        "colab_type": "code",
        "colab": {
          "base_uri": "https://localhost:8080/",
          "height": 107
        },
        "outputId": "cf4a9c53-c2ec-4cb0-e762-22f5d824d03f"
      },
      "source": [
        "df1 = DataFrame(np.arange(4).reshape(2,2) ,index=['A','B'],\n",
        "                columns=['BJ','SH'])\n",
        "df1"
      ],
      "execution_count": 8,
      "outputs": [
        {
          "output_type": "execute_result",
          "data": {
            "text/html": [
              "<div>\n",
              "<style scoped>\n",
              "    .dataframe tbody tr th:only-of-type {\n",
              "        vertical-align: middle;\n",
              "    }\n",
              "\n",
              "    .dataframe tbody tr th {\n",
              "        vertical-align: top;\n",
              "    }\n",
              "\n",
              "    .dataframe thead th {\n",
              "        text-align: right;\n",
              "    }\n",
              "</style>\n",
              "<table border=\"1\" class=\"dataframe\">\n",
              "  <thead>\n",
              "    <tr style=\"text-align: right;\">\n",
              "      <th></th>\n",
              "      <th>BJ</th>\n",
              "      <th>SH</th>\n",
              "    </tr>\n",
              "  </thead>\n",
              "  <tbody>\n",
              "    <tr>\n",
              "      <th>A</th>\n",
              "      <td>0</td>\n",
              "      <td>1</td>\n",
              "    </tr>\n",
              "    <tr>\n",
              "      <th>B</th>\n",
              "      <td>2</td>\n",
              "      <td>3</td>\n",
              "    </tr>\n",
              "  </tbody>\n",
              "</table>\n",
              "</div>"
            ],
            "text/plain": [
              "   BJ  SH\n",
              "A   0   1\n",
              "B   2   3"
            ]
          },
          "metadata": {
            "tags": []
          },
          "execution_count": 8
        }
      ]
    },
    {
      "cell_type": "code",
      "metadata": {
        "id": "T-ngSeeAuabI",
        "colab_type": "code",
        "colab": {
          "base_uri": "https://localhost:8080/",
          "height": 137
        },
        "outputId": "2c3c7189-26b3-4f8d-808f-0bf986c63e31"
      },
      "source": [
        "df2 = DataFrame(np.arange(9).reshape(3,3) ,index=['A','B','C'],\n",
        "                columns=['BJ','SH','GZ'])\n",
        "df2"
      ],
      "execution_count": 9,
      "outputs": [
        {
          "output_type": "execute_result",
          "data": {
            "text/html": [
              "<div>\n",
              "<style scoped>\n",
              "    .dataframe tbody tr th:only-of-type {\n",
              "        vertical-align: middle;\n",
              "    }\n",
              "\n",
              "    .dataframe tbody tr th {\n",
              "        vertical-align: top;\n",
              "    }\n",
              "\n",
              "    .dataframe thead th {\n",
              "        text-align: right;\n",
              "    }\n",
              "</style>\n",
              "<table border=\"1\" class=\"dataframe\">\n",
              "  <thead>\n",
              "    <tr style=\"text-align: right;\">\n",
              "      <th></th>\n",
              "      <th>BJ</th>\n",
              "      <th>SH</th>\n",
              "      <th>GZ</th>\n",
              "    </tr>\n",
              "  </thead>\n",
              "  <tbody>\n",
              "    <tr>\n",
              "      <th>A</th>\n",
              "      <td>0</td>\n",
              "      <td>1</td>\n",
              "      <td>2</td>\n",
              "    </tr>\n",
              "    <tr>\n",
              "      <th>B</th>\n",
              "      <td>3</td>\n",
              "      <td>4</td>\n",
              "      <td>5</td>\n",
              "    </tr>\n",
              "    <tr>\n",
              "      <th>C</th>\n",
              "      <td>6</td>\n",
              "      <td>7</td>\n",
              "      <td>8</td>\n",
              "    </tr>\n",
              "  </tbody>\n",
              "</table>\n",
              "</div>"
            ],
            "text/plain": [
              "   BJ  SH  GZ\n",
              "A   0   1   2\n",
              "B   3   4   5\n",
              "C   6   7   8"
            ]
          },
          "metadata": {
            "tags": []
          },
          "execution_count": 9
        }
      ]
    },
    {
      "cell_type": "code",
      "metadata": {
        "id": "oyw1dBULuqjP",
        "colab_type": "code",
        "colab": {
          "base_uri": "https://localhost:8080/",
          "height": 137
        },
        "outputId": "67f87e80-cd52-48be-9fcc-f80abf2acd27"
      },
      "source": [
        "df1 + df2 #column自动排序了"
      ],
      "execution_count": 10,
      "outputs": [
        {
          "output_type": "execute_result",
          "data": {
            "text/html": [
              "<div>\n",
              "<style scoped>\n",
              "    .dataframe tbody tr th:only-of-type {\n",
              "        vertical-align: middle;\n",
              "    }\n",
              "\n",
              "    .dataframe tbody tr th {\n",
              "        vertical-align: top;\n",
              "    }\n",
              "\n",
              "    .dataframe thead th {\n",
              "        text-align: right;\n",
              "    }\n",
              "</style>\n",
              "<table border=\"1\" class=\"dataframe\">\n",
              "  <thead>\n",
              "    <tr style=\"text-align: right;\">\n",
              "      <th></th>\n",
              "      <th>BJ</th>\n",
              "      <th>GZ</th>\n",
              "      <th>SH</th>\n",
              "    </tr>\n",
              "  </thead>\n",
              "  <tbody>\n",
              "    <tr>\n",
              "      <th>A</th>\n",
              "      <td>0.0</td>\n",
              "      <td>NaN</td>\n",
              "      <td>2.0</td>\n",
              "    </tr>\n",
              "    <tr>\n",
              "      <th>B</th>\n",
              "      <td>5.0</td>\n",
              "      <td>NaN</td>\n",
              "      <td>7.0</td>\n",
              "    </tr>\n",
              "    <tr>\n",
              "      <th>C</th>\n",
              "      <td>NaN</td>\n",
              "      <td>NaN</td>\n",
              "      <td>NaN</td>\n",
              "    </tr>\n",
              "  </tbody>\n",
              "</table>\n",
              "</div>"
            ],
            "text/plain": [
              "    BJ  GZ   SH\n",
              "A  0.0 NaN  2.0\n",
              "B  5.0 NaN  7.0\n",
              "C  NaN NaN  NaN"
            ]
          },
          "metadata": {
            "tags": []
          },
          "execution_count": 10
        }
      ]
    },
    {
      "cell_type": "code",
      "metadata": {
        "id": "gGNk2GhDusT5",
        "colab_type": "code",
        "colab": {
          "base_uri": "https://localhost:8080/",
          "height": 137
        },
        "outputId": "51ab4a7f-d27f-4ebf-c6b8-f028a1f129c7"
      },
      "source": [
        "df3 = DataFrame([[1,2,3],[4,5,np.nan],[7,8,9]],index=['A','B','C'],\n",
        "                columns=['c1','c2','c3'])\n",
        "df3"
      ],
      "execution_count": 12,
      "outputs": [
        {
          "output_type": "execute_result",
          "data": {
            "text/html": [
              "<div>\n",
              "<style scoped>\n",
              "    .dataframe tbody tr th:only-of-type {\n",
              "        vertical-align: middle;\n",
              "    }\n",
              "\n",
              "    .dataframe tbody tr th {\n",
              "        vertical-align: top;\n",
              "    }\n",
              "\n",
              "    .dataframe thead th {\n",
              "        text-align: right;\n",
              "    }\n",
              "</style>\n",
              "<table border=\"1\" class=\"dataframe\">\n",
              "  <thead>\n",
              "    <tr style=\"text-align: right;\">\n",
              "      <th></th>\n",
              "      <th>c1</th>\n",
              "      <th>c2</th>\n",
              "      <th>c3</th>\n",
              "    </tr>\n",
              "  </thead>\n",
              "  <tbody>\n",
              "    <tr>\n",
              "      <th>A</th>\n",
              "      <td>1</td>\n",
              "      <td>2</td>\n",
              "      <td>3.0</td>\n",
              "    </tr>\n",
              "    <tr>\n",
              "      <th>B</th>\n",
              "      <td>4</td>\n",
              "      <td>5</td>\n",
              "      <td>NaN</td>\n",
              "    </tr>\n",
              "    <tr>\n",
              "      <th>C</th>\n",
              "      <td>7</td>\n",
              "      <td>8</td>\n",
              "      <td>9.0</td>\n",
              "    </tr>\n",
              "  </tbody>\n",
              "</table>\n",
              "</div>"
            ],
            "text/plain": [
              "   c1  c2   c3\n",
              "A   1   2  3.0\n",
              "B   4   5  NaN\n",
              "C   7   8  9.0"
            ]
          },
          "metadata": {
            "tags": []
          },
          "execution_count": 12
        }
      ]
    },
    {
      "cell_type": "code",
      "metadata": {
        "id": "oYViaRkevTfJ",
        "colab_type": "code",
        "colab": {
          "base_uri": "https://localhost:8080/",
          "height": 85
        },
        "outputId": "284ebd15-2797-40c2-c58e-db76887d80e6"
      },
      "source": [
        "df3.sum() # 返回series, 忽略np.nan\n",
        "# min, max,"
      ],
      "execution_count": 13,
      "outputs": [
        {
          "output_type": "execute_result",
          "data": {
            "text/plain": [
              "c1    12.0\n",
              "c2    15.0\n",
              "c3    12.0\n",
              "dtype: float64"
            ]
          },
          "metadata": {
            "tags": []
          },
          "execution_count": 13
        }
      ]
    },
    {
      "cell_type": "code",
      "metadata": {
        "id": "ocbGxf87voPx",
        "colab_type": "code",
        "colab": {
          "base_uri": "https://localhost:8080/",
          "height": 85
        },
        "outputId": "5fefe09a-9a89-421e-8814-68c363807bdb"
      },
      "source": [
        "df3.sum(axis=1)"
      ],
      "execution_count": 15,
      "outputs": [
        {
          "output_type": "execute_result",
          "data": {
            "text/plain": [
              "A     6.0\n",
              "B     9.0\n",
              "C    24.0\n",
              "dtype: float64"
            ]
          },
          "metadata": {
            "tags": []
          },
          "execution_count": 15
        }
      ]
    },
    {
      "cell_type": "code",
      "metadata": {
        "id": "UIBY-b1ZvXxT",
        "colab_type": "code",
        "colab": {
          "base_uri": "https://localhost:8080/",
          "height": 85
        },
        "outputId": "346f43bb-9278-428c-f9a0-b68eae05823e"
      },
      "source": [
        "df3.mean()"
      ],
      "execution_count": 14,
      "outputs": [
        {
          "output_type": "execute_result",
          "data": {
            "text/plain": [
              "c1    4.0\n",
              "c2    5.0\n",
              "c3    6.0\n",
              "dtype: float64"
            ]
          },
          "metadata": {
            "tags": []
          },
          "execution_count": 14
        }
      ]
    },
    {
      "cell_type": "code",
      "metadata": {
        "id": "RLKQ_ow2vfwk",
        "colab_type": "code",
        "colab": {
          "base_uri": "https://localhost:8080/",
          "height": 286
        },
        "outputId": "0600778e-0c11-4471-c4a5-ace3102fdfb4"
      },
      "source": [
        "df3.describe()"
      ],
      "execution_count": 16,
      "outputs": [
        {
          "output_type": "execute_result",
          "data": {
            "text/html": [
              "<div>\n",
              "<style scoped>\n",
              "    .dataframe tbody tr th:only-of-type {\n",
              "        vertical-align: middle;\n",
              "    }\n",
              "\n",
              "    .dataframe tbody tr th {\n",
              "        vertical-align: top;\n",
              "    }\n",
              "\n",
              "    .dataframe thead th {\n",
              "        text-align: right;\n",
              "    }\n",
              "</style>\n",
              "<table border=\"1\" class=\"dataframe\">\n",
              "  <thead>\n",
              "    <tr style=\"text-align: right;\">\n",
              "      <th></th>\n",
              "      <th>c1</th>\n",
              "      <th>c2</th>\n",
              "      <th>c3</th>\n",
              "    </tr>\n",
              "  </thead>\n",
              "  <tbody>\n",
              "    <tr>\n",
              "      <th>count</th>\n",
              "      <td>3.0</td>\n",
              "      <td>3.0</td>\n",
              "      <td>2.000000</td>\n",
              "    </tr>\n",
              "    <tr>\n",
              "      <th>mean</th>\n",
              "      <td>4.0</td>\n",
              "      <td>5.0</td>\n",
              "      <td>6.000000</td>\n",
              "    </tr>\n",
              "    <tr>\n",
              "      <th>std</th>\n",
              "      <td>3.0</td>\n",
              "      <td>3.0</td>\n",
              "      <td>4.242641</td>\n",
              "    </tr>\n",
              "    <tr>\n",
              "      <th>min</th>\n",
              "      <td>1.0</td>\n",
              "      <td>2.0</td>\n",
              "      <td>3.000000</td>\n",
              "    </tr>\n",
              "    <tr>\n",
              "      <th>25%</th>\n",
              "      <td>2.5</td>\n",
              "      <td>3.5</td>\n",
              "      <td>4.500000</td>\n",
              "    </tr>\n",
              "    <tr>\n",
              "      <th>50%</th>\n",
              "      <td>4.0</td>\n",
              "      <td>5.0</td>\n",
              "      <td>6.000000</td>\n",
              "    </tr>\n",
              "    <tr>\n",
              "      <th>75%</th>\n",
              "      <td>5.5</td>\n",
              "      <td>6.5</td>\n",
              "      <td>7.500000</td>\n",
              "    </tr>\n",
              "    <tr>\n",
              "      <th>max</th>\n",
              "      <td>7.0</td>\n",
              "      <td>8.0</td>\n",
              "      <td>9.000000</td>\n",
              "    </tr>\n",
              "  </tbody>\n",
              "</table>\n",
              "</div>"
            ],
            "text/plain": [
              "        c1   c2        c3\n",
              "count  3.0  3.0  2.000000\n",
              "mean   4.0  5.0  6.000000\n",
              "std    3.0  3.0  4.242641\n",
              "min    1.0  2.0  3.000000\n",
              "25%    2.5  3.5  4.500000\n",
              "50%    4.0  5.0  6.000000\n",
              "75%    5.5  6.5  7.500000\n",
              "max    7.0  8.0  9.000000"
            ]
          },
          "metadata": {
            "tags": []
          },
          "execution_count": 16
        }
      ]
    },
    {
      "cell_type": "markdown",
      "metadata": {
        "id": "1un6C0E2wWDh",
        "colab_type": "text"
      },
      "source": [
        "# 4.2 Series的排序"
      ]
    },
    {
      "cell_type": "code",
      "metadata": {
        "id": "p9uOOya2v5eM",
        "colab_type": "code",
        "colab": {
          "base_uri": "https://localhost:8080/",
          "height": 203
        },
        "outputId": "a3a89491-471c-4d8e-e21f-6e9b29a70d2c"
      },
      "source": [
        "s1 = Series(np.random.randn(10))\n",
        "s1"
      ],
      "execution_count": 17,
      "outputs": [
        {
          "output_type": "execute_result",
          "data": {
            "text/plain": [
              "0   -0.973256\n",
              "1   -0.020454\n",
              "2    1.030850\n",
              "3    0.638984\n",
              "4    1.242540\n",
              "5    0.516064\n",
              "6   -0.200648\n",
              "7    1.921439\n",
              "8   -0.008143\n",
              "9   -1.674530\n",
              "dtype: float64"
            ]
          },
          "metadata": {
            "tags": []
          },
          "execution_count": 17
        }
      ]
    },
    {
      "cell_type": "code",
      "metadata": {
        "id": "PQxGAMCEwkyR",
        "colab_type": "code",
        "colab": {
          "base_uri": "https://localhost:8080/",
          "height": 51
        },
        "outputId": "fd382ce8-d282-423e-f96a-766ae1c2323f"
      },
      "source": [
        "s1.values"
      ],
      "execution_count": 18,
      "outputs": [
        {
          "output_type": "execute_result",
          "data": {
            "text/plain": [
              "array([-0.97325563, -0.0204538 ,  1.03084974,  0.63898446,  1.24254022,\n",
              "        0.51606361, -0.20064816,  1.92143931, -0.00814323, -1.67452984])"
            ]
          },
          "metadata": {
            "tags": []
          },
          "execution_count": 18
        }
      ]
    },
    {
      "cell_type": "code",
      "metadata": {
        "id": "UJSX23yq6Dw_",
        "colab_type": "code",
        "colab": {
          "base_uri": "https://localhost:8080/",
          "height": 34
        },
        "outputId": "20afd638-68e7-4e9b-c997-4fb6b1493790"
      },
      "source": [
        "s1.index"
      ],
      "execution_count": 19,
      "outputs": [
        {
          "output_type": "execute_result",
          "data": {
            "text/plain": [
              "RangeIndex(start=0, stop=10, step=1)"
            ]
          },
          "metadata": {
            "tags": []
          },
          "execution_count": 19
        }
      ]
    },
    {
      "cell_type": "code",
      "metadata": {
        "id": "0LmciMtI6Gk2",
        "colab_type": "code",
        "colab": {
          "base_uri": "https://localhost:8080/",
          "height": 203
        },
        "outputId": "4e588c39-501a-4bf5-a75d-4ad165e7407f"
      },
      "source": [
        "s2 = s1.sort_values()\n",
        "s2"
      ],
      "execution_count": 21,
      "outputs": [
        {
          "output_type": "execute_result",
          "data": {
            "text/plain": [
              "9   -1.674530\n",
              "0   -0.973256\n",
              "6   -0.200648\n",
              "1   -0.020454\n",
              "8   -0.008143\n",
              "5    0.516064\n",
              "3    0.638984\n",
              "2    1.030850\n",
              "4    1.242540\n",
              "7    1.921439\n",
              "dtype: float64"
            ]
          },
          "metadata": {
            "tags": []
          },
          "execution_count": 21
        }
      ]
    },
    {
      "cell_type": "code",
      "metadata": {
        "id": "DESIh3uB6OdQ",
        "colab_type": "code",
        "colab": {
          "base_uri": "https://localhost:8080/",
          "height": 203
        },
        "outputId": "79135a84-caaa-4553-9ccd-7c92cb3b20d3"
      },
      "source": [
        "s3 = s2.sort_index()\n",
        "s3"
      ],
      "execution_count": 23,
      "outputs": [
        {
          "output_type": "execute_result",
          "data": {
            "text/plain": [
              "0   -0.973256\n",
              "1   -0.020454\n",
              "2    1.030850\n",
              "3    0.638984\n",
              "4    1.242540\n",
              "5    0.516064\n",
              "6   -0.200648\n",
              "7    1.921439\n",
              "8   -0.008143\n",
              "9   -1.674530\n",
              "dtype: float64"
            ]
          },
          "metadata": {
            "tags": []
          },
          "execution_count": 23
        }
      ]
    },
    {
      "cell_type": "markdown",
      "metadata": {
        "id": "k0LNeiN_6a_0",
        "colab_type": "text"
      },
      "source": [
        "## Dataframe的排序"
      ]
    },
    {
      "cell_type": "code",
      "metadata": {
        "id": "TgN4nFwG6aQG",
        "colab_type": "code",
        "colab": {
          "base_uri": "https://localhost:8080/",
          "height": 286
        },
        "outputId": "3bbaf5b1-0779-4e71-9dd9-73c1dbd6a77e"
      },
      "source": [
        "df1 = DataFrame(np.random.rand(40).reshape(8,5) ,\n",
        "                columns=['A','B','C','D','E'])\n",
        "df1"
      ],
      "execution_count": 28,
      "outputs": [
        {
          "output_type": "execute_result",
          "data": {
            "text/html": [
              "<div>\n",
              "<style scoped>\n",
              "    .dataframe tbody tr th:only-of-type {\n",
              "        vertical-align: middle;\n",
              "    }\n",
              "\n",
              "    .dataframe tbody tr th {\n",
              "        vertical-align: top;\n",
              "    }\n",
              "\n",
              "    .dataframe thead th {\n",
              "        text-align: right;\n",
              "    }\n",
              "</style>\n",
              "<table border=\"1\" class=\"dataframe\">\n",
              "  <thead>\n",
              "    <tr style=\"text-align: right;\">\n",
              "      <th></th>\n",
              "      <th>A</th>\n",
              "      <th>B</th>\n",
              "      <th>C</th>\n",
              "      <th>D</th>\n",
              "      <th>E</th>\n",
              "    </tr>\n",
              "  </thead>\n",
              "  <tbody>\n",
              "    <tr>\n",
              "      <th>0</th>\n",
              "      <td>0.092401</td>\n",
              "      <td>0.230817</td>\n",
              "      <td>0.897233</td>\n",
              "      <td>0.364461</td>\n",
              "      <td>0.785980</td>\n",
              "    </tr>\n",
              "    <tr>\n",
              "      <th>1</th>\n",
              "      <td>0.282171</td>\n",
              "      <td>0.333544</td>\n",
              "      <td>0.981350</td>\n",
              "      <td>0.903011</td>\n",
              "      <td>0.250219</td>\n",
              "    </tr>\n",
              "    <tr>\n",
              "      <th>2</th>\n",
              "      <td>0.415680</td>\n",
              "      <td>0.377535</td>\n",
              "      <td>0.937726</td>\n",
              "      <td>0.234012</td>\n",
              "      <td>0.040591</td>\n",
              "    </tr>\n",
              "    <tr>\n",
              "      <th>3</th>\n",
              "      <td>0.328154</td>\n",
              "      <td>0.706255</td>\n",
              "      <td>0.762719</td>\n",
              "      <td>0.834656</td>\n",
              "      <td>0.862625</td>\n",
              "    </tr>\n",
              "    <tr>\n",
              "      <th>4</th>\n",
              "      <td>0.585696</td>\n",
              "      <td>0.194282</td>\n",
              "      <td>0.404627</td>\n",
              "      <td>0.632125</td>\n",
              "      <td>0.668061</td>\n",
              "    </tr>\n",
              "    <tr>\n",
              "      <th>5</th>\n",
              "      <td>0.284230</td>\n",
              "      <td>0.331972</td>\n",
              "      <td>0.465195</td>\n",
              "      <td>0.172025</td>\n",
              "      <td>0.771151</td>\n",
              "    </tr>\n",
              "    <tr>\n",
              "      <th>6</th>\n",
              "      <td>0.586393</td>\n",
              "      <td>0.544746</td>\n",
              "      <td>0.562446</td>\n",
              "      <td>0.793553</td>\n",
              "      <td>0.880695</td>\n",
              "    </tr>\n",
              "    <tr>\n",
              "      <th>7</th>\n",
              "      <td>0.934214</td>\n",
              "      <td>0.097174</td>\n",
              "      <td>0.594391</td>\n",
              "      <td>0.467409</td>\n",
              "      <td>0.791295</td>\n",
              "    </tr>\n",
              "  </tbody>\n",
              "</table>\n",
              "</div>"
            ],
            "text/plain": [
              "          A         B         C         D         E\n",
              "0  0.092401  0.230817  0.897233  0.364461  0.785980\n",
              "1  0.282171  0.333544  0.981350  0.903011  0.250219\n",
              "2  0.415680  0.377535  0.937726  0.234012  0.040591\n",
              "3  0.328154  0.706255  0.762719  0.834656  0.862625\n",
              "4  0.585696  0.194282  0.404627  0.632125  0.668061\n",
              "5  0.284230  0.331972  0.465195  0.172025  0.771151\n",
              "6  0.586393  0.544746  0.562446  0.793553  0.880695\n",
              "7  0.934214  0.097174  0.594391  0.467409  0.791295"
            ]
          },
          "metadata": {
            "tags": []
          },
          "execution_count": 28
        }
      ]
    },
    {
      "cell_type": "code",
      "metadata": {
        "id": "0sGtVp2G6WW7",
        "colab_type": "code",
        "colab": {
          "base_uri": "https://localhost:8080/",
          "height": 286
        },
        "outputId": "5b668c79-0b3c-4ff2-aff5-87eac4cef2cf"
      },
      "source": [
        "df2 = df1.sort_values('A')\n",
        "df2"
      ],
      "execution_count": 30,
      "outputs": [
        {
          "output_type": "execute_result",
          "data": {
            "text/html": [
              "<div>\n",
              "<style scoped>\n",
              "    .dataframe tbody tr th:only-of-type {\n",
              "        vertical-align: middle;\n",
              "    }\n",
              "\n",
              "    .dataframe tbody tr th {\n",
              "        vertical-align: top;\n",
              "    }\n",
              "\n",
              "    .dataframe thead th {\n",
              "        text-align: right;\n",
              "    }\n",
              "</style>\n",
              "<table border=\"1\" class=\"dataframe\">\n",
              "  <thead>\n",
              "    <tr style=\"text-align: right;\">\n",
              "      <th></th>\n",
              "      <th>A</th>\n",
              "      <th>B</th>\n",
              "      <th>C</th>\n",
              "      <th>D</th>\n",
              "      <th>E</th>\n",
              "    </tr>\n",
              "  </thead>\n",
              "  <tbody>\n",
              "    <tr>\n",
              "      <th>0</th>\n",
              "      <td>0.092401</td>\n",
              "      <td>0.230817</td>\n",
              "      <td>0.897233</td>\n",
              "      <td>0.364461</td>\n",
              "      <td>0.785980</td>\n",
              "    </tr>\n",
              "    <tr>\n",
              "      <th>1</th>\n",
              "      <td>0.282171</td>\n",
              "      <td>0.333544</td>\n",
              "      <td>0.981350</td>\n",
              "      <td>0.903011</td>\n",
              "      <td>0.250219</td>\n",
              "    </tr>\n",
              "    <tr>\n",
              "      <th>5</th>\n",
              "      <td>0.284230</td>\n",
              "      <td>0.331972</td>\n",
              "      <td>0.465195</td>\n",
              "      <td>0.172025</td>\n",
              "      <td>0.771151</td>\n",
              "    </tr>\n",
              "    <tr>\n",
              "      <th>3</th>\n",
              "      <td>0.328154</td>\n",
              "      <td>0.706255</td>\n",
              "      <td>0.762719</td>\n",
              "      <td>0.834656</td>\n",
              "      <td>0.862625</td>\n",
              "    </tr>\n",
              "    <tr>\n",
              "      <th>2</th>\n",
              "      <td>0.415680</td>\n",
              "      <td>0.377535</td>\n",
              "      <td>0.937726</td>\n",
              "      <td>0.234012</td>\n",
              "      <td>0.040591</td>\n",
              "    </tr>\n",
              "    <tr>\n",
              "      <th>4</th>\n",
              "      <td>0.585696</td>\n",
              "      <td>0.194282</td>\n",
              "      <td>0.404627</td>\n",
              "      <td>0.632125</td>\n",
              "      <td>0.668061</td>\n",
              "    </tr>\n",
              "    <tr>\n",
              "      <th>6</th>\n",
              "      <td>0.586393</td>\n",
              "      <td>0.544746</td>\n",
              "      <td>0.562446</td>\n",
              "      <td>0.793553</td>\n",
              "      <td>0.880695</td>\n",
              "    </tr>\n",
              "    <tr>\n",
              "      <th>7</th>\n",
              "      <td>0.934214</td>\n",
              "      <td>0.097174</td>\n",
              "      <td>0.594391</td>\n",
              "      <td>0.467409</td>\n",
              "      <td>0.791295</td>\n",
              "    </tr>\n",
              "  </tbody>\n",
              "</table>\n",
              "</div>"
            ],
            "text/plain": [
              "          A         B         C         D         E\n",
              "0  0.092401  0.230817  0.897233  0.364461  0.785980\n",
              "1  0.282171  0.333544  0.981350  0.903011  0.250219\n",
              "5  0.284230  0.331972  0.465195  0.172025  0.771151\n",
              "3  0.328154  0.706255  0.762719  0.834656  0.862625\n",
              "2  0.415680  0.377535  0.937726  0.234012  0.040591\n",
              "4  0.585696  0.194282  0.404627  0.632125  0.668061\n",
              "6  0.586393  0.544746  0.562446  0.793553  0.880695\n",
              "7  0.934214  0.097174  0.594391  0.467409  0.791295"
            ]
          },
          "metadata": {
            "tags": []
          },
          "execution_count": 30
        }
      ]
    },
    {
      "cell_type": "code",
      "metadata": {
        "id": "JFaPt14p9EbG",
        "colab_type": "code",
        "colab": {
          "base_uri": "https://localhost:8080/",
          "height": 286
        },
        "outputId": "dcede8b4-fcf1-41a4-8f78-9030e05e0ba8"
      },
      "source": [
        "df2.sort_index()"
      ],
      "execution_count": 31,
      "outputs": [
        {
          "output_type": "execute_result",
          "data": {
            "text/html": [
              "<div>\n",
              "<style scoped>\n",
              "    .dataframe tbody tr th:only-of-type {\n",
              "        vertical-align: middle;\n",
              "    }\n",
              "\n",
              "    .dataframe tbody tr th {\n",
              "        vertical-align: top;\n",
              "    }\n",
              "\n",
              "    .dataframe thead th {\n",
              "        text-align: right;\n",
              "    }\n",
              "</style>\n",
              "<table border=\"1\" class=\"dataframe\">\n",
              "  <thead>\n",
              "    <tr style=\"text-align: right;\">\n",
              "      <th></th>\n",
              "      <th>A</th>\n",
              "      <th>B</th>\n",
              "      <th>C</th>\n",
              "      <th>D</th>\n",
              "      <th>E</th>\n",
              "    </tr>\n",
              "  </thead>\n",
              "  <tbody>\n",
              "    <tr>\n",
              "      <th>0</th>\n",
              "      <td>0.092401</td>\n",
              "      <td>0.230817</td>\n",
              "      <td>0.897233</td>\n",
              "      <td>0.364461</td>\n",
              "      <td>0.785980</td>\n",
              "    </tr>\n",
              "    <tr>\n",
              "      <th>1</th>\n",
              "      <td>0.282171</td>\n",
              "      <td>0.333544</td>\n",
              "      <td>0.981350</td>\n",
              "      <td>0.903011</td>\n",
              "      <td>0.250219</td>\n",
              "    </tr>\n",
              "    <tr>\n",
              "      <th>2</th>\n",
              "      <td>0.415680</td>\n",
              "      <td>0.377535</td>\n",
              "      <td>0.937726</td>\n",
              "      <td>0.234012</td>\n",
              "      <td>0.040591</td>\n",
              "    </tr>\n",
              "    <tr>\n",
              "      <th>3</th>\n",
              "      <td>0.328154</td>\n",
              "      <td>0.706255</td>\n",
              "      <td>0.762719</td>\n",
              "      <td>0.834656</td>\n",
              "      <td>0.862625</td>\n",
              "    </tr>\n",
              "    <tr>\n",
              "      <th>4</th>\n",
              "      <td>0.585696</td>\n",
              "      <td>0.194282</td>\n",
              "      <td>0.404627</td>\n",
              "      <td>0.632125</td>\n",
              "      <td>0.668061</td>\n",
              "    </tr>\n",
              "    <tr>\n",
              "      <th>5</th>\n",
              "      <td>0.284230</td>\n",
              "      <td>0.331972</td>\n",
              "      <td>0.465195</td>\n",
              "      <td>0.172025</td>\n",
              "      <td>0.771151</td>\n",
              "    </tr>\n",
              "    <tr>\n",
              "      <th>6</th>\n",
              "      <td>0.586393</td>\n",
              "      <td>0.544746</td>\n",
              "      <td>0.562446</td>\n",
              "      <td>0.793553</td>\n",
              "      <td>0.880695</td>\n",
              "    </tr>\n",
              "    <tr>\n",
              "      <th>7</th>\n",
              "      <td>0.934214</td>\n",
              "      <td>0.097174</td>\n",
              "      <td>0.594391</td>\n",
              "      <td>0.467409</td>\n",
              "      <td>0.791295</td>\n",
              "    </tr>\n",
              "  </tbody>\n",
              "</table>\n",
              "</div>"
            ],
            "text/plain": [
              "          A         B         C         D         E\n",
              "0  0.092401  0.230817  0.897233  0.364461  0.785980\n",
              "1  0.282171  0.333544  0.981350  0.903011  0.250219\n",
              "2  0.415680  0.377535  0.937726  0.234012  0.040591\n",
              "3  0.328154  0.706255  0.762719  0.834656  0.862625\n",
              "4  0.585696  0.194282  0.404627  0.632125  0.668061\n",
              "5  0.284230  0.331972  0.465195  0.172025  0.771151\n",
              "6  0.586393  0.544746  0.562446  0.793553  0.880695\n",
              "7  0.934214  0.097174  0.594391  0.467409  0.791295"
            ]
          },
          "metadata": {
            "tags": []
          },
          "execution_count": 31
        }
      ]
    },
    {
      "cell_type": "markdown",
      "metadata": {
        "id": "jMl2z_1-9j8p",
        "colab_type": "text"
      },
      "source": [
        "## 重命名DataFrame的index"
      ]
    },
    {
      "cell_type": "code",
      "metadata": {
        "id": "vcPftFGZ9UGE",
        "colab_type": "code",
        "colab": {
          "base_uri": "https://localhost:8080/",
          "height": 137
        },
        "outputId": "f72a2fdd-d3c2-4727-c8bf-cb432ca610da"
      },
      "source": [
        "df1 = DataFrame(np.arange(9).reshape(3,3) ,index=['A','B','C'],\n",
        "                columns=['BJ','SH','GZ'])\n",
        "df1"
      ],
      "execution_count": 32,
      "outputs": [
        {
          "output_type": "execute_result",
          "data": {
            "text/html": [
              "<div>\n",
              "<style scoped>\n",
              "    .dataframe tbody tr th:only-of-type {\n",
              "        vertical-align: middle;\n",
              "    }\n",
              "\n",
              "    .dataframe tbody tr th {\n",
              "        vertical-align: top;\n",
              "    }\n",
              "\n",
              "    .dataframe thead th {\n",
              "        text-align: right;\n",
              "    }\n",
              "</style>\n",
              "<table border=\"1\" class=\"dataframe\">\n",
              "  <thead>\n",
              "    <tr style=\"text-align: right;\">\n",
              "      <th></th>\n",
              "      <th>BJ</th>\n",
              "      <th>SH</th>\n",
              "      <th>GZ</th>\n",
              "    </tr>\n",
              "  </thead>\n",
              "  <tbody>\n",
              "    <tr>\n",
              "      <th>A</th>\n",
              "      <td>0</td>\n",
              "      <td>1</td>\n",
              "      <td>2</td>\n",
              "    </tr>\n",
              "    <tr>\n",
              "      <th>B</th>\n",
              "      <td>3</td>\n",
              "      <td>4</td>\n",
              "      <td>5</td>\n",
              "    </tr>\n",
              "    <tr>\n",
              "      <th>C</th>\n",
              "      <td>6</td>\n",
              "      <td>7</td>\n",
              "      <td>8</td>\n",
              "    </tr>\n",
              "  </tbody>\n",
              "</table>\n",
              "</div>"
            ],
            "text/plain": [
              "   BJ  SH  GZ\n",
              "A   0   1   2\n",
              "B   3   4   5\n",
              "C   6   7   8"
            ]
          },
          "metadata": {
            "tags": []
          },
          "execution_count": 32
        }
      ]
    },
    {
      "cell_type": "code",
      "metadata": {
        "id": "YO1sYF1o-ZRl",
        "colab_type": "code",
        "colab": {
          "base_uri": "https://localhost:8080/",
          "height": 137
        },
        "outputId": "82a89122-b3ba-487c-8c3d-0e66c74f97cb"
      },
      "source": [
        "df1.index = Series(['as','df','fg'])\n",
        "df1"
      ],
      "execution_count": 34,
      "outputs": [
        {
          "output_type": "execute_result",
          "data": {
            "text/html": [
              "<div>\n",
              "<style scoped>\n",
              "    .dataframe tbody tr th:only-of-type {\n",
              "        vertical-align: middle;\n",
              "    }\n",
              "\n",
              "    .dataframe tbody tr th {\n",
              "        vertical-align: top;\n",
              "    }\n",
              "\n",
              "    .dataframe thead th {\n",
              "        text-align: right;\n",
              "    }\n",
              "</style>\n",
              "<table border=\"1\" class=\"dataframe\">\n",
              "  <thead>\n",
              "    <tr style=\"text-align: right;\">\n",
              "      <th></th>\n",
              "      <th>BJ</th>\n",
              "      <th>SH</th>\n",
              "      <th>GZ</th>\n",
              "    </tr>\n",
              "  </thead>\n",
              "  <tbody>\n",
              "    <tr>\n",
              "      <th>as</th>\n",
              "      <td>0</td>\n",
              "      <td>1</td>\n",
              "      <td>2</td>\n",
              "    </tr>\n",
              "    <tr>\n",
              "      <th>df</th>\n",
              "      <td>3</td>\n",
              "      <td>4</td>\n",
              "      <td>5</td>\n",
              "    </tr>\n",
              "    <tr>\n",
              "      <th>fg</th>\n",
              "      <td>6</td>\n",
              "      <td>7</td>\n",
              "      <td>8</td>\n",
              "    </tr>\n",
              "  </tbody>\n",
              "</table>\n",
              "</div>"
            ],
            "text/plain": [
              "    BJ  SH  GZ\n",
              "as   0   1   2\n",
              "df   3   4   5\n",
              "fg   6   7   8"
            ]
          },
          "metadata": {
            "tags": []
          },
          "execution_count": 34
        }
      ]
    },
    {
      "cell_type": "code",
      "metadata": {
        "id": "ibUuHbdi-cwV",
        "colab_type": "code",
        "colab": {
          "base_uri": "https://localhost:8080/",
          "height": 137
        },
        "outputId": "effb6685-748f-4462-b97e-93609f1ee9e2"
      },
      "source": [
        "df1.rename(index = str.lower, columns=str.lower)"
      ],
      "execution_count": 35,
      "outputs": [
        {
          "output_type": "execute_result",
          "data": {
            "text/html": [
              "<div>\n",
              "<style scoped>\n",
              "    .dataframe tbody tr th:only-of-type {\n",
              "        vertical-align: middle;\n",
              "    }\n",
              "\n",
              "    .dataframe tbody tr th {\n",
              "        vertical-align: top;\n",
              "    }\n",
              "\n",
              "    .dataframe thead th {\n",
              "        text-align: right;\n",
              "    }\n",
              "</style>\n",
              "<table border=\"1\" class=\"dataframe\">\n",
              "  <thead>\n",
              "    <tr style=\"text-align: right;\">\n",
              "      <th></th>\n",
              "      <th>bj</th>\n",
              "      <th>sh</th>\n",
              "      <th>gz</th>\n",
              "    </tr>\n",
              "  </thead>\n",
              "  <tbody>\n",
              "    <tr>\n",
              "      <th>as</th>\n",
              "      <td>0</td>\n",
              "      <td>1</td>\n",
              "      <td>2</td>\n",
              "    </tr>\n",
              "    <tr>\n",
              "      <th>df</th>\n",
              "      <td>3</td>\n",
              "      <td>4</td>\n",
              "      <td>5</td>\n",
              "    </tr>\n",
              "    <tr>\n",
              "      <th>fg</th>\n",
              "      <td>6</td>\n",
              "      <td>7</td>\n",
              "      <td>8</td>\n",
              "    </tr>\n",
              "  </tbody>\n",
              "</table>\n",
              "</div>"
            ],
            "text/plain": [
              "    bj  sh  gz\n",
              "as   0   1   2\n",
              "df   3   4   5\n",
              "fg   6   7   8"
            ]
          },
          "metadata": {
            "tags": []
          },
          "execution_count": 35
        }
      ]
    },
    {
      "cell_type": "code",
      "metadata": {
        "id": "adl5mvPB-7hL",
        "colab_type": "code",
        "colab": {
          "base_uri": "https://localhost:8080/",
          "height": 137
        },
        "outputId": "162c5468-c6b8-484a-ef2e-3564770ec0ac"
      },
      "source": [
        "df1.rename(index={'as':'Beijing'},columns={'BJ':'BeiJ'})"
      ],
      "execution_count": 37,
      "outputs": [
        {
          "output_type": "execute_result",
          "data": {
            "text/html": [
              "<div>\n",
              "<style scoped>\n",
              "    .dataframe tbody tr th:only-of-type {\n",
              "        vertical-align: middle;\n",
              "    }\n",
              "\n",
              "    .dataframe tbody tr th {\n",
              "        vertical-align: top;\n",
              "    }\n",
              "\n",
              "    .dataframe thead th {\n",
              "        text-align: right;\n",
              "    }\n",
              "</style>\n",
              "<table border=\"1\" class=\"dataframe\">\n",
              "  <thead>\n",
              "    <tr style=\"text-align: right;\">\n",
              "      <th></th>\n",
              "      <th>BeiJ</th>\n",
              "      <th>SH</th>\n",
              "      <th>GZ</th>\n",
              "    </tr>\n",
              "  </thead>\n",
              "  <tbody>\n",
              "    <tr>\n",
              "      <th>Beijing</th>\n",
              "      <td>0</td>\n",
              "      <td>1</td>\n",
              "      <td>2</td>\n",
              "    </tr>\n",
              "    <tr>\n",
              "      <th>df</th>\n",
              "      <td>3</td>\n",
              "      <td>4</td>\n",
              "      <td>5</td>\n",
              "    </tr>\n",
              "    <tr>\n",
              "      <th>fg</th>\n",
              "      <td>6</td>\n",
              "      <td>7</td>\n",
              "      <td>8</td>\n",
              "    </tr>\n",
              "  </tbody>\n",
              "</table>\n",
              "</div>"
            ],
            "text/plain": [
              "         BeiJ  SH  GZ\n",
              "Beijing     0   1   2\n",
              "df          3   4   5\n",
              "fg          6   7   8"
            ]
          },
          "metadata": {
            "tags": []
          },
          "execution_count": 37
        }
      ]
    },
    {
      "cell_type": "markdown",
      "metadata": {
        "id": "neNHCMrlATQX",
        "colab_type": "text"
      },
      "source": [
        "## Merge操作"
      ]
    },
    {
      "cell_type": "code",
      "metadata": {
        "id": "bDc5shRh_UF_",
        "colab_type": "code",
        "colab": {
          "base_uri": "https://localhost:8080/",
          "height": 137
        },
        "outputId": "bd3476ac-88f8-4641-9404-bcf9d384825d"
      },
      "source": [
        "df1 = DataFrame({'key':['x','y','z'],'dataset1':[1,2,3] })\n",
        "df1"
      ],
      "execution_count": 38,
      "outputs": [
        {
          "output_type": "execute_result",
          "data": {
            "text/html": [
              "<div>\n",
              "<style scoped>\n",
              "    .dataframe tbody tr th:only-of-type {\n",
              "        vertical-align: middle;\n",
              "    }\n",
              "\n",
              "    .dataframe tbody tr th {\n",
              "        vertical-align: top;\n",
              "    }\n",
              "\n",
              "    .dataframe thead th {\n",
              "        text-align: right;\n",
              "    }\n",
              "</style>\n",
              "<table border=\"1\" class=\"dataframe\">\n",
              "  <thead>\n",
              "    <tr style=\"text-align: right;\">\n",
              "      <th></th>\n",
              "      <th>key</th>\n",
              "      <th>dataset1</th>\n",
              "    </tr>\n",
              "  </thead>\n",
              "  <tbody>\n",
              "    <tr>\n",
              "      <th>0</th>\n",
              "      <td>x</td>\n",
              "      <td>1</td>\n",
              "    </tr>\n",
              "    <tr>\n",
              "      <th>1</th>\n",
              "      <td>y</td>\n",
              "      <td>2</td>\n",
              "    </tr>\n",
              "    <tr>\n",
              "      <th>2</th>\n",
              "      <td>z</td>\n",
              "      <td>3</td>\n",
              "    </tr>\n",
              "  </tbody>\n",
              "</table>\n",
              "</div>"
            ],
            "text/plain": [
              "  key  dataset1\n",
              "0   x         1\n",
              "1   y         2\n",
              "2   z         3"
            ]
          },
          "metadata": {
            "tags": []
          },
          "execution_count": 38
        }
      ]
    },
    {
      "cell_type": "code",
      "metadata": {
        "id": "-pEt9x3qA4fo",
        "colab_type": "code",
        "colab": {
          "base_uri": "https://localhost:8080/",
          "height": 137
        },
        "outputId": "b2d926d8-15df-4d8b-9094-2aab54a1fb67"
      },
      "source": [
        "df2 = DataFrame({'key':['a','b','x'], 'dataset2':[4,5,6]})\n",
        "df2"
      ],
      "execution_count": 40,
      "outputs": [
        {
          "output_type": "execute_result",
          "data": {
            "text/html": [
              "<div>\n",
              "<style scoped>\n",
              "    .dataframe tbody tr th:only-of-type {\n",
              "        vertical-align: middle;\n",
              "    }\n",
              "\n",
              "    .dataframe tbody tr th {\n",
              "        vertical-align: top;\n",
              "    }\n",
              "\n",
              "    .dataframe thead th {\n",
              "        text-align: right;\n",
              "    }\n",
              "</style>\n",
              "<table border=\"1\" class=\"dataframe\">\n",
              "  <thead>\n",
              "    <tr style=\"text-align: right;\">\n",
              "      <th></th>\n",
              "      <th>key</th>\n",
              "      <th>dataset2</th>\n",
              "    </tr>\n",
              "  </thead>\n",
              "  <tbody>\n",
              "    <tr>\n",
              "      <th>0</th>\n",
              "      <td>a</td>\n",
              "      <td>4</td>\n",
              "    </tr>\n",
              "    <tr>\n",
              "      <th>1</th>\n",
              "      <td>b</td>\n",
              "      <td>5</td>\n",
              "    </tr>\n",
              "    <tr>\n",
              "      <th>2</th>\n",
              "      <td>x</td>\n",
              "      <td>6</td>\n",
              "    </tr>\n",
              "  </tbody>\n",
              "</table>\n",
              "</div>"
            ],
            "text/plain": [
              "  key  dataset2\n",
              "0   a         4\n",
              "1   b         5\n",
              "2   x         6"
            ]
          },
          "metadata": {
            "tags": []
          },
          "execution_count": 40
        }
      ]
    },
    {
      "cell_type": "code",
      "metadata": {
        "id": "G9h-BdsMBEva",
        "colab_type": "code",
        "colab": {
          "base_uri": "https://localhost:8080/",
          "height": 77
        },
        "outputId": "6f826efe-4d97-4abb-9e3d-8a4a8e2966ca"
      },
      "source": [
        "pd.merge(df1,df2) #默认inner方式 找两边都有的column"
      ],
      "execution_count": 41,
      "outputs": [
        {
          "output_type": "execute_result",
          "data": {
            "text/html": [
              "<div>\n",
              "<style scoped>\n",
              "    .dataframe tbody tr th:only-of-type {\n",
              "        vertical-align: middle;\n",
              "    }\n",
              "\n",
              "    .dataframe tbody tr th {\n",
              "        vertical-align: top;\n",
              "    }\n",
              "\n",
              "    .dataframe thead th {\n",
              "        text-align: right;\n",
              "    }\n",
              "</style>\n",
              "<table border=\"1\" class=\"dataframe\">\n",
              "  <thead>\n",
              "    <tr style=\"text-align: right;\">\n",
              "      <th></th>\n",
              "      <th>key</th>\n",
              "      <th>dataset1</th>\n",
              "      <th>dataset2</th>\n",
              "    </tr>\n",
              "  </thead>\n",
              "  <tbody>\n",
              "    <tr>\n",
              "      <th>0</th>\n",
              "      <td>x</td>\n",
              "      <td>1</td>\n",
              "      <td>6</td>\n",
              "    </tr>\n",
              "  </tbody>\n",
              "</table>\n",
              "</div>"
            ],
            "text/plain": [
              "  key  dataset1  dataset2\n",
              "0   x         1         6"
            ]
          },
          "metadata": {
            "tags": []
          },
          "execution_count": 41
        }
      ]
    },
    {
      "cell_type": "code",
      "metadata": {
        "id": "lxHEo74_BQbY",
        "colab_type": "code",
        "colab": {
          "base_uri": "https://localhost:8080/",
          "height": 137
        },
        "outputId": "06323e5e-a2b1-4d37-d57b-5fe958558822"
      },
      "source": [
        "pd.merge(df1,df2,how='left',on='key')"
      ],
      "execution_count": 42,
      "outputs": [
        {
          "output_type": "execute_result",
          "data": {
            "text/html": [
              "<div>\n",
              "<style scoped>\n",
              "    .dataframe tbody tr th:only-of-type {\n",
              "        vertical-align: middle;\n",
              "    }\n",
              "\n",
              "    .dataframe tbody tr th {\n",
              "        vertical-align: top;\n",
              "    }\n",
              "\n",
              "    .dataframe thead th {\n",
              "        text-align: right;\n",
              "    }\n",
              "</style>\n",
              "<table border=\"1\" class=\"dataframe\">\n",
              "  <thead>\n",
              "    <tr style=\"text-align: right;\">\n",
              "      <th></th>\n",
              "      <th>key</th>\n",
              "      <th>dataset1</th>\n",
              "      <th>dataset2</th>\n",
              "    </tr>\n",
              "  </thead>\n",
              "  <tbody>\n",
              "    <tr>\n",
              "      <th>0</th>\n",
              "      <td>x</td>\n",
              "      <td>1</td>\n",
              "      <td>6.0</td>\n",
              "    </tr>\n",
              "    <tr>\n",
              "      <th>1</th>\n",
              "      <td>y</td>\n",
              "      <td>2</td>\n",
              "      <td>NaN</td>\n",
              "    </tr>\n",
              "    <tr>\n",
              "      <th>2</th>\n",
              "      <td>z</td>\n",
              "      <td>3</td>\n",
              "      <td>NaN</td>\n",
              "    </tr>\n",
              "  </tbody>\n",
              "</table>\n",
              "</div>"
            ],
            "text/plain": [
              "  key  dataset1  dataset2\n",
              "0   x         1       6.0\n",
              "1   y         2       NaN\n",
              "2   z         3       NaN"
            ]
          },
          "metadata": {
            "tags": []
          },
          "execution_count": 42
        }
      ]
    },
    {
      "cell_type": "markdown",
      "metadata": {
        "id": "HGZuy2gzCgWS",
        "colab_type": "text"
      },
      "source": [
        "## Concatenate 操作"
      ]
    },
    {
      "cell_type": "code",
      "metadata": {
        "id": "era4JJPDEg-6",
        "colab_type": "code",
        "colab": {
          "base_uri": "https://localhost:8080/",
          "height": 137
        },
        "outputId": "603755a6-1581-456c-9c5c-b0c762b2749d"
      },
      "source": [
        "df1"
      ],
      "execution_count": 50,
      "outputs": [
        {
          "output_type": "execute_result",
          "data": {
            "text/html": [
              "<div>\n",
              "<style scoped>\n",
              "    .dataframe tbody tr th:only-of-type {\n",
              "        vertical-align: middle;\n",
              "    }\n",
              "\n",
              "    .dataframe tbody tr th {\n",
              "        vertical-align: top;\n",
              "    }\n",
              "\n",
              "    .dataframe thead th {\n",
              "        text-align: right;\n",
              "    }\n",
              "</style>\n",
              "<table border=\"1\" class=\"dataframe\">\n",
              "  <thead>\n",
              "    <tr style=\"text-align: right;\">\n",
              "      <th></th>\n",
              "      <th>key</th>\n",
              "      <th>dataset1</th>\n",
              "    </tr>\n",
              "  </thead>\n",
              "  <tbody>\n",
              "    <tr>\n",
              "      <th>0</th>\n",
              "      <td>x</td>\n",
              "      <td>1</td>\n",
              "    </tr>\n",
              "    <tr>\n",
              "      <th>1</th>\n",
              "      <td>y</td>\n",
              "      <td>2</td>\n",
              "    </tr>\n",
              "    <tr>\n",
              "      <th>2</th>\n",
              "      <td>z</td>\n",
              "      <td>3</td>\n",
              "    </tr>\n",
              "  </tbody>\n",
              "</table>\n",
              "</div>"
            ],
            "text/plain": [
              "  key  dataset1\n",
              "0   x         1\n",
              "1   y         2\n",
              "2   z         3"
            ]
          },
          "metadata": {
            "tags": []
          },
          "execution_count": 50
        }
      ]
    },
    {
      "cell_type": "code",
      "metadata": {
        "id": "KUSg3LJ7ElZF",
        "colab_type": "code",
        "colab": {
          "base_uri": "https://localhost:8080/",
          "height": 137
        },
        "outputId": "580eac6c-b111-4e46-cf94-0c61afd2f347"
      },
      "source": [
        "df2"
      ],
      "execution_count": 51,
      "outputs": [
        {
          "output_type": "execute_result",
          "data": {
            "text/html": [
              "<div>\n",
              "<style scoped>\n",
              "    .dataframe tbody tr th:only-of-type {\n",
              "        vertical-align: middle;\n",
              "    }\n",
              "\n",
              "    .dataframe tbody tr th {\n",
              "        vertical-align: top;\n",
              "    }\n",
              "\n",
              "    .dataframe thead th {\n",
              "        text-align: right;\n",
              "    }\n",
              "</style>\n",
              "<table border=\"1\" class=\"dataframe\">\n",
              "  <thead>\n",
              "    <tr style=\"text-align: right;\">\n",
              "      <th></th>\n",
              "      <th>key</th>\n",
              "      <th>dataset2</th>\n",
              "    </tr>\n",
              "  </thead>\n",
              "  <tbody>\n",
              "    <tr>\n",
              "      <th>0</th>\n",
              "      <td>a</td>\n",
              "      <td>4</td>\n",
              "    </tr>\n",
              "    <tr>\n",
              "      <th>1</th>\n",
              "      <td>b</td>\n",
              "      <td>5</td>\n",
              "    </tr>\n",
              "    <tr>\n",
              "      <th>2</th>\n",
              "      <td>x</td>\n",
              "      <td>6</td>\n",
              "    </tr>\n",
              "  </tbody>\n",
              "</table>\n",
              "</div>"
            ],
            "text/plain": [
              "  key  dataset2\n",
              "0   a         4\n",
              "1   b         5\n",
              "2   x         6"
            ]
          },
          "metadata": {
            "tags": []
          },
          "execution_count": 51
        }
      ]
    },
    {
      "cell_type": "code",
      "metadata": {
        "id": "K0P3uFCYB2Fy",
        "colab_type": "code",
        "colab": {
          "base_uri": "https://localhost:8080/",
          "height": 362
        },
        "outputId": "ff396e11-29e8-4516-92b1-6f269cb3c976"
      },
      "source": [
        "pd.concat([df1,df2])"
      ],
      "execution_count": 43,
      "outputs": [
        {
          "output_type": "stream",
          "text": [
            "/usr/local/lib/python3.6/dist-packages/ipykernel_launcher.py:1: FutureWarning: Sorting because non-concatenation axis is not aligned. A future version\n",
            "of pandas will change to not sort by default.\n",
            "\n",
            "To accept the future behavior, pass 'sort=False'.\n",
            "\n",
            "To retain the current behavior and silence the warning, pass 'sort=True'.\n",
            "\n",
            "  \"\"\"Entry point for launching an IPython kernel.\n"
          ],
          "name": "stderr"
        },
        {
          "output_type": "execute_result",
          "data": {
            "text/html": [
              "<div>\n",
              "<style scoped>\n",
              "    .dataframe tbody tr th:only-of-type {\n",
              "        vertical-align: middle;\n",
              "    }\n",
              "\n",
              "    .dataframe tbody tr th {\n",
              "        vertical-align: top;\n",
              "    }\n",
              "\n",
              "    .dataframe thead th {\n",
              "        text-align: right;\n",
              "    }\n",
              "</style>\n",
              "<table border=\"1\" class=\"dataframe\">\n",
              "  <thead>\n",
              "    <tr style=\"text-align: right;\">\n",
              "      <th></th>\n",
              "      <th>dataset1</th>\n",
              "      <th>dataset2</th>\n",
              "      <th>key</th>\n",
              "    </tr>\n",
              "  </thead>\n",
              "  <tbody>\n",
              "    <tr>\n",
              "      <th>0</th>\n",
              "      <td>1.0</td>\n",
              "      <td>NaN</td>\n",
              "      <td>x</td>\n",
              "    </tr>\n",
              "    <tr>\n",
              "      <th>1</th>\n",
              "      <td>2.0</td>\n",
              "      <td>NaN</td>\n",
              "      <td>y</td>\n",
              "    </tr>\n",
              "    <tr>\n",
              "      <th>2</th>\n",
              "      <td>3.0</td>\n",
              "      <td>NaN</td>\n",
              "      <td>z</td>\n",
              "    </tr>\n",
              "    <tr>\n",
              "      <th>0</th>\n",
              "      <td>NaN</td>\n",
              "      <td>4.0</td>\n",
              "      <td>a</td>\n",
              "    </tr>\n",
              "    <tr>\n",
              "      <th>1</th>\n",
              "      <td>NaN</td>\n",
              "      <td>5.0</td>\n",
              "      <td>b</td>\n",
              "    </tr>\n",
              "    <tr>\n",
              "      <th>2</th>\n",
              "      <td>NaN</td>\n",
              "      <td>6.0</td>\n",
              "      <td>x</td>\n",
              "    </tr>\n",
              "  </tbody>\n",
              "</table>\n",
              "</div>"
            ],
            "text/plain": [
              "   dataset1  dataset2 key\n",
              "0       1.0       NaN   x\n",
              "1       2.0       NaN   y\n",
              "2       3.0       NaN   z\n",
              "0       NaN       4.0   a\n",
              "1       NaN       5.0   b\n",
              "2       NaN       6.0   x"
            ]
          },
          "metadata": {
            "tags": []
          },
          "execution_count": 43
        }
      ]
    },
    {
      "cell_type": "code",
      "metadata": {
        "id": "ylZTzKWAEXXI",
        "colab_type": "code",
        "colab": {
          "base_uri": "https://localhost:8080/",
          "height": 107
        },
        "outputId": "60182f8a-15e1-4af6-850d-4d13c37f1d0a"
      },
      "source": [
        "df1 = pd.DataFrame({'A': [0, 3], 'B': [4, 4]})\n",
        "df2 = pd.DataFrame({'A': [1, 1], 'B': [3, 9]})\n",
        "take_smaller = lambda s1, s2: s1 if s1.sum() < s2.sum() else s2 # 以column为单位进行比较\n",
        "df1.combine(df2, take_smaller)"
      ],
      "execution_count": 53,
      "outputs": [
        {
          "output_type": "execute_result",
          "data": {
            "text/html": [
              "<div>\n",
              "<style scoped>\n",
              "    .dataframe tbody tr th:only-of-type {\n",
              "        vertical-align: middle;\n",
              "    }\n",
              "\n",
              "    .dataframe tbody tr th {\n",
              "        vertical-align: top;\n",
              "    }\n",
              "\n",
              "    .dataframe thead th {\n",
              "        text-align: right;\n",
              "    }\n",
              "</style>\n",
              "<table border=\"1\" class=\"dataframe\">\n",
              "  <thead>\n",
              "    <tr style=\"text-align: right;\">\n",
              "      <th></th>\n",
              "      <th>A</th>\n",
              "      <th>B</th>\n",
              "    </tr>\n",
              "  </thead>\n",
              "  <tbody>\n",
              "    <tr>\n",
              "      <th>0</th>\n",
              "      <td>1</td>\n",
              "      <td>4</td>\n",
              "    </tr>\n",
              "    <tr>\n",
              "      <th>1</th>\n",
              "      <td>1</td>\n",
              "      <td>4</td>\n",
              "    </tr>\n",
              "  </tbody>\n",
              "</table>\n",
              "</div>"
            ],
            "text/plain": [
              "   A  B\n",
              "0  1  4\n",
              "1  1  4"
            ]
          },
          "metadata": {
            "tags": []
          },
          "execution_count": 53
        }
      ]
    },
    {
      "cell_type": "code",
      "metadata": {
        "id": "Y5UkfX-VFgVo",
        "colab_type": "code",
        "colab": {
          "base_uri": "https://localhost:8080/",
          "height": 107
        },
        "outputId": "ee644b2b-17d2-4244-ea9c-aa4ad7ca71e5"
      },
      "source": [
        "df1 = pd.DataFrame({'A': [None, 0], 'B': [None, 4]})\n",
        "df2 = pd.DataFrame({'A': [1, 1], 'B': [3, 3]})\n",
        "# Update null elements with value in the same location in other.\n",
        "df1.combine_first(df2)"
      ],
      "execution_count": 54,
      "outputs": [
        {
          "output_type": "execute_result",
          "data": {
            "text/html": [
              "<div>\n",
              "<style scoped>\n",
              "    .dataframe tbody tr th:only-of-type {\n",
              "        vertical-align: middle;\n",
              "    }\n",
              "\n",
              "    .dataframe tbody tr th {\n",
              "        vertical-align: top;\n",
              "    }\n",
              "\n",
              "    .dataframe thead th {\n",
              "        text-align: right;\n",
              "    }\n",
              "</style>\n",
              "<table border=\"1\" class=\"dataframe\">\n",
              "  <thead>\n",
              "    <tr style=\"text-align: right;\">\n",
              "      <th></th>\n",
              "      <th>A</th>\n",
              "      <th>B</th>\n",
              "    </tr>\n",
              "  </thead>\n",
              "  <tbody>\n",
              "    <tr>\n",
              "      <th>0</th>\n",
              "      <td>1.0</td>\n",
              "      <td>3.0</td>\n",
              "    </tr>\n",
              "    <tr>\n",
              "      <th>1</th>\n",
              "      <td>0.0</td>\n",
              "      <td>4.0</td>\n",
              "    </tr>\n",
              "  </tbody>\n",
              "</table>\n",
              "</div>"
            ],
            "text/plain": [
              "     A    B\n",
              "0  1.0  3.0\n",
              "1  0.0  4.0"
            ]
          },
          "metadata": {
            "tags": []
          },
          "execution_count": 54
        }
      ]
    },
    {
      "cell_type": "markdown",
      "metadata": {
        "id": "actk-WGYIHmZ",
        "colab_type": "text"
      },
      "source": [
        "## apply 预处理\n",
        "Result of applying func along the given axis of the DataFrame.\n"
      ]
    },
    {
      "cell_type": "code",
      "metadata": {
        "id": "GQlicpNsIGjm",
        "colab_type": "code",
        "colab": {
          "base_uri": "https://localhost:8080/",
          "height": 197
        },
        "outputId": "d8a46270-2f44-40eb-cc65-d0cbf1f066ab"
      },
      "source": [
        "url = \"http://samplecsvs.s3.amazonaws.com/SalesJan2009.csv\"\n",
        "df = pd.read_csv(url)\n",
        "df.head()"
      ],
      "execution_count": 68,
      "outputs": [
        {
          "output_type": "execute_result",
          "data": {
            "text/html": [
              "<div>\n",
              "<style scoped>\n",
              "    .dataframe tbody tr th:only-of-type {\n",
              "        vertical-align: middle;\n",
              "    }\n",
              "\n",
              "    .dataframe tbody tr th {\n",
              "        vertical-align: top;\n",
              "    }\n",
              "\n",
              "    .dataframe thead th {\n",
              "        text-align: right;\n",
              "    }\n",
              "</style>\n",
              "<table border=\"1\" class=\"dataframe\">\n",
              "  <thead>\n",
              "    <tr style=\"text-align: right;\">\n",
              "      <th></th>\n",
              "      <th>Transaction_date</th>\n",
              "      <th>Product</th>\n",
              "      <th>Price</th>\n",
              "      <th>Payment_Type</th>\n",
              "      <th>Name</th>\n",
              "      <th>City</th>\n",
              "      <th>State</th>\n",
              "      <th>Country</th>\n",
              "      <th>Account_Created</th>\n",
              "      <th>Last_Login</th>\n",
              "      <th>Latitude</th>\n",
              "      <th>Longitude</th>\n",
              "    </tr>\n",
              "  </thead>\n",
              "  <tbody>\n",
              "    <tr>\n",
              "      <th>0</th>\n",
              "      <td>1/2/09 6:17</td>\n",
              "      <td>Product1</td>\n",
              "      <td>1200</td>\n",
              "      <td>Mastercard</td>\n",
              "      <td>carolina</td>\n",
              "      <td>Basildon</td>\n",
              "      <td>England</td>\n",
              "      <td>United Kingdom</td>\n",
              "      <td>1/2/09 6:00</td>\n",
              "      <td>1/2/09 6:08</td>\n",
              "      <td>51.500000</td>\n",
              "      <td>-1.116667</td>\n",
              "    </tr>\n",
              "    <tr>\n",
              "      <th>1</th>\n",
              "      <td>1/2/09 4:53</td>\n",
              "      <td>Product1</td>\n",
              "      <td>1200</td>\n",
              "      <td>Visa</td>\n",
              "      <td>Betina</td>\n",
              "      <td>Parkville</td>\n",
              "      <td>MO</td>\n",
              "      <td>United States</td>\n",
              "      <td>1/2/09 4:42</td>\n",
              "      <td>1/2/09 7:49</td>\n",
              "      <td>39.195000</td>\n",
              "      <td>-94.681940</td>\n",
              "    </tr>\n",
              "    <tr>\n",
              "      <th>2</th>\n",
              "      <td>1/2/09 13:08</td>\n",
              "      <td>Product1</td>\n",
              "      <td>1200</td>\n",
              "      <td>Mastercard</td>\n",
              "      <td>Federica e Andrea</td>\n",
              "      <td>Astoria</td>\n",
              "      <td>OR</td>\n",
              "      <td>United States</td>\n",
              "      <td>1/1/09 16:21</td>\n",
              "      <td>1/3/09 12:32</td>\n",
              "      <td>46.188060</td>\n",
              "      <td>-123.830000</td>\n",
              "    </tr>\n",
              "    <tr>\n",
              "      <th>3</th>\n",
              "      <td>1/3/09 14:44</td>\n",
              "      <td>Product1</td>\n",
              "      <td>1200</td>\n",
              "      <td>Visa</td>\n",
              "      <td>Gouya</td>\n",
              "      <td>Echuca</td>\n",
              "      <td>Victoria</td>\n",
              "      <td>Australia</td>\n",
              "      <td>9/25/05 21:13</td>\n",
              "      <td>1/3/09 14:22</td>\n",
              "      <td>-36.133333</td>\n",
              "      <td>144.750000</td>\n",
              "    </tr>\n",
              "    <tr>\n",
              "      <th>4</th>\n",
              "      <td>1/4/09 12:56</td>\n",
              "      <td>Product2</td>\n",
              "      <td>3600</td>\n",
              "      <td>Visa</td>\n",
              "      <td>Gerd W</td>\n",
              "      <td>Cahaba Heights</td>\n",
              "      <td>AL</td>\n",
              "      <td>United States</td>\n",
              "      <td>11/15/08 15:47</td>\n",
              "      <td>1/4/09 12:45</td>\n",
              "      <td>33.520560</td>\n",
              "      <td>-86.802500</td>\n",
              "    </tr>\n",
              "  </tbody>\n",
              "</table>\n",
              "</div>"
            ],
            "text/plain": [
              "  Transaction_date   Product Price  ...    Last_Login   Latitude   Longitude\n",
              "0      1/2/09 6:17  Product1  1200  ...   1/2/09 6:08  51.500000   -1.116667\n",
              "1      1/2/09 4:53  Product1  1200  ...   1/2/09 7:49  39.195000  -94.681940\n",
              "2     1/2/09 13:08  Product1  1200  ...  1/3/09 12:32  46.188060 -123.830000\n",
              "3     1/3/09 14:44  Product1  1200  ...  1/3/09 14:22 -36.133333  144.750000\n",
              "4     1/4/09 12:56  Product2  3600  ...  1/4/09 12:45  33.520560  -86.802500\n",
              "\n",
              "[5 rows x 12 columns]"
            ]
          },
          "metadata": {
            "tags": []
          },
          "execution_count": 68
        }
      ]
    },
    {
      "cell_type": "code",
      "metadata": {
        "id": "saE4r7YLGMlu",
        "colab_type": "code",
        "colab": {
          "base_uri": "https://localhost:8080/",
          "height": 34
        },
        "outputId": "76250d7d-de8b-4c4e-bfaf-dd324906ae08"
      },
      "source": [
        "from datetime import datetime\n",
        "datetime_str = '09/19/18 13:55:26'\n",
        "datetime_object = datetime.strptime(datetime_str, '%m/%d/%y %H:%M:%S')\n",
        "datetime_object"
      ],
      "execution_count": 59,
      "outputs": [
        {
          "output_type": "execute_result",
          "data": {
            "text/plain": [
              "datetime.datetime(2018, 9, 19, 13, 55, 26)"
            ]
          },
          "metadata": {
            "tags": []
          },
          "execution_count": 59
        }
      ]
    },
    {
      "cell_type": "code",
      "metadata": {
        "id": "GoSGSLWbIwRz",
        "colab_type": "code",
        "colab": {
          "base_uri": "https://localhost:8080/",
          "height": 34
        },
        "outputId": "64a67f1c-da2a-4bf8-a78e-d555e6fbe22f"
      },
      "source": [
        "print(datetime_object) #printed in default format"
      ],
      "execution_count": 60,
      "outputs": [
        {
          "output_type": "stream",
          "text": [
            "2018-09-19 13:55:26\n"
          ],
          "name": "stdout"
        }
      ]
    },
    {
      "cell_type": "code",
      "metadata": {
        "id": "0LrrNnEWJPc9",
        "colab_type": "code",
        "colab": {}
      },
      "source": [
        "def parseTime(str):\n",
        "  #date = datetime.strptime(str,'%-m/%-d/%y %H:%M')\n",
        "  date = datetime.strptime(str,'%m/%d/%y %H:%M')\n",
        "  return date"
      ],
      "execution_count": 0,
      "outputs": []
    },
    {
      "cell_type": "code",
      "metadata": {
        "id": "Sl5-lhBRK3_4",
        "colab_type": "code",
        "colab": {
          "base_uri": "https://localhost:8080/",
          "height": 220
        },
        "outputId": "3ee14a3b-320d-4911-d030-ebc8dd8b1c2b"
      },
      "source": [
        "df.Transaction_date.apply(parseTime)"
      ],
      "execution_count": 64,
      "outputs": [
        {
          "output_type": "execute_result",
          "data": {
            "text/plain": [
              "0     2009-01-02 06:17:00\n",
              "1     2009-01-02 04:53:00\n",
              "2     2009-01-02 13:08:00\n",
              "3     2009-01-03 14:44:00\n",
              "4     2009-01-04 12:56:00\n",
              "              ...        \n",
              "993   2009-01-22 14:25:00\n",
              "994   2009-01-28 05:36:00\n",
              "995   2009-01-01 04:24:00\n",
              "996   2009-01-08 11:55:00\n",
              "997   2009-01-12 21:30:00\n",
              "Name: Transaction_date, Length: 998, dtype: datetime64[ns]"
            ]
          },
          "metadata": {
            "tags": []
          },
          "execution_count": 64
        }
      ]
    },
    {
      "cell_type": "code",
      "metadata": {
        "id": "UTKa7DU-K-3F",
        "colab_type": "code",
        "colab": {
          "base_uri": "https://localhost:8080/",
          "height": 197
        },
        "outputId": "0478e959-b36d-44a4-a00a-14e26d42c1a9"
      },
      "source": [
        "df.head()"
      ],
      "execution_count": 65,
      "outputs": [
        {
          "output_type": "execute_result",
          "data": {
            "text/html": [
              "<div>\n",
              "<style scoped>\n",
              "    .dataframe tbody tr th:only-of-type {\n",
              "        vertical-align: middle;\n",
              "    }\n",
              "\n",
              "    .dataframe tbody tr th {\n",
              "        vertical-align: top;\n",
              "    }\n",
              "\n",
              "    .dataframe thead th {\n",
              "        text-align: right;\n",
              "    }\n",
              "</style>\n",
              "<table border=\"1\" class=\"dataframe\">\n",
              "  <thead>\n",
              "    <tr style=\"text-align: right;\">\n",
              "      <th></th>\n",
              "      <th>Transaction_date</th>\n",
              "      <th>Product</th>\n",
              "      <th>Price</th>\n",
              "      <th>Payment_Type</th>\n",
              "      <th>Name</th>\n",
              "      <th>City</th>\n",
              "      <th>State</th>\n",
              "      <th>Country</th>\n",
              "      <th>Account_Created</th>\n",
              "      <th>Last_Login</th>\n",
              "      <th>Latitude</th>\n",
              "      <th>Longitude</th>\n",
              "    </tr>\n",
              "  </thead>\n",
              "  <tbody>\n",
              "    <tr>\n",
              "      <th>0</th>\n",
              "      <td>1/2/09 6:17</td>\n",
              "      <td>Product1</td>\n",
              "      <td>1200</td>\n",
              "      <td>Mastercard</td>\n",
              "      <td>carolina</td>\n",
              "      <td>Basildon</td>\n",
              "      <td>England</td>\n",
              "      <td>United Kingdom</td>\n",
              "      <td>1/2/09 6:00</td>\n",
              "      <td>1/2/09 6:08</td>\n",
              "      <td>51.500000</td>\n",
              "      <td>-1.116667</td>\n",
              "    </tr>\n",
              "    <tr>\n",
              "      <th>1</th>\n",
              "      <td>1/2/09 4:53</td>\n",
              "      <td>Product1</td>\n",
              "      <td>1200</td>\n",
              "      <td>Visa</td>\n",
              "      <td>Betina</td>\n",
              "      <td>Parkville</td>\n",
              "      <td>MO</td>\n",
              "      <td>United States</td>\n",
              "      <td>1/2/09 4:42</td>\n",
              "      <td>1/2/09 7:49</td>\n",
              "      <td>39.195000</td>\n",
              "      <td>-94.681940</td>\n",
              "    </tr>\n",
              "    <tr>\n",
              "      <th>2</th>\n",
              "      <td>1/2/09 13:08</td>\n",
              "      <td>Product1</td>\n",
              "      <td>1200</td>\n",
              "      <td>Mastercard</td>\n",
              "      <td>Federica e Andrea</td>\n",
              "      <td>Astoria</td>\n",
              "      <td>OR</td>\n",
              "      <td>United States</td>\n",
              "      <td>1/1/09 16:21</td>\n",
              "      <td>1/3/09 12:32</td>\n",
              "      <td>46.188060</td>\n",
              "      <td>-123.830000</td>\n",
              "    </tr>\n",
              "    <tr>\n",
              "      <th>3</th>\n",
              "      <td>1/3/09 14:44</td>\n",
              "      <td>Product1</td>\n",
              "      <td>1200</td>\n",
              "      <td>Visa</td>\n",
              "      <td>Gouya</td>\n",
              "      <td>Echuca</td>\n",
              "      <td>Victoria</td>\n",
              "      <td>Australia</td>\n",
              "      <td>9/25/05 21:13</td>\n",
              "      <td>1/3/09 14:22</td>\n",
              "      <td>-36.133333</td>\n",
              "      <td>144.750000</td>\n",
              "    </tr>\n",
              "    <tr>\n",
              "      <th>4</th>\n",
              "      <td>1/4/09 12:56</td>\n",
              "      <td>Product2</td>\n",
              "      <td>3600</td>\n",
              "      <td>Visa</td>\n",
              "      <td>Gerd W</td>\n",
              "      <td>Cahaba Heights</td>\n",
              "      <td>AL</td>\n",
              "      <td>United States</td>\n",
              "      <td>11/15/08 15:47</td>\n",
              "      <td>1/4/09 12:45</td>\n",
              "      <td>33.520560</td>\n",
              "      <td>-86.802500</td>\n",
              "    </tr>\n",
              "  </tbody>\n",
              "</table>\n",
              "</div>"
            ],
            "text/plain": [
              "  Transaction_date   Product Price  ...    Last_Login   Latitude   Longitude\n",
              "0      1/2/09 6:17  Product1  1200  ...   1/2/09 6:08  51.500000   -1.116667\n",
              "1      1/2/09 4:53  Product1  1200  ...   1/2/09 7:49  39.195000  -94.681940\n",
              "2     1/2/09 13:08  Product1  1200  ...  1/3/09 12:32  46.188060 -123.830000\n",
              "3     1/3/09 14:44  Product1  1200  ...  1/3/09 14:22 -36.133333  144.750000\n",
              "4     1/4/09 12:56  Product2  3600  ...  1/4/09 12:45  33.520560  -86.802500\n",
              "\n",
              "[5 rows x 12 columns]"
            ]
          },
          "metadata": {
            "tags": []
          },
          "execution_count": 65
        }
      ]
    },
    {
      "cell_type": "code",
      "metadata": {
        "id": "vviIprOUMVrA",
        "colab_type": "code",
        "colab": {
          "base_uri": "https://localhost:8080/",
          "height": 197
        },
        "outputId": "46bd91b2-dc14-43a9-aaf2-d6f2769e4b62"
      },
      "source": [
        "df.Transaction_date = df.Transaction_date.apply(parseTime) # 对某一列进行更新\n",
        "df.head()"
      ],
      "execution_count": 69,
      "outputs": [
        {
          "output_type": "execute_result",
          "data": {
            "text/html": [
              "<div>\n",
              "<style scoped>\n",
              "    .dataframe tbody tr th:only-of-type {\n",
              "        vertical-align: middle;\n",
              "    }\n",
              "\n",
              "    .dataframe tbody tr th {\n",
              "        vertical-align: top;\n",
              "    }\n",
              "\n",
              "    .dataframe thead th {\n",
              "        text-align: right;\n",
              "    }\n",
              "</style>\n",
              "<table border=\"1\" class=\"dataframe\">\n",
              "  <thead>\n",
              "    <tr style=\"text-align: right;\">\n",
              "      <th></th>\n",
              "      <th>Transaction_date</th>\n",
              "      <th>Product</th>\n",
              "      <th>Price</th>\n",
              "      <th>Payment_Type</th>\n",
              "      <th>Name</th>\n",
              "      <th>City</th>\n",
              "      <th>State</th>\n",
              "      <th>Country</th>\n",
              "      <th>Account_Created</th>\n",
              "      <th>Last_Login</th>\n",
              "      <th>Latitude</th>\n",
              "      <th>Longitude</th>\n",
              "    </tr>\n",
              "  </thead>\n",
              "  <tbody>\n",
              "    <tr>\n",
              "      <th>0</th>\n",
              "      <td>2009-01-02 06:17:00</td>\n",
              "      <td>Product1</td>\n",
              "      <td>1200</td>\n",
              "      <td>Mastercard</td>\n",
              "      <td>carolina</td>\n",
              "      <td>Basildon</td>\n",
              "      <td>England</td>\n",
              "      <td>United Kingdom</td>\n",
              "      <td>1/2/09 6:00</td>\n",
              "      <td>1/2/09 6:08</td>\n",
              "      <td>51.500000</td>\n",
              "      <td>-1.116667</td>\n",
              "    </tr>\n",
              "    <tr>\n",
              "      <th>1</th>\n",
              "      <td>2009-01-02 04:53:00</td>\n",
              "      <td>Product1</td>\n",
              "      <td>1200</td>\n",
              "      <td>Visa</td>\n",
              "      <td>Betina</td>\n",
              "      <td>Parkville</td>\n",
              "      <td>MO</td>\n",
              "      <td>United States</td>\n",
              "      <td>1/2/09 4:42</td>\n",
              "      <td>1/2/09 7:49</td>\n",
              "      <td>39.195000</td>\n",
              "      <td>-94.681940</td>\n",
              "    </tr>\n",
              "    <tr>\n",
              "      <th>2</th>\n",
              "      <td>2009-01-02 13:08:00</td>\n",
              "      <td>Product1</td>\n",
              "      <td>1200</td>\n",
              "      <td>Mastercard</td>\n",
              "      <td>Federica e Andrea</td>\n",
              "      <td>Astoria</td>\n",
              "      <td>OR</td>\n",
              "      <td>United States</td>\n",
              "      <td>1/1/09 16:21</td>\n",
              "      <td>1/3/09 12:32</td>\n",
              "      <td>46.188060</td>\n",
              "      <td>-123.830000</td>\n",
              "    </tr>\n",
              "    <tr>\n",
              "      <th>3</th>\n",
              "      <td>2009-01-03 14:44:00</td>\n",
              "      <td>Product1</td>\n",
              "      <td>1200</td>\n",
              "      <td>Visa</td>\n",
              "      <td>Gouya</td>\n",
              "      <td>Echuca</td>\n",
              "      <td>Victoria</td>\n",
              "      <td>Australia</td>\n",
              "      <td>9/25/05 21:13</td>\n",
              "      <td>1/3/09 14:22</td>\n",
              "      <td>-36.133333</td>\n",
              "      <td>144.750000</td>\n",
              "    </tr>\n",
              "    <tr>\n",
              "      <th>4</th>\n",
              "      <td>2009-01-04 12:56:00</td>\n",
              "      <td>Product2</td>\n",
              "      <td>3600</td>\n",
              "      <td>Visa</td>\n",
              "      <td>Gerd W</td>\n",
              "      <td>Cahaba Heights</td>\n",
              "      <td>AL</td>\n",
              "      <td>United States</td>\n",
              "      <td>11/15/08 15:47</td>\n",
              "      <td>1/4/09 12:45</td>\n",
              "      <td>33.520560</td>\n",
              "      <td>-86.802500</td>\n",
              "    </tr>\n",
              "  </tbody>\n",
              "</table>\n",
              "</div>"
            ],
            "text/plain": [
              "     Transaction_date   Product Price  ...    Last_Login   Latitude   Longitude\n",
              "0 2009-01-02 06:17:00  Product1  1200  ...   1/2/09 6:08  51.500000   -1.116667\n",
              "1 2009-01-02 04:53:00  Product1  1200  ...   1/2/09 7:49  39.195000  -94.681940\n",
              "2 2009-01-02 13:08:00  Product1  1200  ...  1/3/09 12:32  46.188060 -123.830000\n",
              "3 2009-01-03 14:44:00  Product1  1200  ...  1/3/09 14:22 -36.133333  144.750000\n",
              "4 2009-01-04 12:56:00  Product2  3600  ...  1/4/09 12:45  33.520560  -86.802500\n",
              "\n",
              "[5 rows x 12 columns]"
            ]
          },
          "metadata": {
            "tags": []
          },
          "execution_count": 69
        }
      ]
    },
    {
      "cell_type": "markdown",
      "metadata": {
        "id": "v6oyeGcSN8r4",
        "colab_type": "text"
      },
      "source": [
        "## 去重"
      ]
    },
    {
      "cell_type": "code",
      "metadata": {
        "id": "lzBe8C62NlHO",
        "colab_type": "code",
        "colab": {
          "base_uri": "https://localhost:8080/",
          "height": 34
        },
        "outputId": "8c11248f-187c-4a53-9d55-79c51d8d30c7"
      },
      "source": [
        "len(df)"
      ],
      "execution_count": 70,
      "outputs": [
        {
          "output_type": "execute_result",
          "data": {
            "text/plain": [
              "998"
            ]
          },
          "metadata": {
            "tags": []
          },
          "execution_count": 70
        }
      ]
    },
    {
      "cell_type": "code",
      "metadata": {
        "id": "iNXupYksOMe-",
        "colab_type": "code",
        "colab": {
          "base_uri": "https://localhost:8080/",
          "height": 34
        },
        "outputId": "f914cd23-2469-4f88-851a-6996107e2cf0"
      },
      "source": [
        "len(df['Transaction_date'].unique())"
      ],
      "execution_count": 71,
      "outputs": [
        {
          "output_type": "execute_result",
          "data": {
            "text/plain": [
              "987"
            ]
          },
          "metadata": {
            "tags": []
          },
          "execution_count": 71
        }
      ]
    },
    {
      "cell_type": "code",
      "metadata": {
        "id": "ALVDCu4NObZX",
        "colab_type": "code",
        "colab": {
          "base_uri": "https://localhost:8080/",
          "height": 220
        },
        "outputId": "23476bfb-0185-4963-d64d-63a99e9defb0"
      },
      "source": [
        "df['Transaction_date'].duplicated()"
      ],
      "execution_count": 72,
      "outputs": [
        {
          "output_type": "execute_result",
          "data": {
            "text/plain": [
              "0      False\n",
              "1      False\n",
              "2      False\n",
              "3      False\n",
              "4      False\n",
              "       ...  \n",
              "993    False\n",
              "994    False\n",
              "995    False\n",
              "996     True\n",
              "997    False\n",
              "Name: Transaction_date, Length: 998, dtype: bool"
            ]
          },
          "metadata": {
            "tags": []
          },
          "execution_count": 72
        }
      ]
    },
    {
      "cell_type": "code",
      "metadata": {
        "id": "W-cCbQ-5Oqm_",
        "colab_type": "code",
        "colab": {
          "base_uri": "https://localhost:8080/",
          "height": 220
        },
        "outputId": "cdaa5c8d-8bd3-4171-9bf8-6a4d0d757db9"
      },
      "source": [
        "df['Transaction_date'].drop_duplicates() # 产生新的series"
      ],
      "execution_count": 74,
      "outputs": [
        {
          "output_type": "execute_result",
          "data": {
            "text/plain": [
              "0     2009-01-02 06:17:00\n",
              "1     2009-01-02 04:53:00\n",
              "2     2009-01-02 13:08:00\n",
              "3     2009-01-03 14:44:00\n",
              "4     2009-01-04 12:56:00\n",
              "              ...        \n",
              "992   2009-01-20 10:42:00\n",
              "993   2009-01-22 14:25:00\n",
              "994   2009-01-28 05:36:00\n",
              "995   2009-01-01 04:24:00\n",
              "997   2009-01-12 21:30:00\n",
              "Name: Transaction_date, Length: 987, dtype: datetime64[ns]"
            ]
          },
          "metadata": {
            "tags": []
          },
          "execution_count": 74
        }
      ]
    },
    {
      "cell_type": "code",
      "metadata": {
        "id": "U7OevA4zO2O4",
        "colab_type": "code",
        "colab": {
          "base_uri": "https://localhost:8080/",
          "height": 34
        },
        "outputId": "901c5f85-bb8a-4f51-eeb3-493e4a6f2fd5"
      },
      "source": [
        "len(df.drop_duplicates())"
      ],
      "execution_count": 75,
      "outputs": [
        {
          "output_type": "execute_result",
          "data": {
            "text/plain": [
              "998"
            ]
          },
          "metadata": {
            "tags": []
          },
          "execution_count": 75
        }
      ]
    },
    {
      "cell_type": "code",
      "metadata": {
        "id": "L9MUVqvYPJnE",
        "colab_type": "code",
        "colab": {
          "base_uri": "https://localhost:8080/",
          "height": 34
        },
        "outputId": "927ad3dd-7729-4ce7-c7fb-99804bf0e641"
      },
      "source": [
        "len(df.drop_duplicates(['Transaction_date'])) # keep='first'"
      ],
      "execution_count": 76,
      "outputs": [
        {
          "output_type": "execute_result",
          "data": {
            "text/plain": [
              "987"
            ]
          },
          "metadata": {
            "tags": []
          },
          "execution_count": 76
        }
      ]
    },
    {
      "cell_type": "markdown",
      "metadata": {
        "id": "RfeU4JC_Pm1Z",
        "colab_type": "text"
      },
      "source": [
        "## 时间序列的操作"
      ]
    },
    {
      "cell_type": "code",
      "metadata": {
        "id": "JpL7ccW2PmTa",
        "colab_type": "code",
        "colab": {}
      },
      "source": [
        "import numpy as np\n",
        "import pandas as pd\n",
        "from pandas import Series, DataFrame"
      ],
      "execution_count": 0,
      "outputs": []
    },
    {
      "cell_type": "code",
      "metadata": {
        "id": "GhxbkbwLPVKT",
        "colab_type": "code",
        "colab": {}
      },
      "source": [
        "from datetime import datetime"
      ],
      "execution_count": 0,
      "outputs": []
    },
    {
      "cell_type": "code",
      "metadata": {
        "id": "xqmi_YRpmX43",
        "colab_type": "code",
        "colab": {
          "base_uri": "https://localhost:8080/",
          "height": 34
        },
        "outputId": "f4a12a0b-06b8-49a9-a630-d08de779f9f8"
      },
      "source": [
        "t1 = datetime(2019,10,20)\n",
        "t1"
      ],
      "execution_count": 79,
      "outputs": [
        {
          "output_type": "execute_result",
          "data": {
            "text/plain": [
              "datetime.datetime(2019, 10, 20, 0, 0)"
            ]
          },
          "metadata": {
            "tags": []
          },
          "execution_count": 79
        }
      ]
    },
    {
      "cell_type": "code",
      "metadata": {
        "id": "d13CVk4amd0Y",
        "colab_type": "code",
        "colab": {}
      },
      "source": [
        "date_list = [\n",
        "             datetime(2018,9,1),\n",
        "             datetime(2018,9,10),\n",
        "             datetime(2019,9,1),\n",
        "             datetime(2019,9,20),\n",
        "             datetime(2019,10,1)\n",
        "\n",
        "]"
      ],
      "execution_count": 0,
      "outputs": []
    },
    {
      "cell_type": "code",
      "metadata": {
        "id": "G298vC-3m8DT",
        "colab_type": "code",
        "colab": {
          "base_uri": "https://localhost:8080/",
          "height": 119
        },
        "outputId": "7e67cc22-014e-4464-c4ed-bd9ce6f69c32"
      },
      "source": [
        "s1 = Series(np.random.rand(5), index=date_list)\n",
        "s1"
      ],
      "execution_count": 81,
      "outputs": [
        {
          "output_type": "execute_result",
          "data": {
            "text/plain": [
              "2018-09-01    0.148869\n",
              "2018-09-10    0.831531\n",
              "2019-09-01    0.119344\n",
              "2019-09-20    0.062711\n",
              "2019-10-01    0.524394\n",
              "dtype: float64"
            ]
          },
          "metadata": {
            "tags": []
          },
          "execution_count": 81
        }
      ]
    },
    {
      "cell_type": "code",
      "metadata": {
        "id": "-yTTmof8nMsb",
        "colab_type": "code",
        "colab": {
          "base_uri": "https://localhost:8080/",
          "height": 68
        },
        "outputId": "e7e06972-86c4-4584-f1cd-4f8a5fe4c035"
      },
      "source": [
        "s1.index"
      ],
      "execution_count": 82,
      "outputs": [
        {
          "output_type": "execute_result",
          "data": {
            "text/plain": [
              "DatetimeIndex(['2018-09-01', '2018-09-10', '2019-09-01', '2019-09-20',\n",
              "               '2019-10-01'],\n",
              "              dtype='datetime64[ns]', freq=None)"
            ]
          },
          "metadata": {
            "tags": []
          },
          "execution_count": 82
        }
      ]
    },
    {
      "cell_type": "code",
      "metadata": {
        "id": "OQJgbaNdnTYZ",
        "colab_type": "code",
        "colab": {
          "base_uri": "https://localhost:8080/",
          "height": 34
        },
        "outputId": "eb8d02a3-1dc0-4711-d194-33ad99d35ae3"
      },
      "source": [
        "s1[1] # 下标为1 "
      ],
      "execution_count": 83,
      "outputs": [
        {
          "output_type": "execute_result",
          "data": {
            "text/plain": [
              "0.8315311013030473"
            ]
          },
          "metadata": {
            "tags": []
          },
          "execution_count": 83
        }
      ]
    },
    {
      "cell_type": "code",
      "metadata": {
        "id": "R5i3cD_5nZc6",
        "colab_type": "code",
        "colab": {
          "base_uri": "https://localhost:8080/",
          "height": 34
        },
        "outputId": "87994234-3f1f-4851-cd17-b76935263851"
      },
      "source": [
        "s1['2018-09-01']"
      ],
      "execution_count": 85,
      "outputs": [
        {
          "output_type": "execute_result",
          "data": {
            "text/plain": [
              "0.14886941800521059"
            ]
          },
          "metadata": {
            "tags": []
          },
          "execution_count": 85
        }
      ]
    },
    {
      "cell_type": "code",
      "metadata": {
        "id": "00uLjWTdnu5Q",
        "colab_type": "code",
        "colab": {
          "base_uri": "https://localhost:8080/",
          "height": 34
        },
        "outputId": "864f2eea-5612-494b-f5c0-cc1c65094aef"
      },
      "source": [
        "s1['20180901']"
      ],
      "execution_count": 86,
      "outputs": [
        {
          "output_type": "execute_result",
          "data": {
            "text/plain": [
              "0.14886941800521059"
            ]
          },
          "metadata": {
            "tags": []
          },
          "execution_count": 86
        }
      ]
    },
    {
      "cell_type": "code",
      "metadata": {
        "id": "sgazfkSRn1Dk",
        "colab_type": "code",
        "colab": {
          "base_uri": "https://localhost:8080/",
          "height": 68
        },
        "outputId": "c4f4bae0-9df8-4e70-dc78-6d40ff817371"
      },
      "source": [
        "s1['2018-09']"
      ],
      "execution_count": 88,
      "outputs": [
        {
          "output_type": "execute_result",
          "data": {
            "text/plain": [
              "2018-09-01    0.148869\n",
              "2018-09-10    0.831531\n",
              "dtype: float64"
            ]
          },
          "metadata": {
            "tags": []
          },
          "execution_count": 88
        }
      ]
    },
    {
      "cell_type": "code",
      "metadata": {
        "id": "Sq3TAgv3n3b-",
        "colab_type": "code",
        "colab": {
          "base_uri": "https://localhost:8080/",
          "height": 85
        },
        "outputId": "4f5ffbeb-d148-4009-9c36-6854eebb6134"
      },
      "source": [
        "s1['2019']"
      ],
      "execution_count": 89,
      "outputs": [
        {
          "output_type": "execute_result",
          "data": {
            "text/plain": [
              "2019-09-01    0.119344\n",
              "2019-09-20    0.062711\n",
              "2019-10-01    0.524394\n",
              "dtype: float64"
            ]
          },
          "metadata": {
            "tags": []
          },
          "execution_count": 89
        }
      ]
    },
    {
      "cell_type": "code",
      "metadata": {
        "id": "Bwt4sTWyn9SA",
        "colab_type": "code",
        "colab": {
          "base_uri": "https://localhost:8080/",
          "height": 85
        },
        "outputId": "9c92a731-01d4-437d-f4fa-f3479d5a2553"
      },
      "source": [
        "date_list2 = pd.date_range('2019-08-01',periods=10 )\n",
        "date_list2"
      ],
      "execution_count": 91,
      "outputs": [
        {
          "output_type": "execute_result",
          "data": {
            "text/plain": [
              "DatetimeIndex(['2019-08-01', '2019-08-02', '2019-08-03', '2019-08-04',\n",
              "               '2019-08-05', '2019-08-06', '2019-08-07', '2019-08-08',\n",
              "               '2019-08-09', '2019-08-10'],\n",
              "              dtype='datetime64[ns]', freq='D')"
            ]
          },
          "metadata": {
            "tags": []
          },
          "execution_count": 91
        }
      ]
    },
    {
      "cell_type": "code",
      "metadata": {
        "id": "dn8B_T01oWxB",
        "colab_type": "code",
        "colab": {
          "base_uri": "https://localhost:8080/",
          "height": 85
        },
        "outputId": "42828fb7-8569-4085-ee0f-37346f614592"
      },
      "source": [
        "date_list2 = pd.date_range('2019-08-01',periods=10,freq='W' )\n",
        "date_list2"
      ],
      "execution_count": 93,
      "outputs": [
        {
          "output_type": "execute_result",
          "data": {
            "text/plain": [
              "DatetimeIndex(['2019-08-04', '2019-08-11', '2019-08-18', '2019-08-25',\n",
              "               '2019-09-01', '2019-09-08', '2019-09-15', '2019-09-22',\n",
              "               '2019-09-29', '2019-10-06'],\n",
              "              dtype='datetime64[ns]', freq='W-SUN')"
            ]
          },
          "metadata": {
            "tags": []
          },
          "execution_count": 93
        }
      ]
    },
    {
      "cell_type": "code",
      "metadata": {
        "id": "29oGflDfogxi",
        "colab_type": "code",
        "colab": {
          "base_uri": "https://localhost:8080/",
          "height": 119
        },
        "outputId": "15fa1f80-efe2-4de8-b18d-25f562ab83bb"
      },
      "source": [
        "date_list2 = pd.date_range('2019-08-01',periods=10,freq='5H' )\n",
        "date_list2"
      ],
      "execution_count": 94,
      "outputs": [
        {
          "output_type": "execute_result",
          "data": {
            "text/plain": [
              "DatetimeIndex(['2019-08-01 00:00:00', '2019-08-01 05:00:00',\n",
              "               '2019-08-01 10:00:00', '2019-08-01 15:00:00',\n",
              "               '2019-08-01 20:00:00', '2019-08-02 01:00:00',\n",
              "               '2019-08-02 06:00:00', '2019-08-02 11:00:00',\n",
              "               '2019-08-02 16:00:00', '2019-08-02 21:00:00'],\n",
              "              dtype='datetime64[ns]', freq='5H')"
            ]
          },
          "metadata": {
            "tags": []
          },
          "execution_count": 94
        }
      ]
    },
    {
      "cell_type": "code",
      "metadata": {
        "id": "O-f-4ErdopDC",
        "colab_type": "code",
        "colab": {
          "base_uri": "https://localhost:8080/",
          "height": 346
        },
        "outputId": "6d5bab00-4d8b-4ab4-d11a-67d3080b6ec1"
      },
      "source": [
        "stock_df = DataFrame(index=date_list2)\n",
        "stock_df['BABA']=np.random.randint(80,160,size=len(date_list2))\n",
        "stock_df"
      ],
      "execution_count": 96,
      "outputs": [
        {
          "output_type": "execute_result",
          "data": {
            "text/html": [
              "<div>\n",
              "<style scoped>\n",
              "    .dataframe tbody tr th:only-of-type {\n",
              "        vertical-align: middle;\n",
              "    }\n",
              "\n",
              "    .dataframe tbody tr th {\n",
              "        vertical-align: top;\n",
              "    }\n",
              "\n",
              "    .dataframe thead th {\n",
              "        text-align: right;\n",
              "    }\n",
              "</style>\n",
              "<table border=\"1\" class=\"dataframe\">\n",
              "  <thead>\n",
              "    <tr style=\"text-align: right;\">\n",
              "      <th></th>\n",
              "      <th>BABA</th>\n",
              "    </tr>\n",
              "  </thead>\n",
              "  <tbody>\n",
              "    <tr>\n",
              "      <th>2019-08-01 00:00:00</th>\n",
              "      <td>131</td>\n",
              "    </tr>\n",
              "    <tr>\n",
              "      <th>2019-08-01 05:00:00</th>\n",
              "      <td>109</td>\n",
              "    </tr>\n",
              "    <tr>\n",
              "      <th>2019-08-01 10:00:00</th>\n",
              "      <td>127</td>\n",
              "    </tr>\n",
              "    <tr>\n",
              "      <th>2019-08-01 15:00:00</th>\n",
              "      <td>80</td>\n",
              "    </tr>\n",
              "    <tr>\n",
              "      <th>2019-08-01 20:00:00</th>\n",
              "      <td>111</td>\n",
              "    </tr>\n",
              "    <tr>\n",
              "      <th>2019-08-02 01:00:00</th>\n",
              "      <td>152</td>\n",
              "    </tr>\n",
              "    <tr>\n",
              "      <th>2019-08-02 06:00:00</th>\n",
              "      <td>86</td>\n",
              "    </tr>\n",
              "    <tr>\n",
              "      <th>2019-08-02 11:00:00</th>\n",
              "      <td>116</td>\n",
              "    </tr>\n",
              "    <tr>\n",
              "      <th>2019-08-02 16:00:00</th>\n",
              "      <td>141</td>\n",
              "    </tr>\n",
              "    <tr>\n",
              "      <th>2019-08-02 21:00:00</th>\n",
              "      <td>92</td>\n",
              "    </tr>\n",
              "  </tbody>\n",
              "</table>\n",
              "</div>"
            ],
            "text/plain": [
              "                     BABA\n",
              "2019-08-01 00:00:00   131\n",
              "2019-08-01 05:00:00   109\n",
              "2019-08-01 10:00:00   127\n",
              "2019-08-01 15:00:00    80\n",
              "2019-08-01 20:00:00   111\n",
              "2019-08-02 01:00:00   152\n",
              "2019-08-02 06:00:00    86\n",
              "2019-08-02 11:00:00   116\n",
              "2019-08-02 16:00:00   141\n",
              "2019-08-02 21:00:00    92"
            ]
          },
          "metadata": {
            "tags": []
          },
          "execution_count": 96
        }
      ]
    },
    {
      "cell_type": "code",
      "metadata": {
        "id": "7Bv7l7cM08GH",
        "colab_type": "code",
        "colab": {}
      },
      "source": [
        "stock_df['Tencent']=np.random.randint(30,50,size=len(date_list2))"
      ],
      "execution_count": 0,
      "outputs": []
    },
    {
      "cell_type": "code",
      "metadata": {
        "id": "xmGNl6H01MpJ",
        "colab_type": "code",
        "colab": {
          "base_uri": "https://localhost:8080/",
          "height": 289
        },
        "outputId": "478c9319-63dc-424d-b2e5-51a0fa8def1a"
      },
      "source": [
        "import matplotlib.pyplot as plt\n",
        "stock_df.plot()\n",
        "plt.show()"
      ],
      "execution_count": 98,
      "outputs": [
        {
          "output_type": "display_data",
          "data": {
            "image/png": "[encoded data removed]",
            "text/plain": [
              "<Figure size 432x288 with 1 Axes>"
            ]
          },
          "metadata": {
            "tags": []
          }
        }
      ]
    },
    {
      "cell_type": "markdown",
      "metadata": {
        "id": "ZVw-xlHl15m-",
        "colab_type": "text"
      },
      "source": [
        "## 数据分箱技术"
      ]
    },
    {
      "cell_type": "code",
      "metadata": {
        "id": "0nRGc2Er1ZGC",
        "colab_type": "code",
        "colab": {}
      },
      "source": [
        "score_list = np.random.randint(25,100, size= 20)"
      ],
      "execution_count": 0,
      "outputs": []
    },
    {
      "cell_type": "code",
      "metadata": {
        "id": "sq4dOy8p3Nr5",
        "colab_type": "code",
        "colab": {}
      },
      "source": [
        "bins = [0,59,70,80,100]"
      ],
      "execution_count": 0,
      "outputs": []
    },
    {
      "cell_type": "code",
      "metadata": {
        "id": "_HVpFzFW3WCE",
        "colab_type": "code",
        "colab": {}
      },
      "source": [
        "score_cat = pd.cut(score_list,bins)"
      ],
      "execution_count": 0,
      "outputs": []
    },
    {
      "cell_type": "code",
      "metadata": {
        "id": "kXw5U8lw3ZhB",
        "colab_type": "code",
        "colab": {
          "base_uri": "https://localhost:8080/",
          "height": 102
        },
        "outputId": "3dc312e5-18b7-4015-e142-c53a1f4e43c5"
      },
      "source": [
        "pd.value_counts(score_cat)"
      ],
      "execution_count": 103,
      "outputs": [
        {
          "output_type": "execute_result",
          "data": {
            "text/plain": [
              "(0, 59]      8\n",
              "(80, 100]    6\n",
              "(59, 70]     4\n",
              "(70, 80]     2\n",
              "dtype: int64"
            ]
          },
          "metadata": {
            "tags": []
          },
          "execution_count": 103
        }
      ]
    },
    {
      "cell_type": "code",
      "metadata": {
        "id": "gQvjitIe3ilX",
        "colab_type": "code",
        "colab": {}
      },
      "source": [
        "df = DataFrame()"
      ],
      "execution_count": 0,
      "outputs": []
    },
    {
      "cell_type": "code",
      "metadata": {
        "id": "CH211HaQ3mer",
        "colab_type": "code",
        "colab": {}
      },
      "source": [
        "df['score'] = score_list"
      ],
      "execution_count": 0,
      "outputs": []
    },
    {
      "cell_type": "code",
      "metadata": {
        "id": "kb5gjTMa3rJM",
        "colab_type": "code",
        "colab": {}
      },
      "source": [
        "df['student'] = [pd.util.testing.rands(3) for i in range(20)]"
      ],
      "execution_count": 0,
      "outputs": []
    },
    {
      "cell_type": "code",
      "metadata": {
        "id": "LB3s87FP3y_N",
        "colab_type": "code",
        "colab": {
          "base_uri": "https://localhost:8080/",
          "height": 644
        },
        "outputId": "bd81b5a4-0fa4-4adf-e00f-e226bca696dd"
      },
      "source": [
        "df"
      ],
      "execution_count": 107,
      "outputs": [
        {
          "output_type": "execute_result",
          "data": {
            "text/html": [
              "<div>\n",
              "<style scoped>\n",
              "    .dataframe tbody tr th:only-of-type {\n",
              "        vertical-align: middle;\n",
              "    }\n",
              "\n",
              "    .dataframe tbody tr th {\n",
              "        vertical-align: top;\n",
              "    }\n",
              "\n",
              "    .dataframe thead th {\n",
              "        text-align: right;\n",
              "    }\n",
              "</style>\n",
              "<table border=\"1\" class=\"dataframe\">\n",
              "  <thead>\n",
              "    <tr style=\"text-align: right;\">\n",
              "      <th></th>\n",
              "      <th>score</th>\n",
              "      <th>student</th>\n",
              "    </tr>\n",
              "  </thead>\n",
              "  <tbody>\n",
              "    <tr>\n",
              "      <th>0</th>\n",
              "      <td>54</td>\n",
              "      <td>r1E</td>\n",
              "    </tr>\n",
              "    <tr>\n",
              "      <th>1</th>\n",
              "      <td>75</td>\n",
              "      <td>IAo</td>\n",
              "    </tr>\n",
              "    <tr>\n",
              "      <th>2</th>\n",
              "      <td>89</td>\n",
              "      <td>j0U</td>\n",
              "    </tr>\n",
              "    <tr>\n",
              "      <th>3</th>\n",
              "      <td>92</td>\n",
              "      <td>NdX</td>\n",
              "    </tr>\n",
              "    <tr>\n",
              "      <th>4</th>\n",
              "      <td>98</td>\n",
              "      <td>Qd9</td>\n",
              "    </tr>\n",
              "    <tr>\n",
              "      <th>5</th>\n",
              "      <td>64</td>\n",
              "      <td>RxL</td>\n",
              "    </tr>\n",
              "    <tr>\n",
              "      <th>6</th>\n",
              "      <td>53</td>\n",
              "      <td>4NG</td>\n",
              "    </tr>\n",
              "    <tr>\n",
              "      <th>7</th>\n",
              "      <td>86</td>\n",
              "      <td>nuZ</td>\n",
              "    </tr>\n",
              "    <tr>\n",
              "      <th>8</th>\n",
              "      <td>57</td>\n",
              "      <td>RL6</td>\n",
              "    </tr>\n",
              "    <tr>\n",
              "      <th>9</th>\n",
              "      <td>64</td>\n",
              "      <td>21K</td>\n",
              "    </tr>\n",
              "    <tr>\n",
              "      <th>10</th>\n",
              "      <td>84</td>\n",
              "      <td>BUZ</td>\n",
              "    </tr>\n",
              "    <tr>\n",
              "      <th>11</th>\n",
              "      <td>49</td>\n",
              "      <td>G8Y</td>\n",
              "    </tr>\n",
              "    <tr>\n",
              "      <th>12</th>\n",
              "      <td>37</td>\n",
              "      <td>DFc</td>\n",
              "    </tr>\n",
              "    <tr>\n",
              "      <th>13</th>\n",
              "      <td>74</td>\n",
              "      <td>cea</td>\n",
              "    </tr>\n",
              "    <tr>\n",
              "      <th>14</th>\n",
              "      <td>41</td>\n",
              "      <td>zup</td>\n",
              "    </tr>\n",
              "    <tr>\n",
              "      <th>15</th>\n",
              "      <td>46</td>\n",
              "      <td>8UK</td>\n",
              "    </tr>\n",
              "    <tr>\n",
              "      <th>16</th>\n",
              "      <td>69</td>\n",
              "      <td>k75</td>\n",
              "    </tr>\n",
              "    <tr>\n",
              "      <th>17</th>\n",
              "      <td>92</td>\n",
              "      <td>ZrK</td>\n",
              "    </tr>\n",
              "    <tr>\n",
              "      <th>18</th>\n",
              "      <td>69</td>\n",
              "      <td>dZ2</td>\n",
              "    </tr>\n",
              "    <tr>\n",
              "      <th>19</th>\n",
              "      <td>25</td>\n",
              "      <td>AZf</td>\n",
              "    </tr>\n",
              "  </tbody>\n",
              "</table>\n",
              "</div>"
            ],
            "text/plain": [
              "    score student\n",
              "0      54     r1E\n",
              "1      75     IAo\n",
              "2      89     j0U\n",
              "3      92     NdX\n",
              "4      98     Qd9\n",
              "5      64     RxL\n",
              "6      53     4NG\n",
              "7      86     nuZ\n",
              "8      57     RL6\n",
              "9      64     21K\n",
              "10     84     BUZ\n",
              "11     49     G8Y\n",
              "12     37     DFc\n",
              "13     74     cea\n",
              "14     41     zup\n",
              "15     46     8UK\n",
              "16     69     k75\n",
              "17     92     ZrK\n",
              "18     69     dZ2\n",
              "19     25     AZf"
            ]
          },
          "metadata": {
            "tags": []
          },
          "execution_count": 107
        }
      ]
    },
    {
      "cell_type": "code",
      "metadata": {
        "id": "qmzkIRap31ZQ",
        "colab_type": "code",
        "colab": {
          "base_uri": "https://localhost:8080/",
          "height": 644
        },
        "outputId": "fcf85c00-3dfd-4897-fa11-581903e52f0d"
      },
      "source": [
        "df['Catagories'] = pd.cut(df['score'],bins, labels=['low','Ok','good','great'])\n",
        "df"
      ],
      "execution_count": 108,
      "outputs": [
        {
          "output_type": "execute_result",
          "data": {
            "text/html": [
              "<div>\n",
              "<style scoped>\n",
              "    .dataframe tbody tr th:only-of-type {\n",
              "        vertical-align: middle;\n",
              "    }\n",
              "\n",
              "    .dataframe tbody tr th {\n",
              "        vertical-align: top;\n",
              "    }\n",
              "\n",
              "    .dataframe thead th {\n",
              "        text-align: right;\n",
              "    }\n",
              "</style>\n",
              "<table border=\"1\" class=\"dataframe\">\n",
              "  <thead>\n",
              "    <tr style=\"text-align: right;\">\n",
              "      <th></th>\n",
              "      <th>score</th>\n",
              "      <th>student</th>\n",
              "      <th>Catagories</th>\n",
              "    </tr>\n",
              "  </thead>\n",
              "  <tbody>\n",
              "    <tr>\n",
              "      <th>0</th>\n",
              "      <td>54</td>\n",
              "      <td>r1E</td>\n",
              "      <td>low</td>\n",
              "    </tr>\n",
              "    <tr>\n",
              "      <th>1</th>\n",
              "      <td>75</td>\n",
              "      <td>IAo</td>\n",
              "      <td>good</td>\n",
              "    </tr>\n",
              "    <tr>\n",
              "      <th>2</th>\n",
              "      <td>89</td>\n",
              "      <td>j0U</td>\n",
              "      <td>great</td>\n",
              "    </tr>\n",
              "    <tr>\n",
              "      <th>3</th>\n",
              "      <td>92</td>\n",
              "      <td>NdX</td>\n",
              "      <td>great</td>\n",
              "    </tr>\n",
              "    <tr>\n",
              "      <th>4</th>\n",
              "      <td>98</td>\n",
              "      <td>Qd9</td>\n",
              "      <td>great</td>\n",
              "    </tr>\n",
              "    <tr>\n",
              "      <th>5</th>\n",
              "      <td>64</td>\n",
              "      <td>RxL</td>\n",
              "      <td>Ok</td>\n",
              "    </tr>\n",
              "    <tr>\n",
              "      <th>6</th>\n",
              "      <td>53</td>\n",
              "      <td>4NG</td>\n",
              "      <td>low</td>\n",
              "    </tr>\n",
              "    <tr>\n",
              "      <th>7</th>\n",
              "      <td>86</td>\n",
              "      <td>nuZ</td>\n",
              "      <td>great</td>\n",
              "    </tr>\n",
              "    <tr>\n",
              "      <th>8</th>\n",
              "      <td>57</td>\n",
              "      <td>RL6</td>\n",
              "      <td>low</td>\n",
              "    </tr>\n",
              "    <tr>\n",
              "      <th>9</th>\n",
              "      <td>64</td>\n",
              "      <td>21K</td>\n",
              "      <td>Ok</td>\n",
              "    </tr>\n",
              "    <tr>\n",
              "      <th>10</th>\n",
              "      <td>84</td>\n",
              "      <td>BUZ</td>\n",
              "      <td>great</td>\n",
              "    </tr>\n",
              "    <tr>\n",
              "      <th>11</th>\n",
              "      <td>49</td>\n",
              "      <td>G8Y</td>\n",
              "      <td>low</td>\n",
              "    </tr>\n",
              "    <tr>\n",
              "      <th>12</th>\n",
              "      <td>37</td>\n",
              "      <td>DFc</td>\n",
              "      <td>low</td>\n",
              "    </tr>\n",
              "    <tr>\n",
              "      <th>13</th>\n",
              "      <td>74</td>\n",
              "      <td>cea</td>\n",
              "      <td>good</td>\n",
              "    </tr>\n",
              "    <tr>\n",
              "      <th>14</th>\n",
              "      <td>41</td>\n",
              "      <td>zup</td>\n",
              "      <td>low</td>\n",
              "    </tr>\n",
              "    <tr>\n",
              "      <th>15</th>\n",
              "      <td>46</td>\n",
              "      <td>8UK</td>\n",
              "      <td>low</td>\n",
              "    </tr>\n",
              "    <tr>\n",
              "      <th>16</th>\n",
              "      <td>69</td>\n",
              "      <td>k75</td>\n",
              "      <td>Ok</td>\n",
              "    </tr>\n",
              "    <tr>\n",
              "      <th>17</th>\n",
              "      <td>92</td>\n",
              "      <td>ZrK</td>\n",
              "      <td>great</td>\n",
              "    </tr>\n",
              "    <tr>\n",
              "      <th>18</th>\n",
              "      <td>69</td>\n",
              "      <td>dZ2</td>\n",
              "      <td>Ok</td>\n",
              "    </tr>\n",
              "    <tr>\n",
              "      <th>19</th>\n",
              "      <td>25</td>\n",
              "      <td>AZf</td>\n",
              "      <td>low</td>\n",
              "    </tr>\n",
              "  </tbody>\n",
              "</table>\n",
              "</div>"
            ],
            "text/plain": [
              "    score student Catagories\n",
              "0      54     r1E        low\n",
              "1      75     IAo       good\n",
              "2      89     j0U      great\n",
              "3      92     NdX      great\n",
              "4      98     Qd9      great\n",
              "5      64     RxL         Ok\n",
              "6      53     4NG        low\n",
              "7      86     nuZ      great\n",
              "8      57     RL6        low\n",
              "9      64     21K         Ok\n",
              "10     84     BUZ      great\n",
              "11     49     G8Y        low\n",
              "12     37     DFc        low\n",
              "13     74     cea       good\n",
              "14     41     zup        low\n",
              "15     46     8UK        low\n",
              "16     69     k75         Ok\n",
              "17     92     ZrK      great\n",
              "18     69     dZ2         Ok\n",
              "19     25     AZf        low"
            ]
          },
          "metadata": {
            "tags": []
          },
          "execution_count": 108
        }
      ]
    },
    {
      "cell_type": "markdown",
      "metadata": {
        "id": "Ri7IKK-v4Rue",
        "colab_type": "text"
      },
      "source": [
        "## 数据分组技术 Group by "
      ]
    },
    {
      "cell_type": "markdown",
      "metadata": {
        "id": "0YKV49E56O7q",
        "colab_type": "text"
      },
      "source": [
        "## 数据聚合技术 Aggregation"
      ]
    },
    {
      "cell_type": "code",
      "metadata": {
        "id": "3ka8wt7m4KRW",
        "colab_type": "code",
        "colab": {}
      },
      "source": [
        ""
      ],
      "execution_count": 0,
      "outputs": []
    }
  ]
}